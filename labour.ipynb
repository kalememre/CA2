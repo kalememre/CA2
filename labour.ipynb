{
 "cells": [
  {
   "cell_type": "code",
   "execution_count": 91,
   "metadata": {},
   "outputs": [],
   "source": [
    "import pandas as pd"
   ]
  },
  {
   "cell_type": "code",
   "execution_count": 92,
   "metadata": {},
   "outputs": [],
   "source": [
    "df = pd.read_csv('labour.csv')"
   ]
  },
  {
   "attachments": {},
   "cell_type": "markdown",
   "metadata": {},
   "source": [
    " - Here I am aiming to save my dataset in mysql database and use it in my project. I will use the sqlalchemy library for this.\n",
    " - I will have to define an engine() for this process, but before that, two different situations arise as a connection string. This is because I will first connect to my database and create a database with a name I want. Then, in order to save my dataset to the database, I need to reconnect my engine() connection with the name of the database I created.\n",
    " - It looks like a code mess, but whatever method I tried, I couldn't succeed. For the reasons I explained in the previous article, I had to manage engine() with two different connection strings in this way.\n",
    " - Instead of using a local mysql solution, I created an azure mysql database, which is one of the free services specially defined for students, using the azure portal of the microsoft company and I will use it in my project."
   ]
  },
  {
   "cell_type": "code",
   "execution_count": 116,
   "metadata": {},
   "outputs": [
    {
     "name": "stdout",
     "output_type": "stream",
     "text": [
      "2023-05-07 21:51:47,750 INFO sqlalchemy.engine.Engine SELECT DATABASE()\n",
      "2023-05-07 21:51:47,751 INFO sqlalchemy.engine.Engine [raw sql] {}\n",
      "2023-05-07 21:51:48,265 INFO sqlalchemy.engine.Engine SELECT @@sql_mode\n",
      "2023-05-07 21:51:48,267 INFO sqlalchemy.engine.Engine [raw sql] {}\n",
      "2023-05-07 21:51:48,518 INFO sqlalchemy.engine.Engine SELECT @@lower_case_table_names\n",
      "2023-05-07 21:51:48,519 INFO sqlalchemy.engine.Engine [raw sql] {}\n",
      "2023-05-07 21:51:48,852 INFO sqlalchemy.engine.Engine BEGIN (implicit)\n",
      "2023-05-07 21:51:48,854 INFO sqlalchemy.engine.Engine CREATE DATABASE IF NOT EXISTS cct_db;\n",
      "2023-05-07 21:51:48,855 INFO sqlalchemy.engine.Engine [generated in 0.16937s] {}\n",
      "2023-05-07 21:51:48,937 INFO sqlalchemy.engine.Engine ROLLBACK\n"
     ]
    }
   ],
   "source": [
    "from sqlalchemy import create_engine, text\n",
    "\n",
    "user = 'ca2023'\n",
    "password = 'CCT2023!'\n",
    "host = 'cctmysql.mysql.database.azure.com'\n",
    "port = 3306\n",
    "database = 'cct_db'\n",
    "\n",
    "engine_url = f'mysql+mysqlconnector://{user}:{password}@{host}:{port}'\n",
    "db_url = f'mysql+mysqlconnector://{user}:{password}@{host}:{port}/{database}'\n",
    "\n",
    "engine = create_engine(engine_url, echo=True)\n",
    "\n",
    "with engine.connect() as conn:\n",
    "    conn.execute(text(f\"CREATE DATABASE IF NOT EXISTS {database};\"))\n",
    "    conn.close()\n",
    "\n",
    "    "
   ]
  },
  {
   "attachments": {},
   "cell_type": "markdown",
   "metadata": {},
   "source": [
    " - Now that I have created my database, I will send the dataframe to my database using my connection string containing the database for engine().\n",
    " - I carry out my process by checking for errors due to the possibility of the current table name being in the database.\n",
    " - I am performing my operation using the **to_sql()** function of the pandas library."
   ]
  },
  {
   "cell_type": "code",
   "execution_count": 117,
   "metadata": {},
   "outputs": [
    {
     "name": "stdout",
     "output_type": "stream",
     "text": [
      "2023-05-07 21:51:50,854 INFO sqlalchemy.engine.Engine SELECT DATABASE()\n",
      "2023-05-07 21:51:50,855 INFO sqlalchemy.engine.Engine [raw sql] {}\n",
      "2023-05-07 21:51:51,330 INFO sqlalchemy.engine.Engine SELECT @@sql_mode\n",
      "2023-05-07 21:51:51,330 INFO sqlalchemy.engine.Engine [raw sql] {}\n",
      "2023-05-07 21:51:51,585 INFO sqlalchemy.engine.Engine SELECT @@lower_case_table_names\n",
      "2023-05-07 21:51:51,586 INFO sqlalchemy.engine.Engine [raw sql] {}\n",
      "2023-05-07 21:51:51,993 INFO sqlalchemy.engine.Engine BEGIN (implicit)\n",
      "2023-05-07 21:51:51,994 INFO sqlalchemy.engine.Engine DESCRIBE `cct_db`.`labour`\n",
      "2023-05-07 21:51:51,995 INFO sqlalchemy.engine.Engine [raw sql] {}\n",
      "2023-05-07 21:51:52,076 INFO sqlalchemy.engine.Engine ROLLBACK\n",
      "Table 'labour' already exists.\n"
     ]
    }
   ],
   "source": [
    "engine = create_engine(db_url, echo=True)\n",
    "try:\n",
    "    df.to_sql('labour', con=engine, if_exists='fail', index=False)\n",
    "except Exception as ex:\n",
    "    print(ex)\n",
    "else:\n",
    "    print(\"Table created\")"
   ]
  },
  {
   "cell_type": "code",
   "execution_count": 118,
   "metadata": {},
   "outputs": [
    {
     "name": "stdout",
     "output_type": "stream",
     "text": [
      "2023-05-07 21:51:53,822 INFO sqlalchemy.engine.Engine BEGIN (implicit)\n",
      "2023-05-07 21:51:53,822 INFO sqlalchemy.engine.Engine DESCRIBE `cct_db`.`labour`\n",
      "2023-05-07 21:51:53,823 INFO sqlalchemy.engine.Engine [raw sql] {}\n",
      "2023-05-07 21:51:54,095 INFO sqlalchemy.engine.Engine SHOW CREATE TABLE `labour`\n",
      "2023-05-07 21:51:54,096 INFO sqlalchemy.engine.Engine [raw sql] {}\n",
      "2023-05-07 21:51:54,356 INFO sqlalchemy.engine.Engine SELECT labour.`STRUCTURE`, labour.`STRUCTURE_ID`, labour.freq, labour.indic_bt, labour.nace_r2, labour.s_adj, labour.unit, labour.geo, labour.`TIME_PERIOD`, labour.`OBS_VALUE`, labour.`OBS_FLAG` \n",
      "FROM labour\n",
      "2023-05-07 21:51:54,357 INFO sqlalchemy.engine.Engine [generated in 0.17773s] {}\n"
     ]
    }
   ],
   "source": [
    "conn = engine.connect()\n",
    "sqldf = pd.read_sql_table('labour', conn)"
   ]
  },
  {
   "cell_type": "code",
   "execution_count": null,
   "metadata": {},
   "outputs": [],
   "source": []
  }
 ],
 "metadata": {
  "kernelspec": {
   "display_name": "Python 3",
   "language": "python",
   "name": "python3"
  },
  "language_info": {
   "codemirror_mode": {
    "name": "ipython",
    "version": 3
   },
   "file_extension": ".py",
   "mimetype": "text/x-python",
   "name": "python",
   "nbconvert_exporter": "python",
   "pygments_lexer": "ipython3",
   "version": "3.11.3"
  },
  "orig_nbformat": 4
 },
 "nbformat": 4,
 "nbformat_minor": 2
}

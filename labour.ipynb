{
 "cells": [
  {
   "cell_type": "code",
   "execution_count": 3,
   "metadata": {},
   "outputs": [],
   "source": [
    "import pandas as pd"
   ]
  },
  {
   "cell_type": "code",
   "execution_count": 4,
   "metadata": {},
   "outputs": [],
   "source": [
    "df = pd.read_csv('labour.csv')"
   ]
  },
  {
   "attachments": {},
   "cell_type": "markdown",
   "metadata": {},
   "source": [
    " - Here I am aiming to save my dataset in mysql database and use it in my project. I will use the sqlalchemy library for this.\n",
    " - I will have to define an engine() for this process, but before that, two different situations arise as a connection string. This is because I will first connect to my database and create a database with a name I want. Then, in order to save my dataset to the database, I need to reconnect my engine() connection with the name of the database I created.\n",
    " - It looks like a code mess, but whatever method I tried, I couldn't succeed. For the reasons I explained in the previous article, I had to manage engine() with two different connection strings in this way.\n",
    " - Instead of using a local mysql solution, I created an azure mysql database, which is one of the free services specially defined for students, using the azure portal of the microsoft company and I will use it in my project."
   ]
  },
  {
   "cell_type": "code",
   "execution_count": 5,
   "metadata": {},
   "outputs": [
    {
     "name": "stdout",
     "output_type": "stream",
     "text": [
      "2023-05-13 16:15:51,545 INFO sqlalchemy.engine.Engine SELECT DATABASE()\n",
      "2023-05-13 16:15:51,547 INFO sqlalchemy.engine.Engine [raw sql] {}\n",
      "2023-05-13 16:15:52,049 INFO sqlalchemy.engine.Engine SELECT @@sql_mode\n",
      "2023-05-13 16:15:52,050 INFO sqlalchemy.engine.Engine [raw sql] {}\n",
      "2023-05-13 16:15:52,312 INFO sqlalchemy.engine.Engine SELECT @@lower_case_table_names\n",
      "2023-05-13 16:15:52,313 INFO sqlalchemy.engine.Engine [raw sql] {}\n",
      "2023-05-13 16:15:52,630 INFO sqlalchemy.engine.Engine BEGIN (implicit)\n",
      "2023-05-13 16:15:52,630 INFO sqlalchemy.engine.Engine CREATE DATABASE IF NOT EXISTS cct_db;\n",
      "2023-05-13 16:15:52,631 INFO sqlalchemy.engine.Engine [generated in 0.16460s] {}\n",
      "2023-05-13 16:15:52,769 INFO sqlalchemy.engine.Engine ROLLBACK\n"
     ]
    }
   ],
   "source": [
    "from sqlalchemy import create_engine, text\n",
    "\n",
    "user = 'ca2023'\n",
    "password = 'CCT2023!'\n",
    "host = 'cctmysql.mysql.database.azure.com'\n",
    "port = 3306\n",
    "database = 'cct_db'\n",
    "\n",
    "engine_url = f'mysql+mysqlconnector://{user}:{password}@{host}:{port}'\n",
    "db_url = f'mysql+mysqlconnector://{user}:{password}@{host}:{port}/{database}'\n",
    "\n",
    "engine = create_engine(engine_url, echo=True)\n",
    "\n",
    "with engine.connect() as conn:\n",
    "    conn.execute(text(f\"CREATE DATABASE IF NOT EXISTS {database};\"))\n",
    "    conn.close()\n",
    "\n",
    "    "
   ]
  },
  {
   "attachments": {},
   "cell_type": "markdown",
   "metadata": {},
   "source": [
    " - Now that I have created my database, I will send the dataframe to my database using my connection string containing the database for engine().\n",
    " - I carry out my process by checking for errors due to the possibility of the current table name being in the database.\n",
    " - I am performing my operation using the **to_sql()** function of the pandas library."
   ]
  },
  {
   "cell_type": "code",
   "execution_count": 6,
   "metadata": {},
   "outputs": [
    {
     "name": "stdout",
     "output_type": "stream",
     "text": [
      "2023-05-13 16:15:53,847 INFO sqlalchemy.engine.Engine SELECT DATABASE()\n",
      "2023-05-13 16:15:53,848 INFO sqlalchemy.engine.Engine [raw sql] {}\n",
      "2023-05-13 16:15:54,366 INFO sqlalchemy.engine.Engine SELECT @@sql_mode\n",
      "2023-05-13 16:15:54,368 INFO sqlalchemy.engine.Engine [raw sql] {}\n",
      "2023-05-13 16:15:54,625 INFO sqlalchemy.engine.Engine SELECT @@lower_case_table_names\n",
      "2023-05-13 16:15:54,626 INFO sqlalchemy.engine.Engine [raw sql] {}\n",
      "2023-05-13 16:15:55,091 INFO sqlalchemy.engine.Engine BEGIN (implicit)\n",
      "2023-05-13 16:15:55,091 INFO sqlalchemy.engine.Engine DESCRIBE `cct_db`.`labour`\n",
      "2023-05-13 16:15:55,091 INFO sqlalchemy.engine.Engine [raw sql] {}\n",
      "2023-05-13 16:15:55,175 INFO sqlalchemy.engine.Engine ROLLBACK\n",
      "Table 'labour' already exists.\n"
     ]
    }
   ],
   "source": [
    "engine = create_engine(db_url, echo=True)\n",
    "try:\n",
    "    df.to_sql('labour', con=engine, if_exists='fail', index=False)\n",
    "except Exception as ex:\n",
    "    print(ex)\n",
    "else:\n",
    "    print(\"Table created\")"
   ]
  },
  {
   "cell_type": "code",
   "execution_count": 7,
   "metadata": {},
   "outputs": [
    {
     "name": "stdout",
     "output_type": "stream",
     "text": [
      "2023-05-13 16:15:55,452 INFO sqlalchemy.engine.Engine BEGIN (implicit)\n",
      "2023-05-13 16:15:55,453 INFO sqlalchemy.engine.Engine DESCRIBE `cct_db`.`labour`\n",
      "2023-05-13 16:15:55,453 INFO sqlalchemy.engine.Engine [raw sql] {}\n",
      "2023-05-13 16:15:55,724 INFO sqlalchemy.engine.Engine SHOW CREATE TABLE `labour`\n",
      "2023-05-13 16:15:55,725 INFO sqlalchemy.engine.Engine [raw sql] {}\n",
      "2023-05-13 16:15:55,989 INFO sqlalchemy.engine.Engine SELECT labour.`STRUCTURE`, labour.`STRUCTURE_ID`, labour.freq, labour.indic_bt, labour.nace_r2, labour.s_adj, labour.unit, labour.geo, labour.`TIME_PERIOD`, labour.`OBS_VALUE`, labour.`OBS_FLAG` \n",
      "FROM labour\n",
      "2023-05-13 16:15:55,990 INFO sqlalchemy.engine.Engine [generated in 0.17848s] {}\n"
     ]
    }
   ],
   "source": [
    "conn = engine.connect()\n",
    "sqldf = pd.read_sql_table('labour', conn)"
   ]
  },
  {
   "cell_type": "code",
   "execution_count": 8,
   "metadata": {},
   "outputs": [
    {
     "data": {
      "text/html": [
       "<div>\n",
       "<style scoped>\n",
       "    .dataframe tbody tr th:only-of-type {\n",
       "        vertical-align: middle;\n",
       "    }\n",
       "\n",
       "    .dataframe tbody tr th {\n",
       "        vertical-align: top;\n",
       "    }\n",
       "\n",
       "    .dataframe thead th {\n",
       "        text-align: right;\n",
       "    }\n",
       "</style>\n",
       "<table border=\"1\" class=\"dataframe\">\n",
       "  <thead>\n",
       "    <tr style=\"text-align: right;\">\n",
       "      <th></th>\n",
       "      <th>STRUCTURE</th>\n",
       "      <th>STRUCTURE_ID</th>\n",
       "      <th>freq</th>\n",
       "      <th>indic_bt</th>\n",
       "      <th>nace_r2</th>\n",
       "      <th>s_adj</th>\n",
       "      <th>unit</th>\n",
       "      <th>geo</th>\n",
       "      <th>TIME_PERIOD</th>\n",
       "      <th>OBS_VALUE</th>\n",
       "      <th>OBS_FLAG</th>\n",
       "    </tr>\n",
       "  </thead>\n",
       "  <tbody>\n",
       "    <tr>\n",
       "      <th>0</th>\n",
       "      <td>dataflow</td>\n",
       "      <td>ESTAT:STS_COLB_A(1.0)</td>\n",
       "      <td>A</td>\n",
       "      <td>EMPL</td>\n",
       "      <td>F</td>\n",
       "      <td>NSA</td>\n",
       "      <td>I10</td>\n",
       "      <td>AL</td>\n",
       "      <td>2005</td>\n",
       "      <td>76.9</td>\n",
       "      <td>None</td>\n",
       "    </tr>\n",
       "    <tr>\n",
       "      <th>1</th>\n",
       "      <td>dataflow</td>\n",
       "      <td>ESTAT:STS_COLB_A(1.0)</td>\n",
       "      <td>A</td>\n",
       "      <td>EMPL</td>\n",
       "      <td>F</td>\n",
       "      <td>NSA</td>\n",
       "      <td>I10</td>\n",
       "      <td>AL</td>\n",
       "      <td>2006</td>\n",
       "      <td>76.7</td>\n",
       "      <td>None</td>\n",
       "    </tr>\n",
       "    <tr>\n",
       "      <th>2</th>\n",
       "      <td>dataflow</td>\n",
       "      <td>ESTAT:STS_COLB_A(1.0)</td>\n",
       "      <td>A</td>\n",
       "      <td>EMPL</td>\n",
       "      <td>F</td>\n",
       "      <td>NSA</td>\n",
       "      <td>I10</td>\n",
       "      <td>AL</td>\n",
       "      <td>2007</td>\n",
       "      <td>74.1</td>\n",
       "      <td>None</td>\n",
       "    </tr>\n",
       "    <tr>\n",
       "      <th>3</th>\n",
       "      <td>dataflow</td>\n",
       "      <td>ESTAT:STS_COLB_A(1.0)</td>\n",
       "      <td>A</td>\n",
       "      <td>EMPL</td>\n",
       "      <td>F</td>\n",
       "      <td>NSA</td>\n",
       "      <td>I10</td>\n",
       "      <td>AL</td>\n",
       "      <td>2008</td>\n",
       "      <td>97.3</td>\n",
       "      <td>None</td>\n",
       "    </tr>\n",
       "    <tr>\n",
       "      <th>4</th>\n",
       "      <td>dataflow</td>\n",
       "      <td>ESTAT:STS_COLB_A(1.0)</td>\n",
       "      <td>A</td>\n",
       "      <td>EMPL</td>\n",
       "      <td>F</td>\n",
       "      <td>NSA</td>\n",
       "      <td>I10</td>\n",
       "      <td>AL</td>\n",
       "      <td>2009</td>\n",
       "      <td>103.7</td>\n",
       "      <td>None</td>\n",
       "    </tr>\n",
       "  </tbody>\n",
       "</table>\n",
       "</div>"
      ],
      "text/plain": [
       "  STRUCTURE           STRUCTURE_ID freq indic_bt nace_r2 s_adj unit geo  \\\n",
       "0  dataflow  ESTAT:STS_COLB_A(1.0)    A     EMPL       F   NSA  I10  AL   \n",
       "1  dataflow  ESTAT:STS_COLB_A(1.0)    A     EMPL       F   NSA  I10  AL   \n",
       "2  dataflow  ESTAT:STS_COLB_A(1.0)    A     EMPL       F   NSA  I10  AL   \n",
       "3  dataflow  ESTAT:STS_COLB_A(1.0)    A     EMPL       F   NSA  I10  AL   \n",
       "4  dataflow  ESTAT:STS_COLB_A(1.0)    A     EMPL       F   NSA  I10  AL   \n",
       "\n",
       "   TIME_PERIOD  OBS_VALUE OBS_FLAG  \n",
       "0         2005       76.9     None  \n",
       "1         2006       76.7     None  \n",
       "2         2007       74.1     None  \n",
       "3         2008       97.3     None  \n",
       "4         2009      103.7     None  "
      ]
     },
     "execution_count": 8,
     "metadata": {},
     "output_type": "execute_result"
    }
   ],
   "source": [
    "sqldf.head()"
   ]
  },
  {
   "cell_type": "code",
   "execution_count": 9,
   "metadata": {},
   "outputs": [
    {
     "data": {
      "text/plain": [
       "(9314, 11)"
      ]
     },
     "execution_count": 9,
     "metadata": {},
     "output_type": "execute_result"
    }
   ],
   "source": [
    "sqldf.shape"
   ]
  },
  {
   "cell_type": "code",
   "execution_count": 10,
   "metadata": {},
   "outputs": [
    {
     "name": "stdout",
     "output_type": "stream",
     "text": [
      "<class 'pandas.core.frame.DataFrame'>\n",
      "RangeIndex: 9314 entries, 0 to 9313\n",
      "Data columns (total 11 columns):\n",
      " #   Column        Non-Null Count  Dtype  \n",
      "---  ------        --------------  -----  \n",
      " 0   STRUCTURE     9314 non-null   object \n",
      " 1   STRUCTURE_ID  9314 non-null   object \n",
      " 2   freq          9314 non-null   object \n",
      " 3   indic_bt      9314 non-null   object \n",
      " 4   nace_r2       9314 non-null   object \n",
      " 5   s_adj         9314 non-null   object \n",
      " 6   unit          9314 non-null   object \n",
      " 7   geo           9314 non-null   object \n",
      " 8   TIME_PERIOD   9314 non-null   int64  \n",
      " 9   OBS_VALUE     9108 non-null   float64\n",
      " 10  OBS_FLAG      1717 non-null   object \n",
      "dtypes: float64(1), int64(1), object(9)\n",
      "memory usage: 800.6+ KB\n"
     ]
    }
   ],
   "source": [
    "sqldf.info()"
   ]
  },
  {
   "attachments": {},
   "cell_type": "markdown",
   "metadata": {},
   "source": [
    "<table border=\"1\" cellspacing=\"0\" cellpadding=\"0\">\n",
    "    <tbody>\n",
    "        <tr>\n",
    "            <td width=\"301\" valign=\"top\">\n",
    "                <p>\n",
    "                    Column Name\n",
    "                </p>\n",
    "            </td>\n",
    "            <td width=\"301\" valign=\"top\">\n",
    "                <p>\n",
    "                    Description\n",
    "                </p>\n",
    "            </td>\n",
    "        </tr>\n",
    "        <tr>\n",
    "            <td width=\"301\" valign=\"top\">\n",
    "                <p>\n",
    "                    freq\n",
    "                </p>\n",
    "            </td>\n",
    "            <td width=\"301\" valign=\"top\">\n",
    "                <p>\n",
    "                    Frequency of publication of data\n",
    "                </p>\n",
    "            </td>\n",
    "        </tr>\n",
    "        <tr>\n",
    "            <td width=\"301\" valign=\"top\">\n",
    "                <p>\n",
    "                    Indic_bt\n",
    "                </p>\n",
    "            </td>\n",
    "            <td width=\"301\" valign=\"top\">\n",
    "                <p>\n",
    "                    The type of statistic (employment, production, sales, etc.)\n",
    "                </p>\n",
    "            </td>\n",
    "        </tr>\n",
    "        <tr>\n",
    "            <td width=\"301\" valign=\"top\">\n",
    "                <p>\n",
    "                    nace_r2\n",
    "                </p>\n",
    "            </td>\n",
    "            <td width=\"301\" valign=\"top\">\n",
    "                <p>\n",
    "                    Code showing which industry classification the data relates\n",
    "                    to\n",
    "                </p>\n",
    "            </td>\n",
    "        </tr>\n",
    "        <tr>\n",
    "            <td width=\"301\" valign=\"top\">\n",
    "                <p>\n",
    "                    s_adj\n",
    "                </p>\n",
    "            </td>\n",
    "            <td width=\"301\" valign=\"top\">\n",
    "                <p>\n",
    "                    Code indicating whether it is seasonally adjusted or\n",
    "                    unadjusted\n",
    "                </p>\n",
    "            </td>\n",
    "        </tr>\n",
    "        <tr>\n",
    "            <td width=\"301\" valign=\"top\">\n",
    "                <p>\n",
    "                    unit\n",
    "                </p>\n",
    "            </td>\n",
    "            <td width=\"301\" valign=\"top\">\n",
    "                <p>\n",
    "                    unit of measurement\n",
    "                </p>\n",
    "            </td>\n",
    "        </tr>\n",
    "        <tr>\n",
    "            <td width=\"301\" valign=\"top\">\n",
    "                <p>\n",
    "                    geo\n",
    "                </p>\n",
    "            </td>\n",
    "            <td width=\"301\" valign=\"top\">\n",
    "                <p>\n",
    "                    Country\n",
    "                </p>\n",
    "            </td>\n",
    "        </tr>\n",
    "        <tr>\n",
    "            <td width=\"301\" valign=\"top\">\n",
    "                <p>\n",
    "                    TIME_PERIOD\n",
    "                </p>\n",
    "            </td>\n",
    "            <td width=\"301\" valign=\"top\">\n",
    "                <p>\n",
    "                    Year\n",
    "                </p>\n",
    "            </td>\n",
    "        </tr>\n",
    "        <tr>\n",
    "            <td width=\"301\" valign=\"top\">\n",
    "                <p>\n",
    "                    OBS_VALUE\n",
    "                </p>\n",
    "            </td>\n",
    "            <td width=\"301\" valign=\"top\">\n",
    "                <p>\n",
    "                    Value of data <br/>\n",
    "                    <br/>\n",
    "                </p>\n",
    "            </td>\n",
    "        </tr>\n",
    "        <tr>\n",
    "            <td width=\"301\" valign=\"top\">\n",
    "                <p>\n",
    "                    OBS_FLAG\n",
    "                </p>\n",
    "            </td>\n",
    "            <td width=\"301\" valign=\"top\">\n",
    "                <p>\n",
    "                    A code that provides additional information about the\n",
    "                    accuracy or reliability of the data\n",
    "                </p>\n",
    "            </td>\n",
    "        </tr>\n",
    "    </tbody>\n",
    "</table>"
   ]
  },
  {
   "cell_type": "code",
   "execution_count": 11,
   "metadata": {},
   "outputs": [
    {
     "data": {
      "text/html": [
       "<div>\n",
       "<style scoped>\n",
       "    .dataframe tbody tr th:only-of-type {\n",
       "        vertical-align: middle;\n",
       "    }\n",
       "\n",
       "    .dataframe tbody tr th {\n",
       "        vertical-align: top;\n",
       "    }\n",
       "\n",
       "    .dataframe thead th {\n",
       "        text-align: right;\n",
       "    }\n",
       "</style>\n",
       "<table border=\"1\" class=\"dataframe\">\n",
       "  <thead>\n",
       "    <tr style=\"text-align: right;\">\n",
       "      <th></th>\n",
       "      <th>TIME_PERIOD</th>\n",
       "      <th>OBS_VALUE</th>\n",
       "    </tr>\n",
       "  </thead>\n",
       "  <tbody>\n",
       "    <tr>\n",
       "      <th>count</th>\n",
       "      <td>9314.000000</td>\n",
       "      <td>9108.000000</td>\n",
       "    </tr>\n",
       "    <tr>\n",
       "      <th>mean</th>\n",
       "      <td>2010.120893</td>\n",
       "      <td>72.166359</td>\n",
       "    </tr>\n",
       "    <tr>\n",
       "      <th>std</th>\n",
       "      <td>6.580738</td>\n",
       "      <td>54.231636</td>\n",
       "    </tr>\n",
       "    <tr>\n",
       "      <th>min</th>\n",
       "      <td>1990.000000</td>\n",
       "      <td>-67.400000</td>\n",
       "    </tr>\n",
       "    <tr>\n",
       "      <th>25%</th>\n",
       "      <td>2005.000000</td>\n",
       "      <td>8.100000</td>\n",
       "    </tr>\n",
       "    <tr>\n",
       "      <th>50%</th>\n",
       "      <td>2010.000000</td>\n",
       "      <td>91.200000</td>\n",
       "    </tr>\n",
       "    <tr>\n",
       "      <th>75%</th>\n",
       "      <td>2015.000000</td>\n",
       "      <td>106.000000</td>\n",
       "    </tr>\n",
       "    <tr>\n",
       "      <th>max</th>\n",
       "      <td>2022.000000</td>\n",
       "      <td>406.500000</td>\n",
       "    </tr>\n",
       "  </tbody>\n",
       "</table>\n",
       "</div>"
      ],
      "text/plain": [
       "       TIME_PERIOD    OBS_VALUE\n",
       "count  9314.000000  9108.000000\n",
       "mean   2010.120893    72.166359\n",
       "std       6.580738    54.231636\n",
       "min    1990.000000   -67.400000\n",
       "25%    2005.000000     8.100000\n",
       "50%    2010.000000    91.200000\n",
       "75%    2015.000000   106.000000\n",
       "max    2022.000000   406.500000"
      ]
     },
     "execution_count": 11,
     "metadata": {},
     "output_type": "execute_result"
    }
   ],
   "source": [
    "sqldf.describe()"
   ]
  },
  {
   "cell_type": "code",
   "execution_count": 12,
   "metadata": {},
   "outputs": [
    {
     "data": {
      "text/html": [
       "<div>\n",
       "<style scoped>\n",
       "    .dataframe tbody tr th:only-of-type {\n",
       "        vertical-align: middle;\n",
       "    }\n",
       "\n",
       "    .dataframe tbody tr th {\n",
       "        vertical-align: top;\n",
       "    }\n",
       "\n",
       "    .dataframe thead th {\n",
       "        text-align: right;\n",
       "    }\n",
       "</style>\n",
       "<table border=\"1\" class=\"dataframe\">\n",
       "  <thead>\n",
       "    <tr style=\"text-align: right;\">\n",
       "      <th></th>\n",
       "      <th>STRUCTURE</th>\n",
       "      <th>STRUCTURE_ID</th>\n",
       "      <th>freq</th>\n",
       "      <th>indic_bt</th>\n",
       "      <th>nace_r2</th>\n",
       "      <th>s_adj</th>\n",
       "      <th>unit</th>\n",
       "      <th>geo</th>\n",
       "      <th>OBS_FLAG</th>\n",
       "    </tr>\n",
       "  </thead>\n",
       "  <tbody>\n",
       "    <tr>\n",
       "      <th>count</th>\n",
       "      <td>9314</td>\n",
       "      <td>9314</td>\n",
       "      <td>9314</td>\n",
       "      <td>9314</td>\n",
       "      <td>9314</td>\n",
       "      <td>9314</td>\n",
       "      <td>9314</td>\n",
       "      <td>9314</td>\n",
       "      <td>1717</td>\n",
       "    </tr>\n",
       "    <tr>\n",
       "      <th>unique</th>\n",
       "      <td>1</td>\n",
       "      <td>1</td>\n",
       "      <td>1</td>\n",
       "      <td>3</td>\n",
       "      <td>1</td>\n",
       "      <td>2</td>\n",
       "      <td>3</td>\n",
       "      <td>36</td>\n",
       "      <td>5</td>\n",
       "    </tr>\n",
       "    <tr>\n",
       "      <th>top</th>\n",
       "      <td>dataflow</td>\n",
       "      <td>ESTAT:STS_COLB_A(1.0)</td>\n",
       "      <td>A</td>\n",
       "      <td>WAGE</td>\n",
       "      <td>F</td>\n",
       "      <td>NSA</td>\n",
       "      <td>I15</td>\n",
       "      <td>NL</td>\n",
       "      <td>p</td>\n",
       "    </tr>\n",
       "    <tr>\n",
       "      <th>freq</th>\n",
       "      <td>9314</td>\n",
       "      <td>9314</td>\n",
       "      <td>9314</td>\n",
       "      <td>3546</td>\n",
       "      <td>9314</td>\n",
       "      <td>5728</td>\n",
       "      <td>3931</td>\n",
       "      <td>338</td>\n",
       "      <td>866</td>\n",
       "    </tr>\n",
       "  </tbody>\n",
       "</table>\n",
       "</div>"
      ],
      "text/plain": [
       "       STRUCTURE           STRUCTURE_ID  freq indic_bt nace_r2 s_adj  unit  \\\n",
       "count       9314                   9314  9314     9314    9314  9314  9314   \n",
       "unique         1                      1     1        3       1     2     3   \n",
       "top     dataflow  ESTAT:STS_COLB_A(1.0)     A     WAGE       F   NSA   I15   \n",
       "freq        9314                   9314  9314     3546    9314  5728  3931   \n",
       "\n",
       "         geo OBS_FLAG  \n",
       "count   9314     1717  \n",
       "unique    36        5  \n",
       "top       NL        p  \n",
       "freq     338      866  "
      ]
     },
     "execution_count": 12,
     "metadata": {},
     "output_type": "execute_result"
    }
   ],
   "source": [
    "sqldf.describe(include=\"object\")"
   ]
  },
  {
   "attachments": {},
   "cell_type": "markdown",
   "metadata": {},
   "source": [
    "- I will use the uniqe() function to display what are the unique values ​​in my categorical columns. \n",
    "- I will also use tabulate, a simple library of tables, to display values ​​neatly"
   ]
  },
  {
   "cell_type": "code",
   "execution_count": 13,
   "metadata": {},
   "outputs": [
    {
     "name": "stdout",
     "output_type": "stream",
     "text": [
      "+------------+---------+--------+\n",
      "| indic_bt   | s_adj   | unit   |\n",
      "|------------+---------+--------|\n",
      "| EMPL       | NSA     | I10    |\n",
      "| HOWK       | CA      | I15    |\n",
      "| WAGE       |         | PCH_SM |\n",
      "+------------+---------+--------+\n"
     ]
    }
   ],
   "source": [
    "from tabulate import tabulate\n",
    "\n",
    "table_data = {\n",
    "    \"indic_bt\": sqldf.indic_bt.unique(),\n",
    "    \"s_adj\": sqldf.s_adj.unique(),\n",
    "    \"unit\": sqldf.unit.unique()\n",
    "}\n",
    "\n",
    "table = tabulate(table_data, headers=\"keys\", tablefmt=\"psql\")\n",
    "\n",
    "print(table)"
   ]
  },
  {
   "attachments": {},
   "cell_type": "markdown",
   "metadata": {},
   "source": [
    "### I've added a small table explanation to explain what the values ​​for my categorical columns mean, the abbreviation values ​​on the eurostat website\n",
    "<table border=\"1\" cellspacing=\"0\" cellpadding=\"0\">\n",
    "    <tbody>\n",
    "        <tr>\n",
    "            <td width=\"204\" colspan=\"2\" valign=\"top\">\n",
    "                <p align=\"center\">\n",
    "                    Indic_bt\n",
    "                </p>\n",
    "            </td>\n",
    "            <td width=\"198\" colspan=\"2\" valign=\"top\">\n",
    "                <p align=\"center\">\n",
    "                    S_adj\n",
    "                </p>\n",
    "            </td>\n",
    "            <td width=\"199\" colspan=\"2\" valign=\"top\">\n",
    "                <p align=\"center\">\n",
    "                    unit\n",
    "                </p>\n",
    "            </td>\n",
    "        </tr>\n",
    "        <tr>\n",
    "            <td width=\"58\" valign=\"top\">\n",
    "                <p>\n",
    "                    EMPL\n",
    "                </p>\n",
    "            </td>\n",
    "            <td width=\"146\" valign=\"top\">\n",
    "                <p>\n",
    "                    Employment (number of persons employed)\n",
    "                </p>\n",
    "            </td>\n",
    "            <td width=\"42\" valign=\"top\">\n",
    "                <p>\n",
    "                    NSA\n",
    "                </p>\n",
    "            </td>\n",
    "            <td width=\"156\" valign=\"top\">\n",
    "                <p>\n",
    "                    Unadjusted data (i.e. neither seasonally adjusted nor\n",
    "                    calendar adjusted data)\n",
    "                </p>\n",
    "            </td>\n",
    "            <td width=\"70\" valign=\"top\">\n",
    "                <p>\n",
    "                    I10\n",
    "                </p>\n",
    "            </td>\n",
    "            <td width=\"129\" valign=\"top\">\n",
    "                <p>\n",
    "                    Index, 2010=100\n",
    "                </p>\n",
    "            </td>\n",
    "        </tr>\n",
    "        <tr>\n",
    "            <td width=\"58\" valign=\"top\">\n",
    "                <p>\n",
    "                    HOWK\n",
    "                </p>\n",
    "            </td>\n",
    "            <td width=\"146\" valign=\"top\">\n",
    "                <p>\n",
    "                    Volume of work done (hours worked)\n",
    "                </p>\n",
    "            </td>\n",
    "            <td width=\"42\" valign=\"top\">\n",
    "                <p>\n",
    "                    CA\n",
    "                </p>\n",
    "            </td>\n",
    "            <td width=\"156\" valign=\"top\">\n",
    "                <p>\n",
    "                    Calencar adjusted data, not seasonally adjusted data\n",
    "                </p>\n",
    "            </td>\n",
    "            <td width=\"70\" valign=\"top\">\n",
    "                <p>\n",
    "                    I15\n",
    "                </p>\n",
    "            </td>\n",
    "            <td width=\"129\" valign=\"top\">\n",
    "                <p>\n",
    "                    Index, 2015=100\n",
    "                </p>\n",
    "            </td>\n",
    "        </tr>\n",
    "        <tr>\n",
    "            <td width=\"58\" valign=\"top\">\n",
    "                <p>\n",
    "                    WAGE\n",
    "                </p>\n",
    "            </td>\n",
    "            <td width=\"146\" valign=\"top\">\n",
    "                <p>\n",
    "                    Gross wages and salaries\n",
    "                </p>\n",
    "            </td>\n",
    "            <td width=\"42\" valign=\"top\">\n",
    "            </td>\n",
    "            <td width=\"156\" valign=\"top\">\n",
    "            </td>\n",
    "            <td width=\"70\" valign=\"top\">\n",
    "                <p>\n",
    "                    PCH_SM\n",
    "                </p>\n",
    "            </td>\n",
    "            <td width=\"129\" valign=\"top\">\n",
    "                <p>\n",
    "                    Percentage change compared to same period in previous year\n",
    "                </p>\n",
    "            </td>\n",
    "        </tr>\n",
    "    </tbody>\n",
    "</table>"
   ]
  },
  {
   "attachments": {},
   "cell_type": "markdown",
   "metadata": {},
   "source": [
    "- Since I will be using the employment data, which is the main subject of my project, I will take the EMPL values in the indic_bt column. \n",
    "- Preferably by using the PCH_SM values from the unit column"
   ]
  },
  {
   "cell_type": "code",
   "execution_count": 14,
   "metadata": {},
   "outputs": [],
   "source": [
    "filtered_df = sqldf.loc[(df['indic_bt'] == 'EMPL') & (df['unit'] == 'PCH_SM')]"
   ]
  },
  {
   "cell_type": "code",
   "execution_count": 15,
   "metadata": {},
   "outputs": [
    {
     "data": {
      "text/html": [
       "<div>\n",
       "<style scoped>\n",
       "    .dataframe tbody tr th:only-of-type {\n",
       "        vertical-align: middle;\n",
       "    }\n",
       "\n",
       "    .dataframe tbody tr th {\n",
       "        vertical-align: top;\n",
       "    }\n",
       "\n",
       "    .dataframe thead th {\n",
       "        text-align: right;\n",
       "    }\n",
       "</style>\n",
       "<table border=\"1\" class=\"dataframe\">\n",
       "  <thead>\n",
       "    <tr style=\"text-align: right;\">\n",
       "      <th></th>\n",
       "      <th>STRUCTURE</th>\n",
       "      <th>STRUCTURE_ID</th>\n",
       "      <th>freq</th>\n",
       "      <th>indic_bt</th>\n",
       "      <th>nace_r2</th>\n",
       "      <th>s_adj</th>\n",
       "      <th>unit</th>\n",
       "      <th>geo</th>\n",
       "      <th>TIME_PERIOD</th>\n",
       "      <th>OBS_VALUE</th>\n",
       "      <th>OBS_FLAG</th>\n",
       "    </tr>\n",
       "  </thead>\n",
       "  <tbody>\n",
       "    <tr>\n",
       "      <th>1494</th>\n",
       "      <td>dataflow</td>\n",
       "      <td>ESTAT:STS_COLB_A(1.0)</td>\n",
       "      <td>A</td>\n",
       "      <td>EMPL</td>\n",
       "      <td>F</td>\n",
       "      <td>NSA</td>\n",
       "      <td>PCH_SM</td>\n",
       "      <td>AL</td>\n",
       "      <td>2006</td>\n",
       "      <td>-0.3</td>\n",
       "      <td>None</td>\n",
       "    </tr>\n",
       "    <tr>\n",
       "      <th>1495</th>\n",
       "      <td>dataflow</td>\n",
       "      <td>ESTAT:STS_COLB_A(1.0)</td>\n",
       "      <td>A</td>\n",
       "      <td>EMPL</td>\n",
       "      <td>F</td>\n",
       "      <td>NSA</td>\n",
       "      <td>PCH_SM</td>\n",
       "      <td>AL</td>\n",
       "      <td>2007</td>\n",
       "      <td>-3.3</td>\n",
       "      <td>None</td>\n",
       "    </tr>\n",
       "    <tr>\n",
       "      <th>1496</th>\n",
       "      <td>dataflow</td>\n",
       "      <td>ESTAT:STS_COLB_A(1.0)</td>\n",
       "      <td>A</td>\n",
       "      <td>EMPL</td>\n",
       "      <td>F</td>\n",
       "      <td>NSA</td>\n",
       "      <td>PCH_SM</td>\n",
       "      <td>AL</td>\n",
       "      <td>2008</td>\n",
       "      <td>31.4</td>\n",
       "      <td>None</td>\n",
       "    </tr>\n",
       "    <tr>\n",
       "      <th>1497</th>\n",
       "      <td>dataflow</td>\n",
       "      <td>ESTAT:STS_COLB_A(1.0)</td>\n",
       "      <td>A</td>\n",
       "      <td>EMPL</td>\n",
       "      <td>F</td>\n",
       "      <td>NSA</td>\n",
       "      <td>PCH_SM</td>\n",
       "      <td>AL</td>\n",
       "      <td>2009</td>\n",
       "      <td>6.5</td>\n",
       "      <td>None</td>\n",
       "    </tr>\n",
       "    <tr>\n",
       "      <th>1498</th>\n",
       "      <td>dataflow</td>\n",
       "      <td>ESTAT:STS_COLB_A(1.0)</td>\n",
       "      <td>A</td>\n",
       "      <td>EMPL</td>\n",
       "      <td>F</td>\n",
       "      <td>NSA</td>\n",
       "      <td>PCH_SM</td>\n",
       "      <td>AL</td>\n",
       "      <td>2010</td>\n",
       "      <td>-3.6</td>\n",
       "      <td>None</td>\n",
       "    </tr>\n",
       "  </tbody>\n",
       "</table>\n",
       "</div>"
      ],
      "text/plain": [
       "     STRUCTURE           STRUCTURE_ID freq indic_bt nace_r2 s_adj    unit geo  \\\n",
       "1494  dataflow  ESTAT:STS_COLB_A(1.0)    A     EMPL       F   NSA  PCH_SM  AL   \n",
       "1495  dataflow  ESTAT:STS_COLB_A(1.0)    A     EMPL       F   NSA  PCH_SM  AL   \n",
       "1496  dataflow  ESTAT:STS_COLB_A(1.0)    A     EMPL       F   NSA  PCH_SM  AL   \n",
       "1497  dataflow  ESTAT:STS_COLB_A(1.0)    A     EMPL       F   NSA  PCH_SM  AL   \n",
       "1498  dataflow  ESTAT:STS_COLB_A(1.0)    A     EMPL       F   NSA  PCH_SM  AL   \n",
       "\n",
       "      TIME_PERIOD  OBS_VALUE OBS_FLAG  \n",
       "1494         2006       -0.3     None  \n",
       "1495         2007       -3.3     None  \n",
       "1496         2008       31.4     None  \n",
       "1497         2009        6.5     None  \n",
       "1498         2010       -3.6     None  "
      ]
     },
     "execution_count": 15,
     "metadata": {},
     "output_type": "execute_result"
    }
   ],
   "source": [
    "filtered_df.head()"
   ]
  },
  {
   "cell_type": "code",
   "execution_count": 16,
   "metadata": {},
   "outputs": [
    {
     "data": {
      "text/plain": [
       "(803, 11)"
      ]
     },
     "execution_count": 16,
     "metadata": {},
     "output_type": "execute_result"
    }
   ],
   "source": [
    "filtered_df.shape"
   ]
  },
  {
   "cell_type": "code",
   "execution_count": 17,
   "metadata": {},
   "outputs": [
    {
     "data": {
      "text/html": [
       "<div>\n",
       "<style scoped>\n",
       "    .dataframe tbody tr th:only-of-type {\n",
       "        vertical-align: middle;\n",
       "    }\n",
       "\n",
       "    .dataframe tbody tr th {\n",
       "        vertical-align: top;\n",
       "    }\n",
       "\n",
       "    .dataframe thead th {\n",
       "        text-align: right;\n",
       "    }\n",
       "</style>\n",
       "<table border=\"1\" class=\"dataframe\">\n",
       "  <thead>\n",
       "    <tr style=\"text-align: right;\">\n",
       "      <th></th>\n",
       "      <th>STRUCTURE</th>\n",
       "      <th>STRUCTURE_ID</th>\n",
       "      <th>freq</th>\n",
       "      <th>indic_bt</th>\n",
       "      <th>nace_r2</th>\n",
       "      <th>s_adj</th>\n",
       "      <th>unit</th>\n",
       "      <th>geo</th>\n",
       "      <th>OBS_FLAG</th>\n",
       "    </tr>\n",
       "  </thead>\n",
       "  <tbody>\n",
       "    <tr>\n",
       "      <th>count</th>\n",
       "      <td>803</td>\n",
       "      <td>803</td>\n",
       "      <td>803</td>\n",
       "      <td>803</td>\n",
       "      <td>803</td>\n",
       "      <td>803</td>\n",
       "      <td>803</td>\n",
       "      <td>803</td>\n",
       "      <td>70</td>\n",
       "    </tr>\n",
       "    <tr>\n",
       "      <th>unique</th>\n",
       "      <td>1</td>\n",
       "      <td>1</td>\n",
       "      <td>1</td>\n",
       "      <td>1</td>\n",
       "      <td>1</td>\n",
       "      <td>1</td>\n",
       "      <td>1</td>\n",
       "      <td>36</td>\n",
       "      <td>4</td>\n",
       "    </tr>\n",
       "    <tr>\n",
       "      <th>top</th>\n",
       "      <td>dataflow</td>\n",
       "      <td>ESTAT:STS_COLB_A(1.0)</td>\n",
       "      <td>A</td>\n",
       "      <td>EMPL</td>\n",
       "      <td>F</td>\n",
       "      <td>NSA</td>\n",
       "      <td>PCH_SM</td>\n",
       "      <td>FR</td>\n",
       "      <td>e</td>\n",
       "    </tr>\n",
       "    <tr>\n",
       "      <th>freq</th>\n",
       "      <td>803</td>\n",
       "      <td>803</td>\n",
       "      <td>803</td>\n",
       "      <td>803</td>\n",
       "      <td>803</td>\n",
       "      <td>803</td>\n",
       "      <td>803</td>\n",
       "      <td>32</td>\n",
       "      <td>34</td>\n",
       "    </tr>\n",
       "  </tbody>\n",
       "</table>\n",
       "</div>"
      ],
      "text/plain": [
       "       STRUCTURE           STRUCTURE_ID freq indic_bt nace_r2 s_adj    unit  \\\n",
       "count        803                    803  803      803     803   803     803   \n",
       "unique         1                      1    1        1       1     1       1   \n",
       "top     dataflow  ESTAT:STS_COLB_A(1.0)    A     EMPL       F   NSA  PCH_SM   \n",
       "freq         803                    803  803      803     803   803     803   \n",
       "\n",
       "        geo OBS_FLAG  \n",
       "count   803       70  \n",
       "unique   36        4  \n",
       "top      FR        e  \n",
       "freq     32       34  "
      ]
     },
     "execution_count": 17,
     "metadata": {},
     "output_type": "execute_result"
    }
   ],
   "source": [
    "filtered_df.describe(include=\"object\")"
   ]
  },
  {
   "attachments": {},
   "cell_type": "markdown",
   "metadata": {},
   "source": [
    "When I look at the records in the first 5 rows of my filtered dataset, I notice that my index values are not normal. Since I have created a new dataframe by filtering from my existing dataset according to certain criteria, the index values appear as row numbers in my current dataset. I will use the reset_index() function to fix this and apply sequential index values to the dataframe."
   ]
  },
  {
   "cell_type": "code",
   "execution_count": 18,
   "metadata": {},
   "outputs": [],
   "source": [
    "filtered_df.reset_index(drop=True, inplace=True)"
   ]
  },
  {
   "cell_type": "code",
   "execution_count": 19,
   "metadata": {},
   "outputs": [
    {
     "data": {
      "text/html": [
       "<div>\n",
       "<style scoped>\n",
       "    .dataframe tbody tr th:only-of-type {\n",
       "        vertical-align: middle;\n",
       "    }\n",
       "\n",
       "    .dataframe tbody tr th {\n",
       "        vertical-align: top;\n",
       "    }\n",
       "\n",
       "    .dataframe thead th {\n",
       "        text-align: right;\n",
       "    }\n",
       "</style>\n",
       "<table border=\"1\" class=\"dataframe\">\n",
       "  <thead>\n",
       "    <tr style=\"text-align: right;\">\n",
       "      <th></th>\n",
       "      <th>STRUCTURE</th>\n",
       "      <th>STRUCTURE_ID</th>\n",
       "      <th>freq</th>\n",
       "      <th>indic_bt</th>\n",
       "      <th>nace_r2</th>\n",
       "      <th>s_adj</th>\n",
       "      <th>unit</th>\n",
       "      <th>geo</th>\n",
       "      <th>TIME_PERIOD</th>\n",
       "      <th>OBS_VALUE</th>\n",
       "      <th>OBS_FLAG</th>\n",
       "    </tr>\n",
       "  </thead>\n",
       "  <tbody>\n",
       "    <tr>\n",
       "      <th>0</th>\n",
       "      <td>dataflow</td>\n",
       "      <td>ESTAT:STS_COLB_A(1.0)</td>\n",
       "      <td>A</td>\n",
       "      <td>EMPL</td>\n",
       "      <td>F</td>\n",
       "      <td>NSA</td>\n",
       "      <td>PCH_SM</td>\n",
       "      <td>AL</td>\n",
       "      <td>2006</td>\n",
       "      <td>-0.3</td>\n",
       "      <td>None</td>\n",
       "    </tr>\n",
       "    <tr>\n",
       "      <th>1</th>\n",
       "      <td>dataflow</td>\n",
       "      <td>ESTAT:STS_COLB_A(1.0)</td>\n",
       "      <td>A</td>\n",
       "      <td>EMPL</td>\n",
       "      <td>F</td>\n",
       "      <td>NSA</td>\n",
       "      <td>PCH_SM</td>\n",
       "      <td>AL</td>\n",
       "      <td>2007</td>\n",
       "      <td>-3.3</td>\n",
       "      <td>None</td>\n",
       "    </tr>\n",
       "    <tr>\n",
       "      <th>2</th>\n",
       "      <td>dataflow</td>\n",
       "      <td>ESTAT:STS_COLB_A(1.0)</td>\n",
       "      <td>A</td>\n",
       "      <td>EMPL</td>\n",
       "      <td>F</td>\n",
       "      <td>NSA</td>\n",
       "      <td>PCH_SM</td>\n",
       "      <td>AL</td>\n",
       "      <td>2008</td>\n",
       "      <td>31.4</td>\n",
       "      <td>None</td>\n",
       "    </tr>\n",
       "    <tr>\n",
       "      <th>3</th>\n",
       "      <td>dataflow</td>\n",
       "      <td>ESTAT:STS_COLB_A(1.0)</td>\n",
       "      <td>A</td>\n",
       "      <td>EMPL</td>\n",
       "      <td>F</td>\n",
       "      <td>NSA</td>\n",
       "      <td>PCH_SM</td>\n",
       "      <td>AL</td>\n",
       "      <td>2009</td>\n",
       "      <td>6.5</td>\n",
       "      <td>None</td>\n",
       "    </tr>\n",
       "    <tr>\n",
       "      <th>4</th>\n",
       "      <td>dataflow</td>\n",
       "      <td>ESTAT:STS_COLB_A(1.0)</td>\n",
       "      <td>A</td>\n",
       "      <td>EMPL</td>\n",
       "      <td>F</td>\n",
       "      <td>NSA</td>\n",
       "      <td>PCH_SM</td>\n",
       "      <td>AL</td>\n",
       "      <td>2010</td>\n",
       "      <td>-3.6</td>\n",
       "      <td>None</td>\n",
       "    </tr>\n",
       "  </tbody>\n",
       "</table>\n",
       "</div>"
      ],
      "text/plain": [
       "  STRUCTURE           STRUCTURE_ID freq indic_bt nace_r2 s_adj    unit geo  \\\n",
       "0  dataflow  ESTAT:STS_COLB_A(1.0)    A     EMPL       F   NSA  PCH_SM  AL   \n",
       "1  dataflow  ESTAT:STS_COLB_A(1.0)    A     EMPL       F   NSA  PCH_SM  AL   \n",
       "2  dataflow  ESTAT:STS_COLB_A(1.0)    A     EMPL       F   NSA  PCH_SM  AL   \n",
       "3  dataflow  ESTAT:STS_COLB_A(1.0)    A     EMPL       F   NSA  PCH_SM  AL   \n",
       "4  dataflow  ESTAT:STS_COLB_A(1.0)    A     EMPL       F   NSA  PCH_SM  AL   \n",
       "\n",
       "   TIME_PERIOD  OBS_VALUE OBS_FLAG  \n",
       "0         2006       -0.3     None  \n",
       "1         2007       -3.3     None  \n",
       "2         2008       31.4     None  \n",
       "3         2009        6.5     None  \n",
       "4         2010       -3.6     None  "
      ]
     },
     "execution_count": 19,
     "metadata": {},
     "output_type": "execute_result"
    }
   ],
   "source": [
    "filtered_df.head()"
   ]
  },
  {
   "attachments": {},
   "cell_type": "markdown",
   "metadata": {},
   "source": [
    "Now that I have done the necessary filtering according to the categorical columns of my dataset, I can now start my operations with numeric columns. For this, first of all, I want to check if there are any empty or missing values in my rows."
   ]
  },
  {
   "cell_type": "code",
   "execution_count": 20,
   "metadata": {},
   "outputs": [
    {
     "data": {
      "text/plain": [
       "STRUCTURE         0\n",
       "STRUCTURE_ID      0\n",
       "freq              0\n",
       "indic_bt          0\n",
       "nace_r2           0\n",
       "s_adj             0\n",
       "unit              0\n",
       "geo               0\n",
       "TIME_PERIOD       0\n",
       "OBS_VALUE        15\n",
       "OBS_FLAG        733\n",
       "dtype: int64"
      ]
     },
     "execution_count": 20,
     "metadata": {},
     "output_type": "execute_result"
    }
   ],
   "source": [
    "# Check for missing values\n",
    "filtered_df.isnull().sum()"
   ]
  },
  {
   "attachments": {},
   "cell_type": "markdown",
   "metadata": {},
   "source": [
    "I want to select the years in which the obs_value column of all countries is not null in all years"
   ]
  },
  {
   "cell_type": "code",
   "execution_count": 21,
   "metadata": {},
   "outputs": [
    {
     "data": {
      "text/plain": [
       "geo\n",
       "AL    17\n",
       "AT    26\n",
       "BE    21\n",
       "BG    22\n",
       "CH    24\n",
       "CY    22\n",
       "CZ    22\n",
       "DE    22\n",
       "DK    14\n",
       "EE    24\n",
       "EL    22\n",
       "ES    22\n",
       "FI    22\n",
       "FR    32\n",
       "HR    22\n",
       "HU    22\n",
       "IE    22\n",
       "IS    14\n",
       "IT    22\n",
       "LT    24\n",
       "LU    22\n",
       "LV    22\n",
       "ME    22\n",
       "MK    15\n",
       "MT    22\n",
       "NL    26\n",
       "NO    22\n",
       "PL    22\n",
       "PT    22\n",
       "RO    22\n",
       "RS    22\n",
       "SE    22\n",
       "SI    22\n",
       "SK    27\n",
       "TR    17\n",
       "UK    23\n",
       "Name: OBS_VALUE, dtype: int64"
      ]
     },
     "execution_count": 21,
     "metadata": {},
     "output_type": "execute_result"
    }
   ],
   "source": [
    "non_null_counts = filtered_df.groupby('geo')['OBS_VALUE'].count()\n",
    "non_null_counts"
   ]
  },
  {
   "cell_type": "code",
   "execution_count": 22,
   "metadata": {},
   "outputs": [],
   "source": [
    "# Finding the number of filled values ​​for each year\n",
    "non_null_years = filtered_df.groupby('TIME_PERIOD')['OBS_VALUE'].count()\n",
    "\n",
    "# Select only full years\n",
    "non_null_years = non_null_years[non_null_years == len(filtered_df['geo'].unique())]\n"
   ]
  },
  {
   "cell_type": "code",
   "execution_count": 23,
   "metadata": {},
   "outputs": [],
   "source": [
    "# Filtering dataset by full years\n",
    "filtered_df = filtered_df[filtered_df['TIME_PERIOD'].isin(non_null_years.index)]\n"
   ]
  },
  {
   "cell_type": "code",
   "execution_count": 24,
   "metadata": {},
   "outputs": [
    {
     "data": {
      "text/plain": [
       "geo\n",
       "AL    11\n",
       "AT    11\n",
       "BE    11\n",
       "BG    11\n",
       "CH    11\n",
       "CY    11\n",
       "CZ    11\n",
       "DE    11\n",
       "DK    11\n",
       "EE    11\n",
       "EL    11\n",
       "ES    11\n",
       "FI    11\n",
       "FR    11\n",
       "HR    11\n",
       "HU    11\n",
       "IE    11\n",
       "IS    11\n",
       "IT    11\n",
       "LT    11\n",
       "LU    11\n",
       "LV    11\n",
       "ME    11\n",
       "MK    11\n",
       "MT    11\n",
       "NL    11\n",
       "NO    11\n",
       "PL    11\n",
       "PT    11\n",
       "RO    11\n",
       "RS    11\n",
       "SE    11\n",
       "SI    11\n",
       "SK    11\n",
       "TR    11\n",
       "UK    11\n",
       "Name: OBS_VALUE, dtype: int64"
      ]
     },
     "execution_count": 24,
     "metadata": {},
     "output_type": "execute_result"
    }
   ],
   "source": [
    "# Calculating the number of full years for each country\n",
    "non_null_counts = filtered_df.groupby('geo')['OBS_VALUE'].count()\n",
    "non_null_counts"
   ]
  },
  {
   "cell_type": "code",
   "execution_count": 25,
   "metadata": {},
   "outputs": [
    {
     "name": "stdout",
     "output_type": "stream",
     "text": [
      "[2009 2010 2011 2012 2013 2014 2015 2016 2017 2018 2019]\n"
     ]
    }
   ],
   "source": [
    "print(filtered_df[\"TIME_PERIOD\"].unique())"
   ]
  },
  {
   "cell_type": "code",
   "execution_count": 26,
   "metadata": {},
   "outputs": [
    {
     "name": "stdout",
     "output_type": "stream",
     "text": [
      "<class 'pandas.core.frame.DataFrame'>\n",
      "Int64Index: 396 entries, 3 to 802\n",
      "Data columns (total 11 columns):\n",
      " #   Column        Non-Null Count  Dtype  \n",
      "---  ------        --------------  -----  \n",
      " 0   STRUCTURE     396 non-null    object \n",
      " 1   STRUCTURE_ID  396 non-null    object \n",
      " 2   freq          396 non-null    object \n",
      " 3   indic_bt      396 non-null    object \n",
      " 4   nace_r2       396 non-null    object \n",
      " 5   s_adj         396 non-null    object \n",
      " 6   unit          396 non-null    object \n",
      " 7   geo           396 non-null    object \n",
      " 8   TIME_PERIOD   396 non-null    int64  \n",
      " 9   OBS_VALUE     396 non-null    float64\n",
      " 10  OBS_FLAG      15 non-null     object \n",
      "dtypes: float64(1), int64(1), object(9)\n",
      "memory usage: 37.1+ KB\n"
     ]
    }
   ],
   "source": [
    "filtered_df.info()"
   ]
  },
  {
   "cell_type": "code",
   "execution_count": 27,
   "metadata": {},
   "outputs": [
    {
     "data": {
      "text/plain": [
       "STRUCTURE         0\n",
       "STRUCTURE_ID      0\n",
       "freq              0\n",
       "indic_bt          0\n",
       "nace_r2           0\n",
       "s_adj             0\n",
       "unit              0\n",
       "geo               0\n",
       "TIME_PERIOD       0\n",
       "OBS_VALUE         0\n",
       "OBS_FLAG        381\n",
       "dtype: int64"
      ]
     },
     "execution_count": 27,
     "metadata": {},
     "output_type": "execute_result"
    }
   ],
   "source": [
    "filtered_df.isnull().sum()"
   ]
  },
  {
   "attachments": {},
   "cell_type": "markdown",
   "metadata": {},
   "source": [
    "In my dataset, you can see that the geo column, that is, the column representing the countries, consists of only a 2-digit country code. Now I want to add a new column named country to my dataset and I want to add the names of the countries according to the country codes in the geo column to this country column."
   ]
  },
  {
   "cell_type": "code",
   "execution_count": 28,
   "metadata": {},
   "outputs": [],
   "source": [
    "import pycountry\n",
    "\n",
    "def get_country_name(code):\n",
    "    try:\n",
    "        return pycountry.countries.get(alpha_2=code).name\n",
    "    except:\n",
    "        return None"
   ]
  },
  {
   "cell_type": "code",
   "execution_count": 29,
   "metadata": {},
   "outputs": [],
   "source": [
    "filtered_df['country'] = filtered_df['geo'].apply(get_country_name)"
   ]
  },
  {
   "attachments": {},
   "cell_type": "markdown",
   "metadata": {},
   "source": [
    "In the method, I specify that my country codes are 2 digits with alpha2. If it had 3 digits I would use alpha3. If it can't find any country code in the method, I wanted it to add the value None as a check. Now according to this situation, do I have a value of None or I want to see if I have successfully converted all country codes?"
   ]
  },
  {
   "cell_type": "code",
   "execution_count": 30,
   "metadata": {},
   "outputs": [
    {
     "data": {
      "text/html": [
       "<div>\n",
       "<style scoped>\n",
       "    .dataframe tbody tr th:only-of-type {\n",
       "        vertical-align: middle;\n",
       "    }\n",
       "\n",
       "    .dataframe tbody tr th {\n",
       "        vertical-align: top;\n",
       "    }\n",
       "\n",
       "    .dataframe thead th {\n",
       "        text-align: right;\n",
       "    }\n",
       "</style>\n",
       "<table border=\"1\" class=\"dataframe\">\n",
       "  <thead>\n",
       "    <tr style=\"text-align: right;\">\n",
       "      <th></th>\n",
       "      <th>STRUCTURE</th>\n",
       "      <th>STRUCTURE_ID</th>\n",
       "      <th>freq</th>\n",
       "      <th>indic_bt</th>\n",
       "      <th>nace_r2</th>\n",
       "      <th>s_adj</th>\n",
       "      <th>unit</th>\n",
       "      <th>geo</th>\n",
       "      <th>TIME_PERIOD</th>\n",
       "      <th>OBS_VALUE</th>\n",
       "      <th>OBS_FLAG</th>\n",
       "      <th>country</th>\n",
       "    </tr>\n",
       "  </thead>\n",
       "  <tbody>\n",
       "    <tr>\n",
       "      <th>507</th>\n",
       "      <td>dataflow</td>\n",
       "      <td>ESTAT:STS_COLB_A(1.0)</td>\n",
       "      <td>A</td>\n",
       "      <td>EMPL</td>\n",
       "      <td>F</td>\n",
       "      <td>NSA</td>\n",
       "      <td>PCH_SM</td>\n",
       "      <td>ME</td>\n",
       "      <td>2012</td>\n",
       "      <td>3.8</td>\n",
       "      <td>None</td>\n",
       "      <td>Montenegro</td>\n",
       "    </tr>\n",
       "    <tr>\n",
       "      <th>766</th>\n",
       "      <td>dataflow</td>\n",
       "      <td>ESTAT:STS_COLB_A(1.0)</td>\n",
       "      <td>A</td>\n",
       "      <td>EMPL</td>\n",
       "      <td>F</td>\n",
       "      <td>NSA</td>\n",
       "      <td>PCH_SM</td>\n",
       "      <td>TR</td>\n",
       "      <td>2009</td>\n",
       "      <td>-67.4</td>\n",
       "      <td>None</td>\n",
       "      <td>Turkey</td>\n",
       "    </tr>\n",
       "    <tr>\n",
       "      <th>195</th>\n",
       "      <td>dataflow</td>\n",
       "      <td>ESTAT:STS_COLB_A(1.0)</td>\n",
       "      <td>A</td>\n",
       "      <td>EMPL</td>\n",
       "      <td>F</td>\n",
       "      <td>NSA</td>\n",
       "      <td>PCH_SM</td>\n",
       "      <td>DK</td>\n",
       "      <td>2014</td>\n",
       "      <td>2.7</td>\n",
       "      <td>None</td>\n",
       "      <td>Denmark</td>\n",
       "    </tr>\n",
       "    <tr>\n",
       "      <th>461</th>\n",
       "      <td>dataflow</td>\n",
       "      <td>ESTAT:STS_COLB_A(1.0)</td>\n",
       "      <td>A</td>\n",
       "      <td>EMPL</td>\n",
       "      <td>F</td>\n",
       "      <td>NSA</td>\n",
       "      <td>PCH_SM</td>\n",
       "      <td>LU</td>\n",
       "      <td>2010</td>\n",
       "      <td>-0.6</td>\n",
       "      <td>None</td>\n",
       "      <td>Luxembourg</td>\n",
       "    </tr>\n",
       "    <tr>\n",
       "      <th>750</th>\n",
       "      <td>dataflow</td>\n",
       "      <td>ESTAT:STS_COLB_A(1.0)</td>\n",
       "      <td>A</td>\n",
       "      <td>EMPL</td>\n",
       "      <td>F</td>\n",
       "      <td>NSA</td>\n",
       "      <td>PCH_SM</td>\n",
       "      <td>SK</td>\n",
       "      <td>2010</td>\n",
       "      <td>-2.6</td>\n",
       "      <td>None</td>\n",
       "      <td>Slovakia</td>\n",
       "    </tr>\n",
       "  </tbody>\n",
       "</table>\n",
       "</div>"
      ],
      "text/plain": [
       "    STRUCTURE           STRUCTURE_ID freq indic_bt nace_r2 s_adj    unit geo  \\\n",
       "507  dataflow  ESTAT:STS_COLB_A(1.0)    A     EMPL       F   NSA  PCH_SM  ME   \n",
       "766  dataflow  ESTAT:STS_COLB_A(1.0)    A     EMPL       F   NSA  PCH_SM  TR   \n",
       "195  dataflow  ESTAT:STS_COLB_A(1.0)    A     EMPL       F   NSA  PCH_SM  DK   \n",
       "461  dataflow  ESTAT:STS_COLB_A(1.0)    A     EMPL       F   NSA  PCH_SM  LU   \n",
       "750  dataflow  ESTAT:STS_COLB_A(1.0)    A     EMPL       F   NSA  PCH_SM  SK   \n",
       "\n",
       "     TIME_PERIOD  OBS_VALUE OBS_FLAG     country  \n",
       "507         2012        3.8     None  Montenegro  \n",
       "766         2009      -67.4     None      Turkey  \n",
       "195         2014        2.7     None     Denmark  \n",
       "461         2010       -0.6     None  Luxembourg  \n",
       "750         2010       -2.6     None    Slovakia  "
      ]
     },
     "execution_count": 30,
     "metadata": {},
     "output_type": "execute_result"
    }
   ],
   "source": [
    "filtered_df.sample(5)"
   ]
  },
  {
   "attachments": {},
   "cell_type": "markdown",
   "metadata": {},
   "source": [
    "Yes, exactly as I thought. When I list the example 5 rows in my dataset, I observe that the value of the country with the EL code is None. Now, for this, it is necessary to filter the None values ​​of the country names in the country column and produce a solution for this."
   ]
  },
  {
   "cell_type": "code",
   "execution_count": 31,
   "metadata": {},
   "outputs": [
    {
     "data": {
      "text/plain": [
       "array(['EL', 'UK'], dtype=object)"
      ]
     },
     "execution_count": 31,
     "metadata": {},
     "output_type": "execute_result"
    }
   ],
   "source": [
    "missing_countries = filtered_df[filtered_df['country'].isnull()]['geo'].unique()\n",
    "missing_countries"
   ]
  },
  {
   "attachments": {},
   "cell_type": "markdown",
   "metadata": {},
   "source": [
    "I can see now that I couldn't find the names of the countries with EL and UK codes in my library. When I search these country codes on the internet, I can see that the EL code corresponds to Greece and the UK code to United Kingdom.\n",
    "Now I will look at the corresponding country codes in my library according to the names of these countries and replace the EL and UK values in the geo column in my own dataset.\n"
   ]
  },
  {
   "cell_type": "code",
   "execution_count": 32,
   "metadata": {},
   "outputs": [
    {
     "name": "stdout",
     "output_type": "stream",
     "text": [
      "GR\n"
     ]
    }
   ],
   "source": [
    "print(pycountry.countries.get(name='Greece').alpha_2)"
   ]
  },
  {
   "cell_type": "code",
   "execution_count": 33,
   "metadata": {},
   "outputs": [
    {
     "name": "stdout",
     "output_type": "stream",
     "text": [
      "GB\n"
     ]
    }
   ],
   "source": [
    "print(pycountry.countries.get(name='United Kingdom').alpha_2)"
   ]
  },
  {
   "cell_type": "code",
   "execution_count": 34,
   "metadata": {},
   "outputs": [],
   "source": [
    "filtered_df['geo'] = filtered_df['geo'].replace({'EL': 'GR', 'UK': 'GB'})"
   ]
  },
  {
   "cell_type": "code",
   "execution_count": 35,
   "metadata": {},
   "outputs": [],
   "source": [
    "filtered_df['country'] = filtered_df['geo'].apply(get_country_name)"
   ]
  },
  {
   "cell_type": "code",
   "execution_count": 36,
   "metadata": {},
   "outputs": [
    {
     "data": {
      "text/html": [
       "<div>\n",
       "<style scoped>\n",
       "    .dataframe tbody tr th:only-of-type {\n",
       "        vertical-align: middle;\n",
       "    }\n",
       "\n",
       "    .dataframe tbody tr th {\n",
       "        vertical-align: top;\n",
       "    }\n",
       "\n",
       "    .dataframe thead th {\n",
       "        text-align: right;\n",
       "    }\n",
       "</style>\n",
       "<table border=\"1\" class=\"dataframe\">\n",
       "  <thead>\n",
       "    <tr style=\"text-align: right;\">\n",
       "      <th></th>\n",
       "      <th>STRUCTURE</th>\n",
       "      <th>STRUCTURE_ID</th>\n",
       "      <th>freq</th>\n",
       "      <th>indic_bt</th>\n",
       "      <th>nace_r2</th>\n",
       "      <th>s_adj</th>\n",
       "      <th>unit</th>\n",
       "      <th>geo</th>\n",
       "      <th>TIME_PERIOD</th>\n",
       "      <th>OBS_VALUE</th>\n",
       "      <th>OBS_FLAG</th>\n",
       "      <th>country</th>\n",
       "    </tr>\n",
       "  </thead>\n",
       "  <tbody>\n",
       "    <tr>\n",
       "      <th>798</th>\n",
       "      <td>dataflow</td>\n",
       "      <td>ESTAT:STS_COLB_A(1.0)</td>\n",
       "      <td>A</td>\n",
       "      <td>EMPL</td>\n",
       "      <td>F</td>\n",
       "      <td>NSA</td>\n",
       "      <td>PCH_SM</td>\n",
       "      <td>GB</td>\n",
       "      <td>2015</td>\n",
       "      <td>3.7</td>\n",
       "      <td>None</td>\n",
       "      <td>United Kingdom</td>\n",
       "    </tr>\n",
       "    <tr>\n",
       "      <th>664</th>\n",
       "      <td>dataflow</td>\n",
       "      <td>ESTAT:STS_COLB_A(1.0)</td>\n",
       "      <td>A</td>\n",
       "      <td>EMPL</td>\n",
       "      <td>F</td>\n",
       "      <td>NSA</td>\n",
       "      <td>PCH_SM</td>\n",
       "      <td>RO</td>\n",
       "      <td>2017</td>\n",
       "      <td>-0.9</td>\n",
       "      <td>None</td>\n",
       "      <td>Romania</td>\n",
       "    </tr>\n",
       "    <tr>\n",
       "      <th>592</th>\n",
       "      <td>dataflow</td>\n",
       "      <td>ESTAT:STS_COLB_A(1.0)</td>\n",
       "      <td>A</td>\n",
       "      <td>EMPL</td>\n",
       "      <td>F</td>\n",
       "      <td>NSA</td>\n",
       "      <td>PCH_SM</td>\n",
       "      <td>NO</td>\n",
       "      <td>2011</td>\n",
       "      <td>3.8</td>\n",
       "      <td>None</td>\n",
       "      <td>Norway</td>\n",
       "    </tr>\n",
       "    <tr>\n",
       "      <th>101</th>\n",
       "      <td>dataflow</td>\n",
       "      <td>ESTAT:STS_COLB_A(1.0)</td>\n",
       "      <td>A</td>\n",
       "      <td>EMPL</td>\n",
       "      <td>F</td>\n",
       "      <td>NSA</td>\n",
       "      <td>PCH_SM</td>\n",
       "      <td>CH</td>\n",
       "      <td>2013</td>\n",
       "      <td>1.4</td>\n",
       "      <td>e</td>\n",
       "      <td>Switzerland</td>\n",
       "    </tr>\n",
       "    <tr>\n",
       "      <th>792</th>\n",
       "      <td>dataflow</td>\n",
       "      <td>ESTAT:STS_COLB_A(1.0)</td>\n",
       "      <td>A</td>\n",
       "      <td>EMPL</td>\n",
       "      <td>F</td>\n",
       "      <td>NSA</td>\n",
       "      <td>PCH_SM</td>\n",
       "      <td>GB</td>\n",
       "      <td>2009</td>\n",
       "      <td>-3.1</td>\n",
       "      <td>None</td>\n",
       "      <td>United Kingdom</td>\n",
       "    </tr>\n",
       "  </tbody>\n",
       "</table>\n",
       "</div>"
      ],
      "text/plain": [
       "    STRUCTURE           STRUCTURE_ID freq indic_bt nace_r2 s_adj    unit geo  \\\n",
       "798  dataflow  ESTAT:STS_COLB_A(1.0)    A     EMPL       F   NSA  PCH_SM  GB   \n",
       "664  dataflow  ESTAT:STS_COLB_A(1.0)    A     EMPL       F   NSA  PCH_SM  RO   \n",
       "592  dataflow  ESTAT:STS_COLB_A(1.0)    A     EMPL       F   NSA  PCH_SM  NO   \n",
       "101  dataflow  ESTAT:STS_COLB_A(1.0)    A     EMPL       F   NSA  PCH_SM  CH   \n",
       "792  dataflow  ESTAT:STS_COLB_A(1.0)    A     EMPL       F   NSA  PCH_SM  GB   \n",
       "\n",
       "     TIME_PERIOD  OBS_VALUE OBS_FLAG         country  \n",
       "798         2015        3.7     None  United Kingdom  \n",
       "664         2017       -0.9     None         Romania  \n",
       "592         2011        3.8     None          Norway  \n",
       "101         2013        1.4        e     Switzerland  \n",
       "792         2009       -3.1     None  United Kingdom  "
      ]
     },
     "execution_count": 36,
     "metadata": {},
     "output_type": "execute_result"
    }
   ],
   "source": [
    "filtered_df.sample(5)"
   ]
  },
  {
   "attachments": {},
   "cell_type": "markdown",
   "metadata": {},
   "source": [
    "- Now all of my country codes have been completed according to the ISO3166 standard. Also, None values are left in my country names column. let's check it again.\n",
    "- Yes now I can tell from an empty string result that I don't have a line with the value None in the country names column."
   ]
  },
  {
   "cell_type": "code",
   "execution_count": 37,
   "metadata": {},
   "outputs": [
    {
     "data": {
      "text/plain": [
       "array([], dtype=object)"
      ]
     },
     "execution_count": 37,
     "metadata": {},
     "output_type": "execute_result"
    }
   ],
   "source": [
    "missing_countries = filtered_df[filtered_df['country'].isnull()]['geo'].unique()\n",
    "missing_countries"
   ]
  },
  {
   "cell_type": "code",
   "execution_count": 38,
   "metadata": {},
   "outputs": [
    {
     "data": {
      "text/html": [
       "<div>\n",
       "<style scoped>\n",
       "    .dataframe tbody tr th:only-of-type {\n",
       "        vertical-align: middle;\n",
       "    }\n",
       "\n",
       "    .dataframe tbody tr th {\n",
       "        vertical-align: top;\n",
       "    }\n",
       "\n",
       "    .dataframe thead th {\n",
       "        text-align: right;\n",
       "    }\n",
       "</style>\n",
       "<table border=\"1\" class=\"dataframe\">\n",
       "  <thead>\n",
       "    <tr style=\"text-align: right;\">\n",
       "      <th></th>\n",
       "      <th>TIME_PERIOD</th>\n",
       "      <th>OBS_VALUE</th>\n",
       "    </tr>\n",
       "  </thead>\n",
       "  <tbody>\n",
       "    <tr>\n",
       "      <th>count</th>\n",
       "      <td>396.000000</td>\n",
       "      <td>396.000000</td>\n",
       "    </tr>\n",
       "    <tr>\n",
       "      <th>mean</th>\n",
       "      <td>2014.000000</td>\n",
       "      <td>-0.490657</td>\n",
       "    </tr>\n",
       "    <tr>\n",
       "      <th>std</th>\n",
       "      <td>3.166278</td>\n",
       "      <td>8.890347</td>\n",
       "    </tr>\n",
       "    <tr>\n",
       "      <th>min</th>\n",
       "      <td>2009.000000</td>\n",
       "      <td>-67.400000</td>\n",
       "    </tr>\n",
       "    <tr>\n",
       "      <th>25%</th>\n",
       "      <td>2011.000000</td>\n",
       "      <td>-3.400000</td>\n",
       "    </tr>\n",
       "    <tr>\n",
       "      <th>50%</th>\n",
       "      <td>2014.000000</td>\n",
       "      <td>0.600000</td>\n",
       "    </tr>\n",
       "    <tr>\n",
       "      <th>75%</th>\n",
       "      <td>2017.000000</td>\n",
       "      <td>3.800000</td>\n",
       "    </tr>\n",
       "    <tr>\n",
       "      <th>max</th>\n",
       "      <td>2019.000000</td>\n",
       "      <td>27.900000</td>\n",
       "    </tr>\n",
       "  </tbody>\n",
       "</table>\n",
       "</div>"
      ],
      "text/plain": [
       "       TIME_PERIOD   OBS_VALUE\n",
       "count   396.000000  396.000000\n",
       "mean   2014.000000   -0.490657\n",
       "std       3.166278    8.890347\n",
       "min    2009.000000  -67.400000\n",
       "25%    2011.000000   -3.400000\n",
       "50%    2014.000000    0.600000\n",
       "75%    2017.000000    3.800000\n",
       "max    2019.000000   27.900000"
      ]
     },
     "execution_count": 38,
     "metadata": {},
     "output_type": "execute_result"
    }
   ],
   "source": [
    "filtered_df.describe()"
   ]
  },
  {
   "cell_type": "code",
   "execution_count": 39,
   "metadata": {},
   "outputs": [
    {
     "data": {
      "text/html": [
       "<div>\n",
       "<style scoped>\n",
       "    .dataframe tbody tr th:only-of-type {\n",
       "        vertical-align: middle;\n",
       "    }\n",
       "\n",
       "    .dataframe tbody tr th {\n",
       "        vertical-align: top;\n",
       "    }\n",
       "\n",
       "    .dataframe thead th {\n",
       "        text-align: right;\n",
       "    }\n",
       "</style>\n",
       "<table border=\"1\" class=\"dataframe\">\n",
       "  <thead>\n",
       "    <tr style=\"text-align: right;\">\n",
       "      <th></th>\n",
       "      <th>STRUCTURE</th>\n",
       "      <th>STRUCTURE_ID</th>\n",
       "      <th>freq</th>\n",
       "      <th>indic_bt</th>\n",
       "      <th>nace_r2</th>\n",
       "      <th>s_adj</th>\n",
       "      <th>unit</th>\n",
       "      <th>geo</th>\n",
       "      <th>OBS_FLAG</th>\n",
       "      <th>country</th>\n",
       "    </tr>\n",
       "  </thead>\n",
       "  <tbody>\n",
       "    <tr>\n",
       "      <th>count</th>\n",
       "      <td>396</td>\n",
       "      <td>396</td>\n",
       "      <td>396</td>\n",
       "      <td>396</td>\n",
       "      <td>396</td>\n",
       "      <td>396</td>\n",
       "      <td>396</td>\n",
       "      <td>396</td>\n",
       "      <td>15</td>\n",
       "      <td>396</td>\n",
       "    </tr>\n",
       "    <tr>\n",
       "      <th>unique</th>\n",
       "      <td>1</td>\n",
       "      <td>1</td>\n",
       "      <td>1</td>\n",
       "      <td>1</td>\n",
       "      <td>1</td>\n",
       "      <td>1</td>\n",
       "      <td>1</td>\n",
       "      <td>36</td>\n",
       "      <td>2</td>\n",
       "      <td>36</td>\n",
       "    </tr>\n",
       "    <tr>\n",
       "      <th>top</th>\n",
       "      <td>dataflow</td>\n",
       "      <td>ESTAT:STS_COLB_A(1.0)</td>\n",
       "      <td>A</td>\n",
       "      <td>EMPL</td>\n",
       "      <td>F</td>\n",
       "      <td>NSA</td>\n",
       "      <td>PCH_SM</td>\n",
       "      <td>AL</td>\n",
       "      <td>e</td>\n",
       "      <td>Albania</td>\n",
       "    </tr>\n",
       "    <tr>\n",
       "      <th>freq</th>\n",
       "      <td>396</td>\n",
       "      <td>396</td>\n",
       "      <td>396</td>\n",
       "      <td>396</td>\n",
       "      <td>396</td>\n",
       "      <td>396</td>\n",
       "      <td>396</td>\n",
       "      <td>11</td>\n",
       "      <td>13</td>\n",
       "      <td>11</td>\n",
       "    </tr>\n",
       "  </tbody>\n",
       "</table>\n",
       "</div>"
      ],
      "text/plain": [
       "       STRUCTURE           STRUCTURE_ID freq indic_bt nace_r2 s_adj    unit  \\\n",
       "count        396                    396  396      396     396   396     396   \n",
       "unique         1                      1    1        1       1     1       1   \n",
       "top     dataflow  ESTAT:STS_COLB_A(1.0)    A     EMPL       F   NSA  PCH_SM   \n",
       "freq         396                    396  396      396     396   396     396   \n",
       "\n",
       "        geo OBS_FLAG  country  \n",
       "count   396       15      396  \n",
       "unique   36        2       36  \n",
       "top      AL        e  Albania  \n",
       "freq     11       13       11  "
      ]
     },
     "execution_count": 39,
     "metadata": {},
     "output_type": "execute_result"
    }
   ],
   "source": [
    "filtered_df.describe(include=\"object\")"
   ]
  },
  {
   "cell_type": "code",
   "execution_count": 40,
   "metadata": {},
   "outputs": [
    {
     "name": "stdout",
     "output_type": "stream",
     "text": [
      "<class 'pandas.core.frame.DataFrame'>\n",
      "Int64Index: 396 entries, 3 to 802\n",
      "Data columns (total 12 columns):\n",
      " #   Column        Non-Null Count  Dtype  \n",
      "---  ------        --------------  -----  \n",
      " 0   STRUCTURE     396 non-null    object \n",
      " 1   STRUCTURE_ID  396 non-null    object \n",
      " 2   freq          396 non-null    object \n",
      " 3   indic_bt      396 non-null    object \n",
      " 4   nace_r2       396 non-null    object \n",
      " 5   s_adj         396 non-null    object \n",
      " 6   unit          396 non-null    object \n",
      " 7   geo           396 non-null    object \n",
      " 8   TIME_PERIOD   396 non-null    int64  \n",
      " 9   OBS_VALUE     396 non-null    float64\n",
      " 10  OBS_FLAG      15 non-null     object \n",
      " 11  country       396 non-null    object \n",
      "dtypes: float64(1), int64(1), object(10)\n",
      "memory usage: 40.2+ KB\n"
     ]
    }
   ],
   "source": [
    "filtered_df.info()"
   ]
  },
  {
   "cell_type": "code",
   "execution_count": 41,
   "metadata": {},
   "outputs": [
    {
     "data": {
      "text/html": [
       "<div>\n",
       "<style scoped>\n",
       "    .dataframe tbody tr th:only-of-type {\n",
       "        vertical-align: middle;\n",
       "    }\n",
       "\n",
       "    .dataframe tbody tr th {\n",
       "        vertical-align: top;\n",
       "    }\n",
       "\n",
       "    .dataframe thead th {\n",
       "        text-align: right;\n",
       "    }\n",
       "</style>\n",
       "<table border=\"1\" class=\"dataframe\">\n",
       "  <thead>\n",
       "    <tr style=\"text-align: right;\">\n",
       "      <th></th>\n",
       "      <th>STRUCTURE</th>\n",
       "      <th>STRUCTURE_ID</th>\n",
       "      <th>freq</th>\n",
       "      <th>indic_bt</th>\n",
       "      <th>nace_r2</th>\n",
       "      <th>s_adj</th>\n",
       "      <th>unit</th>\n",
       "      <th>geo</th>\n",
       "      <th>TIME_PERIOD</th>\n",
       "      <th>OBS_VALUE</th>\n",
       "      <th>OBS_FLAG</th>\n",
       "      <th>country</th>\n",
       "    </tr>\n",
       "  </thead>\n",
       "  <tbody>\n",
       "    <tr>\n",
       "      <th>3</th>\n",
       "      <td>dataflow</td>\n",
       "      <td>ESTAT:STS_COLB_A(1.0)</td>\n",
       "      <td>A</td>\n",
       "      <td>EMPL</td>\n",
       "      <td>F</td>\n",
       "      <td>NSA</td>\n",
       "      <td>PCH_SM</td>\n",
       "      <td>AL</td>\n",
       "      <td>2009</td>\n",
       "      <td>6.5</td>\n",
       "      <td>None</td>\n",
       "      <td>Albania</td>\n",
       "    </tr>\n",
       "    <tr>\n",
       "      <th>4</th>\n",
       "      <td>dataflow</td>\n",
       "      <td>ESTAT:STS_COLB_A(1.0)</td>\n",
       "      <td>A</td>\n",
       "      <td>EMPL</td>\n",
       "      <td>F</td>\n",
       "      <td>NSA</td>\n",
       "      <td>PCH_SM</td>\n",
       "      <td>AL</td>\n",
       "      <td>2010</td>\n",
       "      <td>-3.6</td>\n",
       "      <td>None</td>\n",
       "      <td>Albania</td>\n",
       "    </tr>\n",
       "    <tr>\n",
       "      <th>5</th>\n",
       "      <td>dataflow</td>\n",
       "      <td>ESTAT:STS_COLB_A(1.0)</td>\n",
       "      <td>A</td>\n",
       "      <td>EMPL</td>\n",
       "      <td>F</td>\n",
       "      <td>NSA</td>\n",
       "      <td>PCH_SM</td>\n",
       "      <td>AL</td>\n",
       "      <td>2011</td>\n",
       "      <td>-8.8</td>\n",
       "      <td>None</td>\n",
       "      <td>Albania</td>\n",
       "    </tr>\n",
       "    <tr>\n",
       "      <th>6</th>\n",
       "      <td>dataflow</td>\n",
       "      <td>ESTAT:STS_COLB_A(1.0)</td>\n",
       "      <td>A</td>\n",
       "      <td>EMPL</td>\n",
       "      <td>F</td>\n",
       "      <td>NSA</td>\n",
       "      <td>PCH_SM</td>\n",
       "      <td>AL</td>\n",
       "      <td>2012</td>\n",
       "      <td>3.2</td>\n",
       "      <td>None</td>\n",
       "      <td>Albania</td>\n",
       "    </tr>\n",
       "    <tr>\n",
       "      <th>7</th>\n",
       "      <td>dataflow</td>\n",
       "      <td>ESTAT:STS_COLB_A(1.0)</td>\n",
       "      <td>A</td>\n",
       "      <td>EMPL</td>\n",
       "      <td>F</td>\n",
       "      <td>NSA</td>\n",
       "      <td>PCH_SM</td>\n",
       "      <td>AL</td>\n",
       "      <td>2013</td>\n",
       "      <td>-5.8</td>\n",
       "      <td>None</td>\n",
       "      <td>Albania</td>\n",
       "    </tr>\n",
       "  </tbody>\n",
       "</table>\n",
       "</div>"
      ],
      "text/plain": [
       "  STRUCTURE           STRUCTURE_ID freq indic_bt nace_r2 s_adj    unit geo  \\\n",
       "3  dataflow  ESTAT:STS_COLB_A(1.0)    A     EMPL       F   NSA  PCH_SM  AL   \n",
       "4  dataflow  ESTAT:STS_COLB_A(1.0)    A     EMPL       F   NSA  PCH_SM  AL   \n",
       "5  dataflow  ESTAT:STS_COLB_A(1.0)    A     EMPL       F   NSA  PCH_SM  AL   \n",
       "6  dataflow  ESTAT:STS_COLB_A(1.0)    A     EMPL       F   NSA  PCH_SM  AL   \n",
       "7  dataflow  ESTAT:STS_COLB_A(1.0)    A     EMPL       F   NSA  PCH_SM  AL   \n",
       "\n",
       "   TIME_PERIOD  OBS_VALUE OBS_FLAG  country  \n",
       "3         2009        6.5     None  Albania  \n",
       "4         2010       -3.6     None  Albania  \n",
       "5         2011       -8.8     None  Albania  \n",
       "6         2012        3.2     None  Albania  \n",
       "7         2013       -5.8     None  Albania  "
      ]
     },
     "execution_count": 41,
     "metadata": {},
     "output_type": "execute_result"
    }
   ],
   "source": [
    "filtered_df.head()"
   ]
  },
  {
   "cell_type": "code",
   "execution_count": 42,
   "metadata": {},
   "outputs": [
    {
     "data": {
      "text/html": [
       "<div>\n",
       "<style scoped>\n",
       "    .dataframe tbody tr th:only-of-type {\n",
       "        vertical-align: middle;\n",
       "    }\n",
       "\n",
       "    .dataframe tbody tr th {\n",
       "        vertical-align: top;\n",
       "    }\n",
       "\n",
       "    .dataframe thead th {\n",
       "        text-align: right;\n",
       "    }\n",
       "</style>\n",
       "<table border=\"1\" class=\"dataframe\">\n",
       "  <thead>\n",
       "    <tr style=\"text-align: right;\">\n",
       "      <th></th>\n",
       "      <th>STRUCTURE</th>\n",
       "      <th>STRUCTURE_ID</th>\n",
       "      <th>freq</th>\n",
       "      <th>indic_bt</th>\n",
       "      <th>nace_r2</th>\n",
       "      <th>s_adj</th>\n",
       "      <th>unit</th>\n",
       "      <th>geo</th>\n",
       "      <th>TIME_PERIOD</th>\n",
       "      <th>OBS_VALUE</th>\n",
       "      <th>OBS_FLAG</th>\n",
       "      <th>country</th>\n",
       "    </tr>\n",
       "  </thead>\n",
       "  <tbody>\n",
       "    <tr>\n",
       "      <th>798</th>\n",
       "      <td>dataflow</td>\n",
       "      <td>ESTAT:STS_COLB_A(1.0)</td>\n",
       "      <td>A</td>\n",
       "      <td>EMPL</td>\n",
       "      <td>F</td>\n",
       "      <td>NSA</td>\n",
       "      <td>PCH_SM</td>\n",
       "      <td>GB</td>\n",
       "      <td>2015</td>\n",
       "      <td>3.7</td>\n",
       "      <td>None</td>\n",
       "      <td>United Kingdom</td>\n",
       "    </tr>\n",
       "    <tr>\n",
       "      <th>799</th>\n",
       "      <td>dataflow</td>\n",
       "      <td>ESTAT:STS_COLB_A(1.0)</td>\n",
       "      <td>A</td>\n",
       "      <td>EMPL</td>\n",
       "      <td>F</td>\n",
       "      <td>NSA</td>\n",
       "      <td>PCH_SM</td>\n",
       "      <td>GB</td>\n",
       "      <td>2016</td>\n",
       "      <td>2.7</td>\n",
       "      <td>None</td>\n",
       "      <td>United Kingdom</td>\n",
       "    </tr>\n",
       "    <tr>\n",
       "      <th>800</th>\n",
       "      <td>dataflow</td>\n",
       "      <td>ESTAT:STS_COLB_A(1.0)</td>\n",
       "      <td>A</td>\n",
       "      <td>EMPL</td>\n",
       "      <td>F</td>\n",
       "      <td>NSA</td>\n",
       "      <td>PCH_SM</td>\n",
       "      <td>GB</td>\n",
       "      <td>2017</td>\n",
       "      <td>5.6</td>\n",
       "      <td>None</td>\n",
       "      <td>United Kingdom</td>\n",
       "    </tr>\n",
       "    <tr>\n",
       "      <th>801</th>\n",
       "      <td>dataflow</td>\n",
       "      <td>ESTAT:STS_COLB_A(1.0)</td>\n",
       "      <td>A</td>\n",
       "      <td>EMPL</td>\n",
       "      <td>F</td>\n",
       "      <td>NSA</td>\n",
       "      <td>PCH_SM</td>\n",
       "      <td>GB</td>\n",
       "      <td>2018</td>\n",
       "      <td>0.3</td>\n",
       "      <td>None</td>\n",
       "      <td>United Kingdom</td>\n",
       "    </tr>\n",
       "    <tr>\n",
       "      <th>802</th>\n",
       "      <td>dataflow</td>\n",
       "      <td>ESTAT:STS_COLB_A(1.0)</td>\n",
       "      <td>A</td>\n",
       "      <td>EMPL</td>\n",
       "      <td>F</td>\n",
       "      <td>NSA</td>\n",
       "      <td>PCH_SM</td>\n",
       "      <td>GB</td>\n",
       "      <td>2019</td>\n",
       "      <td>2.9</td>\n",
       "      <td>None</td>\n",
       "      <td>United Kingdom</td>\n",
       "    </tr>\n",
       "  </tbody>\n",
       "</table>\n",
       "</div>"
      ],
      "text/plain": [
       "    STRUCTURE           STRUCTURE_ID freq indic_bt nace_r2 s_adj    unit geo  \\\n",
       "798  dataflow  ESTAT:STS_COLB_A(1.0)    A     EMPL       F   NSA  PCH_SM  GB   \n",
       "799  dataflow  ESTAT:STS_COLB_A(1.0)    A     EMPL       F   NSA  PCH_SM  GB   \n",
       "800  dataflow  ESTAT:STS_COLB_A(1.0)    A     EMPL       F   NSA  PCH_SM  GB   \n",
       "801  dataflow  ESTAT:STS_COLB_A(1.0)    A     EMPL       F   NSA  PCH_SM  GB   \n",
       "802  dataflow  ESTAT:STS_COLB_A(1.0)    A     EMPL       F   NSA  PCH_SM  GB   \n",
       "\n",
       "     TIME_PERIOD  OBS_VALUE OBS_FLAG         country  \n",
       "798         2015        3.7     None  United Kingdom  \n",
       "799         2016        2.7     None  United Kingdom  \n",
       "800         2017        5.6     None  United Kingdom  \n",
       "801         2018        0.3     None  United Kingdom  \n",
       "802         2019        2.9     None  United Kingdom  "
      ]
     },
     "execution_count": 42,
     "metadata": {},
     "output_type": "execute_result"
    }
   ],
   "source": [
    "filtered_df.tail()"
   ]
  },
  {
   "attachments": {},
   "cell_type": "markdown",
   "metadata": {},
   "source": [
    "I had reset my indexes before, but after that process, I applied to filter operations again, so I see that my indexes are not in order. So I need to reset my indexes again"
   ]
  },
  {
   "cell_type": "code",
   "execution_count": 43,
   "metadata": {},
   "outputs": [],
   "source": [
    "# reset index\n",
    "filtered_df.reset_index(drop=True, inplace=True)"
   ]
  },
  {
   "cell_type": "code",
   "execution_count": 44,
   "metadata": {},
   "outputs": [
    {
     "data": {
      "text/html": [
       "<div>\n",
       "<style scoped>\n",
       "    .dataframe tbody tr th:only-of-type {\n",
       "        vertical-align: middle;\n",
       "    }\n",
       "\n",
       "    .dataframe tbody tr th {\n",
       "        vertical-align: top;\n",
       "    }\n",
       "\n",
       "    .dataframe thead th {\n",
       "        text-align: right;\n",
       "    }\n",
       "</style>\n",
       "<table border=\"1\" class=\"dataframe\">\n",
       "  <thead>\n",
       "    <tr style=\"text-align: right;\">\n",
       "      <th></th>\n",
       "      <th>STRUCTURE</th>\n",
       "      <th>STRUCTURE_ID</th>\n",
       "      <th>freq</th>\n",
       "      <th>indic_bt</th>\n",
       "      <th>nace_r2</th>\n",
       "      <th>s_adj</th>\n",
       "      <th>unit</th>\n",
       "      <th>geo</th>\n",
       "      <th>TIME_PERIOD</th>\n",
       "      <th>OBS_VALUE</th>\n",
       "      <th>OBS_FLAG</th>\n",
       "      <th>country</th>\n",
       "    </tr>\n",
       "  </thead>\n",
       "  <tbody>\n",
       "    <tr>\n",
       "      <th>0</th>\n",
       "      <td>dataflow</td>\n",
       "      <td>ESTAT:STS_COLB_A(1.0)</td>\n",
       "      <td>A</td>\n",
       "      <td>EMPL</td>\n",
       "      <td>F</td>\n",
       "      <td>NSA</td>\n",
       "      <td>PCH_SM</td>\n",
       "      <td>AL</td>\n",
       "      <td>2009</td>\n",
       "      <td>6.5</td>\n",
       "      <td>None</td>\n",
       "      <td>Albania</td>\n",
       "    </tr>\n",
       "    <tr>\n",
       "      <th>1</th>\n",
       "      <td>dataflow</td>\n",
       "      <td>ESTAT:STS_COLB_A(1.0)</td>\n",
       "      <td>A</td>\n",
       "      <td>EMPL</td>\n",
       "      <td>F</td>\n",
       "      <td>NSA</td>\n",
       "      <td>PCH_SM</td>\n",
       "      <td>AL</td>\n",
       "      <td>2010</td>\n",
       "      <td>-3.6</td>\n",
       "      <td>None</td>\n",
       "      <td>Albania</td>\n",
       "    </tr>\n",
       "    <tr>\n",
       "      <th>2</th>\n",
       "      <td>dataflow</td>\n",
       "      <td>ESTAT:STS_COLB_A(1.0)</td>\n",
       "      <td>A</td>\n",
       "      <td>EMPL</td>\n",
       "      <td>F</td>\n",
       "      <td>NSA</td>\n",
       "      <td>PCH_SM</td>\n",
       "      <td>AL</td>\n",
       "      <td>2011</td>\n",
       "      <td>-8.8</td>\n",
       "      <td>None</td>\n",
       "      <td>Albania</td>\n",
       "    </tr>\n",
       "    <tr>\n",
       "      <th>3</th>\n",
       "      <td>dataflow</td>\n",
       "      <td>ESTAT:STS_COLB_A(1.0)</td>\n",
       "      <td>A</td>\n",
       "      <td>EMPL</td>\n",
       "      <td>F</td>\n",
       "      <td>NSA</td>\n",
       "      <td>PCH_SM</td>\n",
       "      <td>AL</td>\n",
       "      <td>2012</td>\n",
       "      <td>3.2</td>\n",
       "      <td>None</td>\n",
       "      <td>Albania</td>\n",
       "    </tr>\n",
       "    <tr>\n",
       "      <th>4</th>\n",
       "      <td>dataflow</td>\n",
       "      <td>ESTAT:STS_COLB_A(1.0)</td>\n",
       "      <td>A</td>\n",
       "      <td>EMPL</td>\n",
       "      <td>F</td>\n",
       "      <td>NSA</td>\n",
       "      <td>PCH_SM</td>\n",
       "      <td>AL</td>\n",
       "      <td>2013</td>\n",
       "      <td>-5.8</td>\n",
       "      <td>None</td>\n",
       "      <td>Albania</td>\n",
       "    </tr>\n",
       "  </tbody>\n",
       "</table>\n",
       "</div>"
      ],
      "text/plain": [
       "  STRUCTURE           STRUCTURE_ID freq indic_bt nace_r2 s_adj    unit geo  \\\n",
       "0  dataflow  ESTAT:STS_COLB_A(1.0)    A     EMPL       F   NSA  PCH_SM  AL   \n",
       "1  dataflow  ESTAT:STS_COLB_A(1.0)    A     EMPL       F   NSA  PCH_SM  AL   \n",
       "2  dataflow  ESTAT:STS_COLB_A(1.0)    A     EMPL       F   NSA  PCH_SM  AL   \n",
       "3  dataflow  ESTAT:STS_COLB_A(1.0)    A     EMPL       F   NSA  PCH_SM  AL   \n",
       "4  dataflow  ESTAT:STS_COLB_A(1.0)    A     EMPL       F   NSA  PCH_SM  AL   \n",
       "\n",
       "   TIME_PERIOD  OBS_VALUE OBS_FLAG  country  \n",
       "0         2009        6.5     None  Albania  \n",
       "1         2010       -3.6     None  Albania  \n",
       "2         2011       -8.8     None  Albania  \n",
       "3         2012        3.2     None  Albania  \n",
       "4         2013       -5.8     None  Albania  "
      ]
     },
     "execution_count": 44,
     "metadata": {},
     "output_type": "execute_result"
    }
   ],
   "source": [
    "filtered_df.head()"
   ]
  },
  {
   "cell_type": "code",
   "execution_count": 45,
   "metadata": {},
   "outputs": [
    {
     "data": {
      "application/vnd.plotly.v1+json": {
       "config": {
        "plotlyServerURL": "https://plot.ly"
       },
       "data": [
        {
         "coloraxis": "coloraxis",
         "geo": "geo",
         "hovertemplate": "<b>%{hovertext}</b><br><br>TIME_PERIOD=2009<br>country=%{location}<br>OBS_VALUE=%{z}<extra></extra>",
         "hovertext": [
          "Albania",
          "Austria",
          "Belgium",
          "Bulgaria",
          "Switzerland",
          "Cyprus",
          "Czechia",
          "Germany",
          "Denmark",
          "Estonia",
          "Greece",
          "Spain",
          "Finland",
          "France",
          "Croatia",
          "Hungary",
          "Ireland",
          "Iceland",
          "Italy",
          "Lithuania",
          "Luxembourg",
          "Latvia",
          "Montenegro",
          "North Macedonia",
          "Malta",
          "Netherlands",
          "Norway",
          "Poland",
          "Portugal",
          "Romania",
          "Serbia",
          "Sweden",
          "Slovenia",
          "Slovakia",
          "Turkey",
          "United Kingdom"
         ],
         "locationmode": "country names",
         "locations": [
          "Albania",
          "Austria",
          "Belgium",
          "Bulgaria",
          "Switzerland",
          "Cyprus",
          "Czechia",
          "Germany",
          "Denmark",
          "Estonia",
          "Greece",
          "Spain",
          "Finland",
          "France",
          "Croatia",
          "Hungary",
          "Ireland",
          "Iceland",
          "Italy",
          "Lithuania",
          "Luxembourg",
          "Latvia",
          "Montenegro",
          "North Macedonia",
          "Malta",
          "Netherlands",
          "Norway",
          "Poland",
          "Portugal",
          "Romania",
          "Serbia",
          "Sweden",
          "Slovenia",
          "Slovakia",
          "Turkey",
          "United Kingdom"
         ],
         "name": "",
         "type": "choropleth",
         "z": [
          6.5,
          2.9,
          -0.1,
          -10.3,
          0,
          -3.6,
          -2.2,
          1.3,
          -11.6,
          -16,
          -1.3,
          -23.2,
          -5.7,
          -2,
          -3,
          -8.1,
          -31.6,
          -40,
          -3.4,
          -21.3,
          -1.6,
          -36.6,
          13.2,
          -0.7,
          -7,
          -2.5,
          -4.2,
          3.8,
          -9.9,
          -15.4,
          -13.5,
          0.9,
          -1.3,
          2,
          -67.4,
          -3.1
         ]
        }
       ],
       "frames": [
        {
         "data": [
          {
           "coloraxis": "coloraxis",
           "geo": "geo",
           "hovertemplate": "<b>%{hovertext}</b><br><br>TIME_PERIOD=2009<br>country=%{location}<br>OBS_VALUE=%{z}<extra></extra>",
           "hovertext": [
            "Albania",
            "Austria",
            "Belgium",
            "Bulgaria",
            "Switzerland",
            "Cyprus",
            "Czechia",
            "Germany",
            "Denmark",
            "Estonia",
            "Greece",
            "Spain",
            "Finland",
            "France",
            "Croatia",
            "Hungary",
            "Ireland",
            "Iceland",
            "Italy",
            "Lithuania",
            "Luxembourg",
            "Latvia",
            "Montenegro",
            "North Macedonia",
            "Malta",
            "Netherlands",
            "Norway",
            "Poland",
            "Portugal",
            "Romania",
            "Serbia",
            "Sweden",
            "Slovenia",
            "Slovakia",
            "Turkey",
            "United Kingdom"
           ],
           "locationmode": "country names",
           "locations": [
            "Albania",
            "Austria",
            "Belgium",
            "Bulgaria",
            "Switzerland",
            "Cyprus",
            "Czechia",
            "Germany",
            "Denmark",
            "Estonia",
            "Greece",
            "Spain",
            "Finland",
            "France",
            "Croatia",
            "Hungary",
            "Ireland",
            "Iceland",
            "Italy",
            "Lithuania",
            "Luxembourg",
            "Latvia",
            "Montenegro",
            "North Macedonia",
            "Malta",
            "Netherlands",
            "Norway",
            "Poland",
            "Portugal",
            "Romania",
            "Serbia",
            "Sweden",
            "Slovenia",
            "Slovakia",
            "Turkey",
            "United Kingdom"
           ],
           "name": "",
           "type": "choropleth",
           "z": [
            6.5,
            2.9,
            -0.1,
            -10.3,
            0,
            -3.6,
            -2.2,
            1.3,
            -11.6,
            -16,
            -1.3,
            -23.2,
            -5.7,
            -2,
            -3,
            -8.1,
            -31.6,
            -40,
            -3.4,
            -21.3,
            -1.6,
            -36.6,
            13.2,
            -0.7,
            -7,
            -2.5,
            -4.2,
            3.8,
            -9.9,
            -15.4,
            -13.5,
            0.9,
            -1.3,
            2,
            -67.4,
            -3.1
           ]
          }
         ],
         "name": "2009"
        },
        {
         "data": [
          {
           "coloraxis": "coloraxis",
           "geo": "geo",
           "hovertemplate": "<b>%{hovertext}</b><br><br>TIME_PERIOD=2010<br>country=%{location}<br>OBS_VALUE=%{z}<extra></extra>",
           "hovertext": [
            "Albania",
            "Austria",
            "Belgium",
            "Bulgaria",
            "Switzerland",
            "Cyprus",
            "Czechia",
            "Germany",
            "Denmark",
            "Estonia",
            "Greece",
            "Spain",
            "Finland",
            "France",
            "Croatia",
            "Hungary",
            "Ireland",
            "Iceland",
            "Italy",
            "Lithuania",
            "Luxembourg",
            "Latvia",
            "Montenegro",
            "North Macedonia",
            "Malta",
            "Netherlands",
            "Norway",
            "Poland",
            "Portugal",
            "Romania",
            "Serbia",
            "Sweden",
            "Slovenia",
            "Slovakia",
            "Turkey",
            "United Kingdom"
           ],
           "locationmode": "country names",
           "locations": [
            "Albania",
            "Austria",
            "Belgium",
            "Bulgaria",
            "Switzerland",
            "Cyprus",
            "Czechia",
            "Germany",
            "Denmark",
            "Estonia",
            "Greece",
            "Spain",
            "Finland",
            "France",
            "Croatia",
            "Hungary",
            "Ireland",
            "Iceland",
            "Italy",
            "Lithuania",
            "Luxembourg",
            "Latvia",
            "Montenegro",
            "North Macedonia",
            "Malta",
            "Netherlands",
            "Norway",
            "Poland",
            "Portugal",
            "Romania",
            "Serbia",
            "Sweden",
            "Slovenia",
            "Slovakia",
            "Turkey",
            "United Kingdom"
           ],
           "name": "",
           "type": "choropleth",
           "z": [
            -3.6,
            -1,
            1.3,
            -22.5,
            1.9,
            -4.3,
            0.8,
            2,
            -9.2,
            -18.3,
            -9.8,
            -12.6,
            -1.6,
            -1.8,
            -13.3,
            0.3,
            -28.6,
            -16.3,
            -3.1,
            -17.8,
            -0.6,
            -18.9,
            -20.9,
            1.5,
            -7.5,
            -3.5,
            -1.5,
            1.3,
            -9.6,
            -14.8,
            -9.7,
            -0.6,
            -9.5,
            -2.6,
            17.8,
            -9.8
           ]
          }
         ],
         "name": "2010"
        },
        {
         "data": [
          {
           "coloraxis": "coloraxis",
           "geo": "geo",
           "hovertemplate": "<b>%{hovertext}</b><br><br>TIME_PERIOD=2011<br>country=%{location}<br>OBS_VALUE=%{z}<extra></extra>",
           "hovertext": [
            "Albania",
            "Austria",
            "Belgium",
            "Bulgaria",
            "Switzerland",
            "Cyprus",
            "Czechia",
            "Germany",
            "Denmark",
            "Estonia",
            "Greece",
            "Spain",
            "Finland",
            "France",
            "Croatia",
            "Hungary",
            "Ireland",
            "Iceland",
            "Italy",
            "Lithuania",
            "Luxembourg",
            "Latvia",
            "Montenegro",
            "North Macedonia",
            "Malta",
            "Netherlands",
            "Norway",
            "Poland",
            "Portugal",
            "Romania",
            "Serbia",
            "Sweden",
            "Slovenia",
            "Slovakia",
            "Turkey",
            "United Kingdom"
           ],
           "locationmode": "country names",
           "locations": [
            "Albania",
            "Austria",
            "Belgium",
            "Bulgaria",
            "Switzerland",
            "Cyprus",
            "Czechia",
            "Germany",
            "Denmark",
            "Estonia",
            "Greece",
            "Spain",
            "Finland",
            "France",
            "Croatia",
            "Hungary",
            "Ireland",
            "Iceland",
            "Italy",
            "Lithuania",
            "Luxembourg",
            "Latvia",
            "Montenegro",
            "North Macedonia",
            "Malta",
            "Netherlands",
            "Norway",
            "Poland",
            "Portugal",
            "Romania",
            "Serbia",
            "Sweden",
            "Slovenia",
            "Slovakia",
            "Turkey",
            "United Kingdom"
           ],
           "name": "",
           "type": "choropleth",
           "z": [
            -8.8,
            2.2,
            2.4,
            -11.3,
            0.7,
            -6.2,
            -2.2,
            3.5,
            0.6,
            0.2,
            -17.2,
            -15,
            2.7,
            -0.7,
            -7.5,
            -1.8,
            -7.9,
            -8,
            -3.1,
            3.8,
            -1.3,
            9,
            0.3,
            10.3,
            -4.9,
            -1.9,
            3.8,
            7.6,
            -10.7,
            -0.6,
            -4.2,
            7.7,
            -13.6,
            -3.6,
            21,
            -2.3
           ]
          }
         ],
         "name": "2011"
        },
        {
         "data": [
          {
           "coloraxis": "coloraxis",
           "geo": "geo",
           "hovertemplate": "<b>%{hovertext}</b><br><br>TIME_PERIOD=2012<br>country=%{location}<br>OBS_VALUE=%{z}<extra></extra>",
           "hovertext": [
            "Albania",
            "Austria",
            "Belgium",
            "Bulgaria",
            "Switzerland",
            "Cyprus",
            "Czechia",
            "Germany",
            "Denmark",
            "Estonia",
            "Greece",
            "Spain",
            "Finland",
            "France",
            "Croatia",
            "Hungary",
            "Ireland",
            "Iceland",
            "Italy",
            "Lithuania",
            "Luxembourg",
            "Latvia",
            "Montenegro",
            "North Macedonia",
            "Malta",
            "Netherlands",
            "Norway",
            "Poland",
            "Portugal",
            "Romania",
            "Serbia",
            "Sweden",
            "Slovenia",
            "Slovakia",
            "Turkey",
            "United Kingdom"
           ],
           "locationmode": "country names",
           "locations": [
            "Albania",
            "Austria",
            "Belgium",
            "Bulgaria",
            "Switzerland",
            "Cyprus",
            "Czechia",
            "Germany",
            "Denmark",
            "Estonia",
            "Greece",
            "Spain",
            "Finland",
            "France",
            "Croatia",
            "Hungary",
            "Ireland",
            "Iceland",
            "Italy",
            "Lithuania",
            "Luxembourg",
            "Latvia",
            "Montenegro",
            "North Macedonia",
            "Malta",
            "Netherlands",
            "Norway",
            "Poland",
            "Portugal",
            "Romania",
            "Serbia",
            "Sweden",
            "Slovenia",
            "Slovakia",
            "Turkey",
            "United Kingdom"
           ],
           "name": "",
           "type": "choropleth",
           "z": [
            3.2,
            1.8,
            0.9,
            -7.6,
            1.9,
            -14.5,
            -0.8,
            1,
            -0.1,
            12,
            -6.3,
            -17.3,
            -0.7,
            -0.7,
            -7.7,
            -2.6,
            -7.4,
            -1.6,
            -5.2,
            0,
            -1.8,
            10.4,
            3.8,
            -3.4,
            -3.6,
            -3.8,
            5.6,
            1.9,
            -14.1,
            7.6,
            -5,
            5.4,
            -11.8,
            -4.5,
            15.6,
            -1.5
           ]
          }
         ],
         "name": "2012"
        },
        {
         "data": [
          {
           "coloraxis": "coloraxis",
           "geo": "geo",
           "hovertemplate": "<b>%{hovertext}</b><br><br>TIME_PERIOD=2013<br>country=%{location}<br>OBS_VALUE=%{z}<extra></extra>",
           "hovertext": [
            "Albania",
            "Austria",
            "Belgium",
            "Bulgaria",
            "Switzerland",
            "Cyprus",
            "Czechia",
            "Germany",
            "Denmark",
            "Estonia",
            "Greece",
            "Spain",
            "Finland",
            "France",
            "Croatia",
            "Hungary",
            "Ireland",
            "Iceland",
            "Italy",
            "Lithuania",
            "Luxembourg",
            "Latvia",
            "Montenegro",
            "North Macedonia",
            "Malta",
            "Netherlands",
            "Norway",
            "Poland",
            "Portugal",
            "Romania",
            "Serbia",
            "Sweden",
            "Slovenia",
            "Slovakia",
            "Turkey",
            "United Kingdom"
           ],
           "locationmode": "country names",
           "locations": [
            "Albania",
            "Austria",
            "Belgium",
            "Bulgaria",
            "Switzerland",
            "Cyprus",
            "Czechia",
            "Germany",
            "Denmark",
            "Estonia",
            "Greece",
            "Spain",
            "Finland",
            "France",
            "Croatia",
            "Hungary",
            "Ireland",
            "Iceland",
            "Italy",
            "Lithuania",
            "Luxembourg",
            "Latvia",
            "Montenegro",
            "North Macedonia",
            "Malta",
            "Netherlands",
            "Norway",
            "Poland",
            "Portugal",
            "Romania",
            "Serbia",
            "Sweden",
            "Slovenia",
            "Slovakia",
            "Turkey",
            "United Kingdom"
           ],
           "name": "",
           "type": "choropleth",
           "z": [
            -5.8,
            -0.1,
            -1.1,
            -3.9,
            1.4,
            -20.4,
            -4.9,
            1.1,
            -11,
            0.4,
            0.3,
            -11.4,
            0.4,
            -1.9,
            -5.1,
            -3.3,
            0.4,
            7.1,
            -8.4,
            1.2,
            -2.9,
            10.3,
            1.2,
            27.9,
            -7.7,
            -8.8,
            3,
            -7.1,
            -15.7,
            -2.5,
            -5.4,
            -0.5,
            -9.3,
            -4,
            9,
            0.1
           ]
          }
         ],
         "name": "2013"
        },
        {
         "data": [
          {
           "coloraxis": "coloraxis",
           "geo": "geo",
           "hovertemplate": "<b>%{hovertext}</b><br><br>TIME_PERIOD=2014<br>country=%{location}<br>OBS_VALUE=%{z}<extra></extra>",
           "hovertext": [
            "Albania",
            "Austria",
            "Belgium",
            "Bulgaria",
            "Switzerland",
            "Cyprus",
            "Czechia",
            "Germany",
            "Denmark",
            "Estonia",
            "Greece",
            "Spain",
            "Finland",
            "France",
            "Croatia",
            "Hungary",
            "Ireland",
            "Iceland",
            "Italy",
            "Lithuania",
            "Luxembourg",
            "Latvia",
            "Montenegro",
            "North Macedonia",
            "Malta",
            "Netherlands",
            "Norway",
            "Poland",
            "Portugal",
            "Romania",
            "Serbia",
            "Sweden",
            "Slovenia",
            "Slovakia",
            "Turkey",
            "United Kingdom"
           ],
           "locationmode": "country names",
           "locations": [
            "Albania",
            "Austria",
            "Belgium",
            "Bulgaria",
            "Switzerland",
            "Cyprus",
            "Czechia",
            "Germany",
            "Denmark",
            "Estonia",
            "Greece",
            "Spain",
            "Finland",
            "France",
            "Croatia",
            "Hungary",
            "Ireland",
            "Iceland",
            "Italy",
            "Lithuania",
            "Luxembourg",
            "Latvia",
            "Montenegro",
            "North Macedonia",
            "Malta",
            "Netherlands",
            "Norway",
            "Poland",
            "Portugal",
            "Romania",
            "Serbia",
            "Sweden",
            "Slovenia",
            "Slovakia",
            "Turkey",
            "United Kingdom"
           ],
           "name": "",
           "type": "choropleth",
           "z": [
            17.2,
            -1.6,
            -1.4,
            4,
            0.9,
            -10,
            -1.7,
            1.4,
            2.7,
            -3,
            17.3,
            -3.5,
            -3.3,
            -2.4,
            -2.4,
            2,
            11.7,
            8.1,
            -5.6,
            5.4,
            0.3,
            0.1,
            6.6,
            7.3,
            0.7,
            -5.7,
            2.2,
            -7.4,
            -8.7,
            -2.3,
            -4.2,
            0.9,
            -0.5,
            -1.2,
            6,
            3.7
           ]
          }
         ],
         "name": "2014"
        },
        {
         "data": [
          {
           "coloraxis": "coloraxis",
           "geo": "geo",
           "hovertemplate": "<b>%{hovertext}</b><br><br>TIME_PERIOD=2015<br>country=%{location}<br>OBS_VALUE=%{z}<extra></extra>",
           "hovertext": [
            "Albania",
            "Austria",
            "Belgium",
            "Bulgaria",
            "Switzerland",
            "Cyprus",
            "Czechia",
            "Germany",
            "Denmark",
            "Estonia",
            "Greece",
            "Spain",
            "Finland",
            "France",
            "Croatia",
            "Hungary",
            "Ireland",
            "Iceland",
            "Italy",
            "Lithuania",
            "Luxembourg",
            "Latvia",
            "Montenegro",
            "North Macedonia",
            "Malta",
            "Netherlands",
            "Norway",
            "Poland",
            "Portugal",
            "Romania",
            "Serbia",
            "Sweden",
            "Slovenia",
            "Slovakia",
            "Turkey",
            "United Kingdom"
           ],
           "locationmode": "country names",
           "locations": [
            "Albania",
            "Austria",
            "Belgium",
            "Bulgaria",
            "Switzerland",
            "Cyprus",
            "Czechia",
            "Germany",
            "Denmark",
            "Estonia",
            "Greece",
            "Spain",
            "Finland",
            "France",
            "Croatia",
            "Hungary",
            "Ireland",
            "Iceland",
            "Italy",
            "Lithuania",
            "Luxembourg",
            "Latvia",
            "Montenegro",
            "North Macedonia",
            "Malta",
            "Netherlands",
            "Norway",
            "Poland",
            "Portugal",
            "Romania",
            "Serbia",
            "Sweden",
            "Slovenia",
            "Slovakia",
            "Turkey",
            "United Kingdom"
           ],
           "name": "",
           "type": "choropleth",
           "z": [
            11.4,
            -1.4,
            -0.6,
            -1.8,
            0.3,
            -0.5,
            1.8,
            -0.2,
            3.3,
            6.6,
            -24.6,
            8.1,
            -0.1,
            -3.5,
            -0.4,
            1.2,
            17.4,
            9.8,
            -3.2,
            4.8,
            -0.4,
            -2.2,
            3.1,
            10.4,
            10.1,
            -1.9,
            2.4,
            -5.7,
            -4.1,
            5.7,
            -0.9,
            3.6,
            0.6,
            -0.8,
            6.4,
            3.7
           ]
          }
         ],
         "name": "2015"
        },
        {
         "data": [
          {
           "coloraxis": "coloraxis",
           "geo": "geo",
           "hovertemplate": "<b>%{hovertext}</b><br><br>TIME_PERIOD=2016<br>country=%{location}<br>OBS_VALUE=%{z}<extra></extra>",
           "hovertext": [
            "Albania",
            "Austria",
            "Belgium",
            "Bulgaria",
            "Switzerland",
            "Cyprus",
            "Czechia",
            "Germany",
            "Denmark",
            "Estonia",
            "Greece",
            "Spain",
            "Finland",
            "France",
            "Croatia",
            "Hungary",
            "Ireland",
            "Iceland",
            "Italy",
            "Lithuania",
            "Luxembourg",
            "Latvia",
            "Montenegro",
            "North Macedonia",
            "Malta",
            "Netherlands",
            "Norway",
            "Poland",
            "Portugal",
            "Romania",
            "Serbia",
            "Sweden",
            "Slovenia",
            "Slovakia",
            "Turkey",
            "United Kingdom"
           ],
           "locationmode": "country names",
           "locations": [
            "Albania",
            "Austria",
            "Belgium",
            "Bulgaria",
            "Switzerland",
            "Cyprus",
            "Czechia",
            "Germany",
            "Denmark",
            "Estonia",
            "Greece",
            "Spain",
            "Finland",
            "France",
            "Croatia",
            "Hungary",
            "Ireland",
            "Iceland",
            "Italy",
            "Lithuania",
            "Luxembourg",
            "Latvia",
            "Montenegro",
            "North Macedonia",
            "Malta",
            "Netherlands",
            "Norway",
            "Poland",
            "Portugal",
            "Romania",
            "Serbia",
            "Sweden",
            "Slovenia",
            "Slovakia",
            "Turkey",
            "United Kingdom"
           ],
           "name": "",
           "type": "choropleth",
           "z": [
            6.2,
            0.3,
            1.4,
            -4.2,
            -0.2,
            8,
            -2.7,
            1.4,
            3.9,
            -1.2,
            18.6,
            0,
            5,
            -1.1,
            -1.2,
            3.5,
            14.2,
            17,
            -0.3,
            -4.7,
            1.6,
            -7.1,
            8.8,
            7.3,
            1.4,
            -0.3,
            2.7,
            -0.9,
            -4,
            5,
            0,
            5.4,
            -0.8,
            1.2,
            4.4,
            2.7
           ]
          }
         ],
         "name": "2016"
        },
        {
         "data": [
          {
           "coloraxis": "coloraxis",
           "geo": "geo",
           "hovertemplate": "<b>%{hovertext}</b><br><br>TIME_PERIOD=2017<br>country=%{location}<br>OBS_VALUE=%{z}<extra></extra>",
           "hovertext": [
            "Albania",
            "Austria",
            "Belgium",
            "Bulgaria",
            "Switzerland",
            "Cyprus",
            "Czechia",
            "Germany",
            "Denmark",
            "Estonia",
            "Greece",
            "Spain",
            "Finland",
            "France",
            "Croatia",
            "Hungary",
            "Ireland",
            "Iceland",
            "Italy",
            "Lithuania",
            "Luxembourg",
            "Latvia",
            "Montenegro",
            "North Macedonia",
            "Malta",
            "Netherlands",
            "Norway",
            "Poland",
            "Portugal",
            "Romania",
            "Serbia",
            "Sweden",
            "Slovenia",
            "Slovakia",
            "Turkey",
            "United Kingdom"
           ],
           "locationmode": "country names",
           "locations": [
            "Albania",
            "Austria",
            "Belgium",
            "Bulgaria",
            "Switzerland",
            "Cyprus",
            "Czechia",
            "Germany",
            "Denmark",
            "Estonia",
            "Greece",
            "Spain",
            "Finland",
            "France",
            "Croatia",
            "Hungary",
            "Ireland",
            "Iceland",
            "Italy",
            "Lithuania",
            "Luxembourg",
            "Latvia",
            "Montenegro",
            "North Macedonia",
            "Malta",
            "Netherlands",
            "Norway",
            "Poland",
            "Portugal",
            "Romania",
            "Serbia",
            "Sweden",
            "Slovenia",
            "Slovakia",
            "Turkey",
            "United Kingdom"
           ],
           "name": "",
           "type": "choropleth",
           "z": [
            2.8,
            2.8,
            2.2,
            3.8,
            0.6,
            15,
            1.3,
            2.3,
            3.8,
            6.4,
            4.8,
            5.1,
            5,
            0.8,
            3.5,
            3.7,
            8.2,
            16.9,
            -1.5,
            1.7,
            3.1,
            4.3,
            6,
            -3,
            -15.2,
            3,
            4.2,
            2.2,
            1.8,
            -0.9,
            1.2,
            3.6,
            3.4,
            2.5,
            4.2,
            5.6
           ]
          }
         ],
         "name": "2017"
        },
        {
         "data": [
          {
           "coloraxis": "coloraxis",
           "geo": "geo",
           "hovertemplate": "<b>%{hovertext}</b><br><br>TIME_PERIOD=2018<br>country=%{location}<br>OBS_VALUE=%{z}<extra></extra>",
           "hovertext": [
            "Albania",
            "Austria",
            "Belgium",
            "Bulgaria",
            "Switzerland",
            "Cyprus",
            "Czechia",
            "Germany",
            "Denmark",
            "Estonia",
            "Greece",
            "Spain",
            "Finland",
            "France",
            "Croatia",
            "Hungary",
            "Ireland",
            "Iceland",
            "Italy",
            "Lithuania",
            "Luxembourg",
            "Latvia",
            "Montenegro",
            "North Macedonia",
            "Malta",
            "Netherlands",
            "Norway",
            "Poland",
            "Portugal",
            "Romania",
            "Serbia",
            "Sweden",
            "Slovenia",
            "Slovakia",
            "Turkey",
            "United Kingdom"
           ],
           "locationmode": "country names",
           "locations": [
            "Albania",
            "Austria",
            "Belgium",
            "Bulgaria",
            "Switzerland",
            "Cyprus",
            "Czechia",
            "Germany",
            "Denmark",
            "Estonia",
            "Greece",
            "Spain",
            "Finland",
            "France",
            "Croatia",
            "Hungary",
            "Ireland",
            "Iceland",
            "Italy",
            "Lithuania",
            "Luxembourg",
            "Latvia",
            "Montenegro",
            "North Macedonia",
            "Malta",
            "Netherlands",
            "Norway",
            "Poland",
            "Portugal",
            "Romania",
            "Serbia",
            "Sweden",
            "Slovenia",
            "Slovakia",
            "Turkey",
            "United Kingdom"
           ],
           "name": "",
           "type": "choropleth",
           "z": [
            3.9,
            4.5,
            2.7,
            0.8,
            1.2,
            13.9,
            1.4,
            2,
            4,
            5,
            5.6,
            8.3,
            5.4,
            2.1,
            5.2,
            9.1,
            12.1,
            10,
            0.1,
            4.3,
            2.2,
            7.4,
            12.4,
            -4.9,
            -1,
            3.5,
            3.6,
            4.3,
            2.3,
            6.2,
            8,
            5.2,
            4.8,
            3.4,
            -2.1,
            0.3
           ]
          }
         ],
         "name": "2018"
        },
        {
         "data": [
          {
           "coloraxis": "coloraxis",
           "geo": "geo",
           "hovertemplate": "<b>%{hovertext}</b><br><br>TIME_PERIOD=2019<br>country=%{location}<br>OBS_VALUE=%{z}<extra></extra>",
           "hovertext": [
            "Albania",
            "Austria",
            "Belgium",
            "Bulgaria",
            "Switzerland",
            "Cyprus",
            "Czechia",
            "Germany",
            "Denmark",
            "Estonia",
            "Greece",
            "Spain",
            "Finland",
            "France",
            "Croatia",
            "Hungary",
            "Ireland",
            "Iceland",
            "Italy",
            "Lithuania",
            "Luxembourg",
            "Latvia",
            "Montenegro",
            "North Macedonia",
            "Malta",
            "Netherlands",
            "Norway",
            "Poland",
            "Portugal",
            "Romania",
            "Serbia",
            "Sweden",
            "Slovenia",
            "Slovakia",
            "Turkey",
            "United Kingdom"
           ],
           "locationmode": "country names",
           "locations": [
            "Albania",
            "Austria",
            "Belgium",
            "Bulgaria",
            "Switzerland",
            "Cyprus",
            "Czechia",
            "Germany",
            "Denmark",
            "Estonia",
            "Greece",
            "Spain",
            "Finland",
            "France",
            "Croatia",
            "Hungary",
            "Ireland",
            "Iceland",
            "Italy",
            "Lithuania",
            "Luxembourg",
            "Latvia",
            "Montenegro",
            "North Macedonia",
            "Malta",
            "Netherlands",
            "Norway",
            "Poland",
            "Portugal",
            "Romania",
            "Serbia",
            "Sweden",
            "Slovenia",
            "Slovakia",
            "Turkey",
            "United Kingdom"
           ],
           "name": "",
           "type": "choropleth",
           "z": [
            2,
            5.1,
            2.6,
            3,
            1.6,
            9.6,
            1.8,
            1.8,
            1.9,
            3.5,
            -19.7,
            4.6,
            -3,
            3.8,
            7.2,
            18.9,
            5.3,
            2.3,
            1,
            1.9,
            2.4,
            3.7,
            16.4,
            -10,
            6.1,
            3.4,
            3.1,
            5,
            2.2,
            5.2,
            9.7,
            2.4,
            9.4,
            6.4,
            -25.8,
            2.9
           ]
          }
         ],
         "name": "2019"
        }
       ],
       "layout": {
        "coloraxis": {
         "colorbar": {
          "title": {
           "text": "OBS_VALUE"
          }
         },
         "colorscale": [
          [
           0,
           "#0d0887"
          ],
          [
           0.1111111111111111,
           "#46039f"
          ],
          [
           0.2222222222222222,
           "#7201a8"
          ],
          [
           0.3333333333333333,
           "#9c179e"
          ],
          [
           0.4444444444444444,
           "#bd3786"
          ],
          [
           0.5555555555555556,
           "#d8576b"
          ],
          [
           0.6666666666666666,
           "#ed7953"
          ],
          [
           0.7777777777777778,
           "#fb9f3a"
          ],
          [
           0.8888888888888888,
           "#fdca26"
          ],
          [
           1,
           "#f0f921"
          ]
         ]
        },
        "geo": {
         "center": {},
         "domain": {
          "x": [
           0,
           1
          ],
          "y": [
           0,
           1
          ]
         },
         "projection": {
          "type": "natural earth"
         }
        },
        "legend": {
         "tracegroupgap": 0
        },
        "margin": {
         "t": 60
        },
        "sliders": [
         {
          "active": 0,
          "currentvalue": {
           "prefix": "TIME_PERIOD="
          },
          "len": 0.9,
          "pad": {
           "b": 10,
           "t": 60
          },
          "steps": [
           {
            "args": [
             [
              "2009"
             ],
             {
              "frame": {
               "duration": 0,
               "redraw": true
              },
              "fromcurrent": true,
              "mode": "immediate",
              "transition": {
               "duration": 0,
               "easing": "linear"
              }
             }
            ],
            "label": "2009",
            "method": "animate"
           },
           {
            "args": [
             [
              "2010"
             ],
             {
              "frame": {
               "duration": 0,
               "redraw": true
              },
              "fromcurrent": true,
              "mode": "immediate",
              "transition": {
               "duration": 0,
               "easing": "linear"
              }
             }
            ],
            "label": "2010",
            "method": "animate"
           },
           {
            "args": [
             [
              "2011"
             ],
             {
              "frame": {
               "duration": 0,
               "redraw": true
              },
              "fromcurrent": true,
              "mode": "immediate",
              "transition": {
               "duration": 0,
               "easing": "linear"
              }
             }
            ],
            "label": "2011",
            "method": "animate"
           },
           {
            "args": [
             [
              "2012"
             ],
             {
              "frame": {
               "duration": 0,
               "redraw": true
              },
              "fromcurrent": true,
              "mode": "immediate",
              "transition": {
               "duration": 0,
               "easing": "linear"
              }
             }
            ],
            "label": "2012",
            "method": "animate"
           },
           {
            "args": [
             [
              "2013"
             ],
             {
              "frame": {
               "duration": 0,
               "redraw": true
              },
              "fromcurrent": true,
              "mode": "immediate",
              "transition": {
               "duration": 0,
               "easing": "linear"
              }
             }
            ],
            "label": "2013",
            "method": "animate"
           },
           {
            "args": [
             [
              "2014"
             ],
             {
              "frame": {
               "duration": 0,
               "redraw": true
              },
              "fromcurrent": true,
              "mode": "immediate",
              "transition": {
               "duration": 0,
               "easing": "linear"
              }
             }
            ],
            "label": "2014",
            "method": "animate"
           },
           {
            "args": [
             [
              "2015"
             ],
             {
              "frame": {
               "duration": 0,
               "redraw": true
              },
              "fromcurrent": true,
              "mode": "immediate",
              "transition": {
               "duration": 0,
               "easing": "linear"
              }
             }
            ],
            "label": "2015",
            "method": "animate"
           },
           {
            "args": [
             [
              "2016"
             ],
             {
              "frame": {
               "duration": 0,
               "redraw": true
              },
              "fromcurrent": true,
              "mode": "immediate",
              "transition": {
               "duration": 0,
               "easing": "linear"
              }
             }
            ],
            "label": "2016",
            "method": "animate"
           },
           {
            "args": [
             [
              "2017"
             ],
             {
              "frame": {
               "duration": 0,
               "redraw": true
              },
              "fromcurrent": true,
              "mode": "immediate",
              "transition": {
               "duration": 0,
               "easing": "linear"
              }
             }
            ],
            "label": "2017",
            "method": "animate"
           },
           {
            "args": [
             [
              "2018"
             ],
             {
              "frame": {
               "duration": 0,
               "redraw": true
              },
              "fromcurrent": true,
              "mode": "immediate",
              "transition": {
               "duration": 0,
               "easing": "linear"
              }
             }
            ],
            "label": "2018",
            "method": "animate"
           },
           {
            "args": [
             [
              "2019"
             ],
             {
              "frame": {
               "duration": 0,
               "redraw": true
              },
              "fromcurrent": true,
              "mode": "immediate",
              "transition": {
               "duration": 0,
               "easing": "linear"
              }
             }
            ],
            "label": "2019",
            "method": "animate"
           }
          ],
          "x": 0.1,
          "xanchor": "left",
          "y": 0,
          "yanchor": "top"
         }
        ],
        "template": {
         "data": {
          "bar": [
           {
            "error_x": {
             "color": "#2a3f5f"
            },
            "error_y": {
             "color": "#2a3f5f"
            },
            "marker": {
             "line": {
              "color": "#E5ECF6",
              "width": 0.5
             },
             "pattern": {
              "fillmode": "overlay",
              "size": 10,
              "solidity": 0.2
             }
            },
            "type": "bar"
           }
          ],
          "barpolar": [
           {
            "marker": {
             "line": {
              "color": "#E5ECF6",
              "width": 0.5
             },
             "pattern": {
              "fillmode": "overlay",
              "size": 10,
              "solidity": 0.2
             }
            },
            "type": "barpolar"
           }
          ],
          "carpet": [
           {
            "aaxis": {
             "endlinecolor": "#2a3f5f",
             "gridcolor": "white",
             "linecolor": "white",
             "minorgridcolor": "white",
             "startlinecolor": "#2a3f5f"
            },
            "baxis": {
             "endlinecolor": "#2a3f5f",
             "gridcolor": "white",
             "linecolor": "white",
             "minorgridcolor": "white",
             "startlinecolor": "#2a3f5f"
            },
            "type": "carpet"
           }
          ],
          "choropleth": [
           {
            "colorbar": {
             "outlinewidth": 0,
             "ticks": ""
            },
            "type": "choropleth"
           }
          ],
          "contour": [
           {
            "colorbar": {
             "outlinewidth": 0,
             "ticks": ""
            },
            "colorscale": [
             [
              0,
              "#0d0887"
             ],
             [
              0.1111111111111111,
              "#46039f"
             ],
             [
              0.2222222222222222,
              "#7201a8"
             ],
             [
              0.3333333333333333,
              "#9c179e"
             ],
             [
              0.4444444444444444,
              "#bd3786"
             ],
             [
              0.5555555555555556,
              "#d8576b"
             ],
             [
              0.6666666666666666,
              "#ed7953"
             ],
             [
              0.7777777777777778,
              "#fb9f3a"
             ],
             [
              0.8888888888888888,
              "#fdca26"
             ],
             [
              1,
              "#f0f921"
             ]
            ],
            "type": "contour"
           }
          ],
          "contourcarpet": [
           {
            "colorbar": {
             "outlinewidth": 0,
             "ticks": ""
            },
            "type": "contourcarpet"
           }
          ],
          "heatmap": [
           {
            "colorbar": {
             "outlinewidth": 0,
             "ticks": ""
            },
            "colorscale": [
             [
              0,
              "#0d0887"
             ],
             [
              0.1111111111111111,
              "#46039f"
             ],
             [
              0.2222222222222222,
              "#7201a8"
             ],
             [
              0.3333333333333333,
              "#9c179e"
             ],
             [
              0.4444444444444444,
              "#bd3786"
             ],
             [
              0.5555555555555556,
              "#d8576b"
             ],
             [
              0.6666666666666666,
              "#ed7953"
             ],
             [
              0.7777777777777778,
              "#fb9f3a"
             ],
             [
              0.8888888888888888,
              "#fdca26"
             ],
             [
              1,
              "#f0f921"
             ]
            ],
            "type": "heatmap"
           }
          ],
          "heatmapgl": [
           {
            "colorbar": {
             "outlinewidth": 0,
             "ticks": ""
            },
            "colorscale": [
             [
              0,
              "#0d0887"
             ],
             [
              0.1111111111111111,
              "#46039f"
             ],
             [
              0.2222222222222222,
              "#7201a8"
             ],
             [
              0.3333333333333333,
              "#9c179e"
             ],
             [
              0.4444444444444444,
              "#bd3786"
             ],
             [
              0.5555555555555556,
              "#d8576b"
             ],
             [
              0.6666666666666666,
              "#ed7953"
             ],
             [
              0.7777777777777778,
              "#fb9f3a"
             ],
             [
              0.8888888888888888,
              "#fdca26"
             ],
             [
              1,
              "#f0f921"
             ]
            ],
            "type": "heatmapgl"
           }
          ],
          "histogram": [
           {
            "marker": {
             "pattern": {
              "fillmode": "overlay",
              "size": 10,
              "solidity": 0.2
             }
            },
            "type": "histogram"
           }
          ],
          "histogram2d": [
           {
            "colorbar": {
             "outlinewidth": 0,
             "ticks": ""
            },
            "colorscale": [
             [
              0,
              "#0d0887"
             ],
             [
              0.1111111111111111,
              "#46039f"
             ],
             [
              0.2222222222222222,
              "#7201a8"
             ],
             [
              0.3333333333333333,
              "#9c179e"
             ],
             [
              0.4444444444444444,
              "#bd3786"
             ],
             [
              0.5555555555555556,
              "#d8576b"
             ],
             [
              0.6666666666666666,
              "#ed7953"
             ],
             [
              0.7777777777777778,
              "#fb9f3a"
             ],
             [
              0.8888888888888888,
              "#fdca26"
             ],
             [
              1,
              "#f0f921"
             ]
            ],
            "type": "histogram2d"
           }
          ],
          "histogram2dcontour": [
           {
            "colorbar": {
             "outlinewidth": 0,
             "ticks": ""
            },
            "colorscale": [
             [
              0,
              "#0d0887"
             ],
             [
              0.1111111111111111,
              "#46039f"
             ],
             [
              0.2222222222222222,
              "#7201a8"
             ],
             [
              0.3333333333333333,
              "#9c179e"
             ],
             [
              0.4444444444444444,
              "#bd3786"
             ],
             [
              0.5555555555555556,
              "#d8576b"
             ],
             [
              0.6666666666666666,
              "#ed7953"
             ],
             [
              0.7777777777777778,
              "#fb9f3a"
             ],
             [
              0.8888888888888888,
              "#fdca26"
             ],
             [
              1,
              "#f0f921"
             ]
            ],
            "type": "histogram2dcontour"
           }
          ],
          "mesh3d": [
           {
            "colorbar": {
             "outlinewidth": 0,
             "ticks": ""
            },
            "type": "mesh3d"
           }
          ],
          "parcoords": [
           {
            "line": {
             "colorbar": {
              "outlinewidth": 0,
              "ticks": ""
             }
            },
            "type": "parcoords"
           }
          ],
          "pie": [
           {
            "automargin": true,
            "type": "pie"
           }
          ],
          "scatter": [
           {
            "fillpattern": {
             "fillmode": "overlay",
             "size": 10,
             "solidity": 0.2
            },
            "type": "scatter"
           }
          ],
          "scatter3d": [
           {
            "line": {
             "colorbar": {
              "outlinewidth": 0,
              "ticks": ""
             }
            },
            "marker": {
             "colorbar": {
              "outlinewidth": 0,
              "ticks": ""
             }
            },
            "type": "scatter3d"
           }
          ],
          "scattercarpet": [
           {
            "marker": {
             "colorbar": {
              "outlinewidth": 0,
              "ticks": ""
             }
            },
            "type": "scattercarpet"
           }
          ],
          "scattergeo": [
           {
            "marker": {
             "colorbar": {
              "outlinewidth": 0,
              "ticks": ""
             }
            },
            "type": "scattergeo"
           }
          ],
          "scattergl": [
           {
            "marker": {
             "colorbar": {
              "outlinewidth": 0,
              "ticks": ""
             }
            },
            "type": "scattergl"
           }
          ],
          "scattermapbox": [
           {
            "marker": {
             "colorbar": {
              "outlinewidth": 0,
              "ticks": ""
             }
            },
            "type": "scattermapbox"
           }
          ],
          "scatterpolar": [
           {
            "marker": {
             "colorbar": {
              "outlinewidth": 0,
              "ticks": ""
             }
            },
            "type": "scatterpolar"
           }
          ],
          "scatterpolargl": [
           {
            "marker": {
             "colorbar": {
              "outlinewidth": 0,
              "ticks": ""
             }
            },
            "type": "scatterpolargl"
           }
          ],
          "scatterternary": [
           {
            "marker": {
             "colorbar": {
              "outlinewidth": 0,
              "ticks": ""
             }
            },
            "type": "scatterternary"
           }
          ],
          "surface": [
           {
            "colorbar": {
             "outlinewidth": 0,
             "ticks": ""
            },
            "colorscale": [
             [
              0,
              "#0d0887"
             ],
             [
              0.1111111111111111,
              "#46039f"
             ],
             [
              0.2222222222222222,
              "#7201a8"
             ],
             [
              0.3333333333333333,
              "#9c179e"
             ],
             [
              0.4444444444444444,
              "#bd3786"
             ],
             [
              0.5555555555555556,
              "#d8576b"
             ],
             [
              0.6666666666666666,
              "#ed7953"
             ],
             [
              0.7777777777777778,
              "#fb9f3a"
             ],
             [
              0.8888888888888888,
              "#fdca26"
             ],
             [
              1,
              "#f0f921"
             ]
            ],
            "type": "surface"
           }
          ],
          "table": [
           {
            "cells": {
             "fill": {
              "color": "#EBF0F8"
             },
             "line": {
              "color": "white"
             }
            },
            "header": {
             "fill": {
              "color": "#C8D4E3"
             },
             "line": {
              "color": "white"
             }
            },
            "type": "table"
           }
          ]
         },
         "layout": {
          "annotationdefaults": {
           "arrowcolor": "#2a3f5f",
           "arrowhead": 0,
           "arrowwidth": 1
          },
          "autotypenumbers": "strict",
          "coloraxis": {
           "colorbar": {
            "outlinewidth": 0,
            "ticks": ""
           }
          },
          "colorscale": {
           "diverging": [
            [
             0,
             "#8e0152"
            ],
            [
             0.1,
             "#c51b7d"
            ],
            [
             0.2,
             "#de77ae"
            ],
            [
             0.3,
             "#f1b6da"
            ],
            [
             0.4,
             "#fde0ef"
            ],
            [
             0.5,
             "#f7f7f7"
            ],
            [
             0.6,
             "#e6f5d0"
            ],
            [
             0.7,
             "#b8e186"
            ],
            [
             0.8,
             "#7fbc41"
            ],
            [
             0.9,
             "#4d9221"
            ],
            [
             1,
             "#276419"
            ]
           ],
           "sequential": [
            [
             0,
             "#0d0887"
            ],
            [
             0.1111111111111111,
             "#46039f"
            ],
            [
             0.2222222222222222,
             "#7201a8"
            ],
            [
             0.3333333333333333,
             "#9c179e"
            ],
            [
             0.4444444444444444,
             "#bd3786"
            ],
            [
             0.5555555555555556,
             "#d8576b"
            ],
            [
             0.6666666666666666,
             "#ed7953"
            ],
            [
             0.7777777777777778,
             "#fb9f3a"
            ],
            [
             0.8888888888888888,
             "#fdca26"
            ],
            [
             1,
             "#f0f921"
            ]
           ],
           "sequentialminus": [
            [
             0,
             "#0d0887"
            ],
            [
             0.1111111111111111,
             "#46039f"
            ],
            [
             0.2222222222222222,
             "#7201a8"
            ],
            [
             0.3333333333333333,
             "#9c179e"
            ],
            [
             0.4444444444444444,
             "#bd3786"
            ],
            [
             0.5555555555555556,
             "#d8576b"
            ],
            [
             0.6666666666666666,
             "#ed7953"
            ],
            [
             0.7777777777777778,
             "#fb9f3a"
            ],
            [
             0.8888888888888888,
             "#fdca26"
            ],
            [
             1,
             "#f0f921"
            ]
           ]
          },
          "colorway": [
           "#636efa",
           "#EF553B",
           "#00cc96",
           "#ab63fa",
           "#FFA15A",
           "#19d3f3",
           "#FF6692",
           "#B6E880",
           "#FF97FF",
           "#FECB52"
          ],
          "font": {
           "color": "#2a3f5f"
          },
          "geo": {
           "bgcolor": "white",
           "lakecolor": "white",
           "landcolor": "#E5ECF6",
           "showlakes": true,
           "showland": true,
           "subunitcolor": "white"
          },
          "hoverlabel": {
           "align": "left"
          },
          "hovermode": "closest",
          "mapbox": {
           "style": "light"
          },
          "paper_bgcolor": "white",
          "plot_bgcolor": "#E5ECF6",
          "polar": {
           "angularaxis": {
            "gridcolor": "white",
            "linecolor": "white",
            "ticks": ""
           },
           "bgcolor": "#E5ECF6",
           "radialaxis": {
            "gridcolor": "white",
            "linecolor": "white",
            "ticks": ""
           }
          },
          "scene": {
           "xaxis": {
            "backgroundcolor": "#E5ECF6",
            "gridcolor": "white",
            "gridwidth": 2,
            "linecolor": "white",
            "showbackground": true,
            "ticks": "",
            "zerolinecolor": "white"
           },
           "yaxis": {
            "backgroundcolor": "#E5ECF6",
            "gridcolor": "white",
            "gridwidth": 2,
            "linecolor": "white",
            "showbackground": true,
            "ticks": "",
            "zerolinecolor": "white"
           },
           "zaxis": {
            "backgroundcolor": "#E5ECF6",
            "gridcolor": "white",
            "gridwidth": 2,
            "linecolor": "white",
            "showbackground": true,
            "ticks": "",
            "zerolinecolor": "white"
           }
          },
          "shapedefaults": {
           "line": {
            "color": "#2a3f5f"
           }
          },
          "ternary": {
           "aaxis": {
            "gridcolor": "white",
            "linecolor": "white",
            "ticks": ""
           },
           "baxis": {
            "gridcolor": "white",
            "linecolor": "white",
            "ticks": ""
           },
           "bgcolor": "#E5ECF6",
           "caxis": {
            "gridcolor": "white",
            "linecolor": "white",
            "ticks": ""
           }
          },
          "title": {
           "x": 0.05
          },
          "xaxis": {
           "automargin": true,
           "gridcolor": "white",
           "linecolor": "white",
           "ticks": "",
           "title": {
            "standoff": 15
           },
           "zerolinecolor": "white",
           "zerolinewidth": 2
          },
          "yaxis": {
           "automargin": true,
           "gridcolor": "white",
           "linecolor": "white",
           "ticks": "",
           "title": {
            "standoff": 15
           },
           "zerolinecolor": "white",
           "zerolinewidth": 2
          }
         }
        },
        "title": {
         "text": "Labour in Europe"
        },
        "updatemenus": [
         {
          "buttons": [
           {
            "args": [
             null,
             {
              "frame": {
               "duration": 500,
               "redraw": true
              },
              "fromcurrent": true,
              "mode": "immediate",
              "transition": {
               "duration": 500,
               "easing": "linear"
              }
             }
            ],
            "label": "&#9654;",
            "method": "animate"
           },
           {
            "args": [
             [
              null
             ],
             {
              "frame": {
               "duration": 0,
               "redraw": true
              },
              "fromcurrent": true,
              "mode": "immediate",
              "transition": {
               "duration": 0,
               "easing": "linear"
              }
             }
            ],
            "label": "&#9724;",
            "method": "animate"
           }
          ],
          "direction": "left",
          "pad": {
           "r": 10,
           "t": 70
          },
          "showactive": false,
          "type": "buttons",
          "x": 0.1,
          "xanchor": "right",
          "y": 0,
          "yanchor": "top"
         }
        ]
       }
      }
     },
     "metadata": {},
     "output_type": "display_data"
    }
   ],
   "source": [
    "import plotly.express as px\n",
    "\n",
    "fig = px.choropleth(filtered_df, \n",
    "                    locations=\"country\",\n",
    "                    locationmode=\"country names\",\n",
    "                    color=\"OBS_VALUE\", \n",
    "                    hover_name=\"country\", \n",
    "                    # column to add to hover information\n",
    "                    animation_frame=\"TIME_PERIOD\", \n",
    "                    # column on which to animate\n",
    "                    color_continuous_scale=px.colors.sequential.Plasma)\n",
    "                    \n",
    "fig.update_layout(\n",
    "    # add a title text for the plot\n",
    "    title_text = 'Labour in Europe',\n",
    "    # set projection style for the plot\n",
    "    geo = dict(projection={'type':'natural earth'}) # by default, projection type is set to 'equirectangular'\n",
    ")\n",
    "fig.show()"
   ]
  },
  {
   "cell_type": "code",
   "execution_count": 46,
   "metadata": {},
   "outputs": [
    {
     "data": {
      "application/vnd.plotly.v1+json": {
       "config": {
        "plotlyServerURL": "https://plot.ly"
       },
       "data": [
        {
         "hovertemplate": "<b>%{hovertext}</b><br><br>Country=Albania<br>Year=%{x}<br>Value=%{y}<extra></extra>",
         "hovertext": [
          "Albania",
          "Albania",
          "Albania",
          "Albania",
          "Albania",
          "Albania",
          "Albania",
          "Albania",
          "Albania",
          "Albania",
          "Albania"
         ],
         "legendgroup": "Albania",
         "line": {
          "color": "#636efa",
          "dash": "solid"
         },
         "marker": {
          "symbol": "circle"
         },
         "mode": "lines",
         "name": "Albania",
         "orientation": "v",
         "showlegend": true,
         "type": "scatter",
         "x": [
          2009,
          2010,
          2011,
          2012,
          2013,
          2014,
          2015,
          2016,
          2017,
          2018,
          2019
         ],
         "xaxis": "x",
         "y": [
          6.5,
          -3.6,
          -8.8,
          3.2,
          -5.8,
          17.2,
          11.4,
          6.2,
          2.8,
          3.9,
          2
         ],
         "yaxis": "y"
        },
        {
         "hovertemplate": "<b>%{hovertext}</b><br><br>Country=Austria<br>Year=%{x}<br>Value=%{y}<extra></extra>",
         "hovertext": [
          "Austria",
          "Austria",
          "Austria",
          "Austria",
          "Austria",
          "Austria",
          "Austria",
          "Austria",
          "Austria",
          "Austria",
          "Austria"
         ],
         "legendgroup": "Austria",
         "line": {
          "color": "#EF553B",
          "dash": "solid"
         },
         "marker": {
          "symbol": "circle"
         },
         "mode": "lines",
         "name": "Austria",
         "orientation": "v",
         "showlegend": true,
         "type": "scatter",
         "x": [
          2009,
          2010,
          2011,
          2012,
          2013,
          2014,
          2015,
          2016,
          2017,
          2018,
          2019
         ],
         "xaxis": "x",
         "y": [
          2.9,
          -1,
          2.2,
          1.8,
          -0.1,
          -1.6,
          -1.4,
          0.3,
          2.8,
          4.5,
          5.1
         ],
         "yaxis": "y"
        },
        {
         "hovertemplate": "<b>%{hovertext}</b><br><br>Country=Belgium<br>Year=%{x}<br>Value=%{y}<extra></extra>",
         "hovertext": [
          "Belgium",
          "Belgium",
          "Belgium",
          "Belgium",
          "Belgium",
          "Belgium",
          "Belgium",
          "Belgium",
          "Belgium",
          "Belgium",
          "Belgium"
         ],
         "legendgroup": "Belgium",
         "line": {
          "color": "#00cc96",
          "dash": "solid"
         },
         "marker": {
          "symbol": "circle"
         },
         "mode": "lines",
         "name": "Belgium",
         "orientation": "v",
         "showlegend": true,
         "type": "scatter",
         "x": [
          2009,
          2010,
          2011,
          2012,
          2013,
          2014,
          2015,
          2016,
          2017,
          2018,
          2019
         ],
         "xaxis": "x",
         "y": [
          -0.1,
          1.3,
          2.4,
          0.9,
          -1.1,
          -1.4,
          -0.6,
          1.4,
          2.2,
          2.7,
          2.6
         ],
         "yaxis": "y"
        },
        {
         "hovertemplate": "<b>%{hovertext}</b><br><br>Country=Bulgaria<br>Year=%{x}<br>Value=%{y}<extra></extra>",
         "hovertext": [
          "Bulgaria",
          "Bulgaria",
          "Bulgaria",
          "Bulgaria",
          "Bulgaria",
          "Bulgaria",
          "Bulgaria",
          "Bulgaria",
          "Bulgaria",
          "Bulgaria",
          "Bulgaria"
         ],
         "legendgroup": "Bulgaria",
         "line": {
          "color": "#ab63fa",
          "dash": "solid"
         },
         "marker": {
          "symbol": "circle"
         },
         "mode": "lines",
         "name": "Bulgaria",
         "orientation": "v",
         "showlegend": true,
         "type": "scatter",
         "x": [
          2009,
          2010,
          2011,
          2012,
          2013,
          2014,
          2015,
          2016,
          2017,
          2018,
          2019
         ],
         "xaxis": "x",
         "y": [
          -10.3,
          -22.5,
          -11.3,
          -7.6,
          -3.9,
          4,
          -1.8,
          -4.2,
          3.8,
          0.8,
          3
         ],
         "yaxis": "y"
        },
        {
         "hovertemplate": "<b>%{hovertext}</b><br><br>Country=Switzerland<br>Year=%{x}<br>Value=%{y}<extra></extra>",
         "hovertext": [
          "Switzerland",
          "Switzerland",
          "Switzerland",
          "Switzerland",
          "Switzerland",
          "Switzerland",
          "Switzerland",
          "Switzerland",
          "Switzerland",
          "Switzerland",
          "Switzerland"
         ],
         "legendgroup": "Switzerland",
         "line": {
          "color": "#FFA15A",
          "dash": "solid"
         },
         "marker": {
          "symbol": "circle"
         },
         "mode": "lines",
         "name": "Switzerland",
         "orientation": "v",
         "showlegend": true,
         "type": "scatter",
         "x": [
          2009,
          2010,
          2011,
          2012,
          2013,
          2014,
          2015,
          2016,
          2017,
          2018,
          2019
         ],
         "xaxis": "x",
         "y": [
          0,
          1.9,
          0.7,
          1.9,
          1.4,
          0.9,
          0.3,
          -0.2,
          0.6,
          1.2,
          1.6
         ],
         "yaxis": "y"
        },
        {
         "hovertemplate": "<b>%{hovertext}</b><br><br>Country=Cyprus<br>Year=%{x}<br>Value=%{y}<extra></extra>",
         "hovertext": [
          "Cyprus",
          "Cyprus",
          "Cyprus",
          "Cyprus",
          "Cyprus",
          "Cyprus",
          "Cyprus",
          "Cyprus",
          "Cyprus",
          "Cyprus",
          "Cyprus"
         ],
         "legendgroup": "Cyprus",
         "line": {
          "color": "#19d3f3",
          "dash": "solid"
         },
         "marker": {
          "symbol": "circle"
         },
         "mode": "lines",
         "name": "Cyprus",
         "orientation": "v",
         "showlegend": true,
         "type": "scatter",
         "x": [
          2009,
          2010,
          2011,
          2012,
          2013,
          2014,
          2015,
          2016,
          2017,
          2018,
          2019
         ],
         "xaxis": "x",
         "y": [
          -3.6,
          -4.3,
          -6.2,
          -14.5,
          -20.4,
          -10,
          -0.5,
          8,
          15,
          13.9,
          9.6
         ],
         "yaxis": "y"
        },
        {
         "hovertemplate": "<b>%{hovertext}</b><br><br>Country=Czechia<br>Year=%{x}<br>Value=%{y}<extra></extra>",
         "hovertext": [
          "Czechia",
          "Czechia",
          "Czechia",
          "Czechia",
          "Czechia",
          "Czechia",
          "Czechia",
          "Czechia",
          "Czechia",
          "Czechia",
          "Czechia"
         ],
         "legendgroup": "Czechia",
         "line": {
          "color": "#FF6692",
          "dash": "solid"
         },
         "marker": {
          "symbol": "circle"
         },
         "mode": "lines",
         "name": "Czechia",
         "orientation": "v",
         "showlegend": true,
         "type": "scatter",
         "x": [
          2009,
          2010,
          2011,
          2012,
          2013,
          2014,
          2015,
          2016,
          2017,
          2018,
          2019
         ],
         "xaxis": "x",
         "y": [
          -2.2,
          0.8,
          -2.2,
          -0.8,
          -4.9,
          -1.7,
          1.8,
          -2.7,
          1.3,
          1.4,
          1.8
         ],
         "yaxis": "y"
        },
        {
         "hovertemplate": "<b>%{hovertext}</b><br><br>Country=Germany<br>Year=%{x}<br>Value=%{y}<extra></extra>",
         "hovertext": [
          "Germany",
          "Germany",
          "Germany",
          "Germany",
          "Germany",
          "Germany",
          "Germany",
          "Germany",
          "Germany",
          "Germany",
          "Germany"
         ],
         "legendgroup": "Germany",
         "line": {
          "color": "#B6E880",
          "dash": "solid"
         },
         "marker": {
          "symbol": "circle"
         },
         "mode": "lines",
         "name": "Germany",
         "orientation": "v",
         "showlegend": true,
         "type": "scatter",
         "x": [
          2009,
          2010,
          2011,
          2012,
          2013,
          2014,
          2015,
          2016,
          2017,
          2018,
          2019
         ],
         "xaxis": "x",
         "y": [
          1.3,
          2,
          3.5,
          1,
          1.1,
          1.4,
          -0.2,
          1.4,
          2.3,
          2,
          1.8
         ],
         "yaxis": "y"
        },
        {
         "hovertemplate": "<b>%{hovertext}</b><br><br>Country=Denmark<br>Year=%{x}<br>Value=%{y}<extra></extra>",
         "hovertext": [
          "Denmark",
          "Denmark",
          "Denmark",
          "Denmark",
          "Denmark",
          "Denmark",
          "Denmark",
          "Denmark",
          "Denmark",
          "Denmark",
          "Denmark"
         ],
         "legendgroup": "Denmark",
         "line": {
          "color": "#FF97FF",
          "dash": "solid"
         },
         "marker": {
          "symbol": "circle"
         },
         "mode": "lines",
         "name": "Denmark",
         "orientation": "v",
         "showlegend": true,
         "type": "scatter",
         "x": [
          2009,
          2010,
          2011,
          2012,
          2013,
          2014,
          2015,
          2016,
          2017,
          2018,
          2019
         ],
         "xaxis": "x",
         "y": [
          -11.6,
          -9.2,
          0.6,
          -0.1,
          -11,
          2.7,
          3.3,
          3.9,
          3.8,
          4,
          1.9
         ],
         "yaxis": "y"
        },
        {
         "hovertemplate": "<b>%{hovertext}</b><br><br>Country=Estonia<br>Year=%{x}<br>Value=%{y}<extra></extra>",
         "hovertext": [
          "Estonia",
          "Estonia",
          "Estonia",
          "Estonia",
          "Estonia",
          "Estonia",
          "Estonia",
          "Estonia",
          "Estonia",
          "Estonia",
          "Estonia"
         ],
         "legendgroup": "Estonia",
         "line": {
          "color": "#FECB52",
          "dash": "solid"
         },
         "marker": {
          "symbol": "circle"
         },
         "mode": "lines",
         "name": "Estonia",
         "orientation": "v",
         "showlegend": true,
         "type": "scatter",
         "x": [
          2009,
          2010,
          2011,
          2012,
          2013,
          2014,
          2015,
          2016,
          2017,
          2018,
          2019
         ],
         "xaxis": "x",
         "y": [
          -16,
          -18.3,
          0.2,
          12,
          0.4,
          -3,
          6.6,
          -1.2,
          6.4,
          5,
          3.5
         ],
         "yaxis": "y"
        },
        {
         "hovertemplate": "<b>%{hovertext}</b><br><br>Country=Greece<br>Year=%{x}<br>Value=%{y}<extra></extra>",
         "hovertext": [
          "Greece",
          "Greece",
          "Greece",
          "Greece",
          "Greece",
          "Greece",
          "Greece",
          "Greece",
          "Greece",
          "Greece",
          "Greece"
         ],
         "legendgroup": "Greece",
         "line": {
          "color": "#636efa",
          "dash": "solid"
         },
         "marker": {
          "symbol": "circle"
         },
         "mode": "lines",
         "name": "Greece",
         "orientation": "v",
         "showlegend": true,
         "type": "scatter",
         "x": [
          2009,
          2010,
          2011,
          2012,
          2013,
          2014,
          2015,
          2016,
          2017,
          2018,
          2019
         ],
         "xaxis": "x",
         "y": [
          -1.3,
          -9.8,
          -17.2,
          -6.3,
          0.3,
          17.3,
          -24.6,
          18.6,
          4.8,
          5.6,
          -19.7
         ],
         "yaxis": "y"
        },
        {
         "hovertemplate": "<b>%{hovertext}</b><br><br>Country=Spain<br>Year=%{x}<br>Value=%{y}<extra></extra>",
         "hovertext": [
          "Spain",
          "Spain",
          "Spain",
          "Spain",
          "Spain",
          "Spain",
          "Spain",
          "Spain",
          "Spain",
          "Spain",
          "Spain"
         ],
         "legendgroup": "Spain",
         "line": {
          "color": "#EF553B",
          "dash": "solid"
         },
         "marker": {
          "symbol": "circle"
         },
         "mode": "lines",
         "name": "Spain",
         "orientation": "v",
         "showlegend": true,
         "type": "scatter",
         "x": [
          2009,
          2010,
          2011,
          2012,
          2013,
          2014,
          2015,
          2016,
          2017,
          2018,
          2019
         ],
         "xaxis": "x",
         "y": [
          -23.2,
          -12.6,
          -15,
          -17.3,
          -11.4,
          -3.5,
          8.1,
          0,
          5.1,
          8.3,
          4.6
         ],
         "yaxis": "y"
        },
        {
         "hovertemplate": "<b>%{hovertext}</b><br><br>Country=Finland<br>Year=%{x}<br>Value=%{y}<extra></extra>",
         "hovertext": [
          "Finland",
          "Finland",
          "Finland",
          "Finland",
          "Finland",
          "Finland",
          "Finland",
          "Finland",
          "Finland",
          "Finland",
          "Finland"
         ],
         "legendgroup": "Finland",
         "line": {
          "color": "#00cc96",
          "dash": "solid"
         },
         "marker": {
          "symbol": "circle"
         },
         "mode": "lines",
         "name": "Finland",
         "orientation": "v",
         "showlegend": true,
         "type": "scatter",
         "x": [
          2009,
          2010,
          2011,
          2012,
          2013,
          2014,
          2015,
          2016,
          2017,
          2018,
          2019
         ],
         "xaxis": "x",
         "y": [
          -5.7,
          -1.6,
          2.7,
          -0.7,
          0.4,
          -3.3,
          -0.1,
          5,
          5,
          5.4,
          -3
         ],
         "yaxis": "y"
        },
        {
         "hovertemplate": "<b>%{hovertext}</b><br><br>Country=France<br>Year=%{x}<br>Value=%{y}<extra></extra>",
         "hovertext": [
          "France",
          "France",
          "France",
          "France",
          "France",
          "France",
          "France",
          "France",
          "France",
          "France",
          "France"
         ],
         "legendgroup": "France",
         "line": {
          "color": "#ab63fa",
          "dash": "solid"
         },
         "marker": {
          "symbol": "circle"
         },
         "mode": "lines",
         "name": "France",
         "orientation": "v",
         "showlegend": true,
         "type": "scatter",
         "x": [
          2009,
          2010,
          2011,
          2012,
          2013,
          2014,
          2015,
          2016,
          2017,
          2018,
          2019
         ],
         "xaxis": "x",
         "y": [
          -2,
          -1.8,
          -0.7,
          -0.7,
          -1.9,
          -2.4,
          -3.5,
          -1.1,
          0.8,
          2.1,
          3.8
         ],
         "yaxis": "y"
        },
        {
         "hovertemplate": "<b>%{hovertext}</b><br><br>Country=Croatia<br>Year=%{x}<br>Value=%{y}<extra></extra>",
         "hovertext": [
          "Croatia",
          "Croatia",
          "Croatia",
          "Croatia",
          "Croatia",
          "Croatia",
          "Croatia",
          "Croatia",
          "Croatia",
          "Croatia",
          "Croatia"
         ],
         "legendgroup": "Croatia",
         "line": {
          "color": "#FFA15A",
          "dash": "solid"
         },
         "marker": {
          "symbol": "circle"
         },
         "mode": "lines",
         "name": "Croatia",
         "orientation": "v",
         "showlegend": true,
         "type": "scatter",
         "x": [
          2009,
          2010,
          2011,
          2012,
          2013,
          2014,
          2015,
          2016,
          2017,
          2018,
          2019
         ],
         "xaxis": "x",
         "y": [
          -3,
          -13.3,
          -7.5,
          -7.7,
          -5.1,
          -2.4,
          -0.4,
          -1.2,
          3.5,
          5.2,
          7.2
         ],
         "yaxis": "y"
        },
        {
         "hovertemplate": "<b>%{hovertext}</b><br><br>Country=Hungary<br>Year=%{x}<br>Value=%{y}<extra></extra>",
         "hovertext": [
          "Hungary",
          "Hungary",
          "Hungary",
          "Hungary",
          "Hungary",
          "Hungary",
          "Hungary",
          "Hungary",
          "Hungary",
          "Hungary",
          "Hungary"
         ],
         "legendgroup": "Hungary",
         "line": {
          "color": "#19d3f3",
          "dash": "solid"
         },
         "marker": {
          "symbol": "circle"
         },
         "mode": "lines",
         "name": "Hungary",
         "orientation": "v",
         "showlegend": true,
         "type": "scatter",
         "x": [
          2009,
          2010,
          2011,
          2012,
          2013,
          2014,
          2015,
          2016,
          2017,
          2018,
          2019
         ],
         "xaxis": "x",
         "y": [
          -8.1,
          0.3,
          -1.8,
          -2.6,
          -3.3,
          2,
          1.2,
          3.5,
          3.7,
          9.1,
          18.9
         ],
         "yaxis": "y"
        },
        {
         "hovertemplate": "<b>%{hovertext}</b><br><br>Country=Ireland<br>Year=%{x}<br>Value=%{y}<extra></extra>",
         "hovertext": [
          "Ireland",
          "Ireland",
          "Ireland",
          "Ireland",
          "Ireland",
          "Ireland",
          "Ireland",
          "Ireland",
          "Ireland",
          "Ireland",
          "Ireland"
         ],
         "legendgroup": "Ireland",
         "line": {
          "color": "#FF6692",
          "dash": "solid"
         },
         "marker": {
          "symbol": "circle"
         },
         "mode": "lines",
         "name": "Ireland",
         "orientation": "v",
         "showlegend": true,
         "type": "scatter",
         "x": [
          2009,
          2010,
          2011,
          2012,
          2013,
          2014,
          2015,
          2016,
          2017,
          2018,
          2019
         ],
         "xaxis": "x",
         "y": [
          -31.6,
          -28.6,
          -7.9,
          -7.4,
          0.4,
          11.7,
          17.4,
          14.2,
          8.2,
          12.1,
          5.3
         ],
         "yaxis": "y"
        },
        {
         "hovertemplate": "<b>%{hovertext}</b><br><br>Country=Iceland<br>Year=%{x}<br>Value=%{y}<extra></extra>",
         "hovertext": [
          "Iceland",
          "Iceland",
          "Iceland",
          "Iceland",
          "Iceland",
          "Iceland",
          "Iceland",
          "Iceland",
          "Iceland",
          "Iceland",
          "Iceland"
         ],
         "legendgroup": "Iceland",
         "line": {
          "color": "#B6E880",
          "dash": "solid"
         },
         "marker": {
          "symbol": "circle"
         },
         "mode": "lines",
         "name": "Iceland",
         "orientation": "v",
         "showlegend": true,
         "type": "scatter",
         "x": [
          2009,
          2010,
          2011,
          2012,
          2013,
          2014,
          2015,
          2016,
          2017,
          2018,
          2019
         ],
         "xaxis": "x",
         "y": [
          -40,
          -16.3,
          -8,
          -1.6,
          7.1,
          8.1,
          9.8,
          17,
          16.9,
          10,
          2.3
         ],
         "yaxis": "y"
        },
        {
         "hovertemplate": "<b>%{hovertext}</b><br><br>Country=Italy<br>Year=%{x}<br>Value=%{y}<extra></extra>",
         "hovertext": [
          "Italy",
          "Italy",
          "Italy",
          "Italy",
          "Italy",
          "Italy",
          "Italy",
          "Italy",
          "Italy",
          "Italy",
          "Italy"
         ],
         "legendgroup": "Italy",
         "line": {
          "color": "#FF97FF",
          "dash": "solid"
         },
         "marker": {
          "symbol": "circle"
         },
         "mode": "lines",
         "name": "Italy",
         "orientation": "v",
         "showlegend": true,
         "type": "scatter",
         "x": [
          2009,
          2010,
          2011,
          2012,
          2013,
          2014,
          2015,
          2016,
          2017,
          2018,
          2019
         ],
         "xaxis": "x",
         "y": [
          -3.4,
          -3.1,
          -3.1,
          -5.2,
          -8.4,
          -5.6,
          -3.2,
          -0.3,
          -1.5,
          0.1,
          1
         ],
         "yaxis": "y"
        },
        {
         "hovertemplate": "<b>%{hovertext}</b><br><br>Country=Lithuania<br>Year=%{x}<br>Value=%{y}<extra></extra>",
         "hovertext": [
          "Lithuania",
          "Lithuania",
          "Lithuania",
          "Lithuania",
          "Lithuania",
          "Lithuania",
          "Lithuania",
          "Lithuania",
          "Lithuania",
          "Lithuania",
          "Lithuania"
         ],
         "legendgroup": "Lithuania",
         "line": {
          "color": "#FECB52",
          "dash": "solid"
         },
         "marker": {
          "symbol": "circle"
         },
         "mode": "lines",
         "name": "Lithuania",
         "orientation": "v",
         "showlegend": true,
         "type": "scatter",
         "x": [
          2009,
          2010,
          2011,
          2012,
          2013,
          2014,
          2015,
          2016,
          2017,
          2018,
          2019
         ],
         "xaxis": "x",
         "y": [
          -21.3,
          -17.8,
          3.8,
          0,
          1.2,
          5.4,
          4.8,
          -4.7,
          1.7,
          4.3,
          1.9
         ],
         "yaxis": "y"
        },
        {
         "hovertemplate": "<b>%{hovertext}</b><br><br>Country=Luxembourg<br>Year=%{x}<br>Value=%{y}<extra></extra>",
         "hovertext": [
          "Luxembourg",
          "Luxembourg",
          "Luxembourg",
          "Luxembourg",
          "Luxembourg",
          "Luxembourg",
          "Luxembourg",
          "Luxembourg",
          "Luxembourg",
          "Luxembourg",
          "Luxembourg"
         ],
         "legendgroup": "Luxembourg",
         "line": {
          "color": "#636efa",
          "dash": "solid"
         },
         "marker": {
          "symbol": "circle"
         },
         "mode": "lines",
         "name": "Luxembourg",
         "orientation": "v",
         "showlegend": true,
         "type": "scatter",
         "x": [
          2009,
          2010,
          2011,
          2012,
          2013,
          2014,
          2015,
          2016,
          2017,
          2018,
          2019
         ],
         "xaxis": "x",
         "y": [
          -1.6,
          -0.6,
          -1.3,
          -1.8,
          -2.9,
          0.3,
          -0.4,
          1.6,
          3.1,
          2.2,
          2.4
         ],
         "yaxis": "y"
        },
        {
         "hovertemplate": "<b>%{hovertext}</b><br><br>Country=Latvia<br>Year=%{x}<br>Value=%{y}<extra></extra>",
         "hovertext": [
          "Latvia",
          "Latvia",
          "Latvia",
          "Latvia",
          "Latvia",
          "Latvia",
          "Latvia",
          "Latvia",
          "Latvia",
          "Latvia",
          "Latvia"
         ],
         "legendgroup": "Latvia",
         "line": {
          "color": "#EF553B",
          "dash": "solid"
         },
         "marker": {
          "symbol": "circle"
         },
         "mode": "lines",
         "name": "Latvia",
         "orientation": "v",
         "showlegend": true,
         "type": "scatter",
         "x": [
          2009,
          2010,
          2011,
          2012,
          2013,
          2014,
          2015,
          2016,
          2017,
          2018,
          2019
         ],
         "xaxis": "x",
         "y": [
          -36.6,
          -18.9,
          9,
          10.4,
          10.3,
          0.1,
          -2.2,
          -7.1,
          4.3,
          7.4,
          3.7
         ],
         "yaxis": "y"
        },
        {
         "hovertemplate": "<b>%{hovertext}</b><br><br>Country=Montenegro<br>Year=%{x}<br>Value=%{y}<extra></extra>",
         "hovertext": [
          "Montenegro",
          "Montenegro",
          "Montenegro",
          "Montenegro",
          "Montenegro",
          "Montenegro",
          "Montenegro",
          "Montenegro",
          "Montenegro",
          "Montenegro",
          "Montenegro"
         ],
         "legendgroup": "Montenegro",
         "line": {
          "color": "#00cc96",
          "dash": "solid"
         },
         "marker": {
          "symbol": "circle"
         },
         "mode": "lines",
         "name": "Montenegro",
         "orientation": "v",
         "showlegend": true,
         "type": "scatter",
         "x": [
          2009,
          2010,
          2011,
          2012,
          2013,
          2014,
          2015,
          2016,
          2017,
          2018,
          2019
         ],
         "xaxis": "x",
         "y": [
          13.2,
          -20.9,
          0.3,
          3.8,
          1.2,
          6.6,
          3.1,
          8.8,
          6,
          12.4,
          16.4
         ],
         "yaxis": "y"
        },
        {
         "hovertemplate": "<b>%{hovertext}</b><br><br>Country=North Macedonia<br>Year=%{x}<br>Value=%{y}<extra></extra>",
         "hovertext": [
          "North Macedonia",
          "North Macedonia",
          "North Macedonia",
          "North Macedonia",
          "North Macedonia",
          "North Macedonia",
          "North Macedonia",
          "North Macedonia",
          "North Macedonia",
          "North Macedonia",
          "North Macedonia"
         ],
         "legendgroup": "North Macedonia",
         "line": {
          "color": "#ab63fa",
          "dash": "solid"
         },
         "marker": {
          "symbol": "circle"
         },
         "mode": "lines",
         "name": "North Macedonia",
         "orientation": "v",
         "showlegend": true,
         "type": "scatter",
         "x": [
          2009,
          2010,
          2011,
          2012,
          2013,
          2014,
          2015,
          2016,
          2017,
          2018,
          2019
         ],
         "xaxis": "x",
         "y": [
          -0.7,
          1.5,
          10.3,
          -3.4,
          27.9,
          7.3,
          10.4,
          7.3,
          -3,
          -4.9,
          -10
         ],
         "yaxis": "y"
        },
        {
         "hovertemplate": "<b>%{hovertext}</b><br><br>Country=Malta<br>Year=%{x}<br>Value=%{y}<extra></extra>",
         "hovertext": [
          "Malta",
          "Malta",
          "Malta",
          "Malta",
          "Malta",
          "Malta",
          "Malta",
          "Malta",
          "Malta",
          "Malta",
          "Malta"
         ],
         "legendgroup": "Malta",
         "line": {
          "color": "#FFA15A",
          "dash": "solid"
         },
         "marker": {
          "symbol": "circle"
         },
         "mode": "lines",
         "name": "Malta",
         "orientation": "v",
         "showlegend": true,
         "type": "scatter",
         "x": [
          2009,
          2010,
          2011,
          2012,
          2013,
          2014,
          2015,
          2016,
          2017,
          2018,
          2019
         ],
         "xaxis": "x",
         "y": [
          -7,
          -7.5,
          -4.9,
          -3.6,
          -7.7,
          0.7,
          10.1,
          1.4,
          -15.2,
          -1,
          6.1
         ],
         "yaxis": "y"
        },
        {
         "hovertemplate": "<b>%{hovertext}</b><br><br>Country=Netherlands<br>Year=%{x}<br>Value=%{y}<extra></extra>",
         "hovertext": [
          "Netherlands",
          "Netherlands",
          "Netherlands",
          "Netherlands",
          "Netherlands",
          "Netherlands",
          "Netherlands",
          "Netherlands",
          "Netherlands",
          "Netherlands",
          "Netherlands"
         ],
         "legendgroup": "Netherlands",
         "line": {
          "color": "#19d3f3",
          "dash": "solid"
         },
         "marker": {
          "symbol": "circle"
         },
         "mode": "lines",
         "name": "Netherlands",
         "orientation": "v",
         "showlegend": true,
         "type": "scatter",
         "x": [
          2009,
          2010,
          2011,
          2012,
          2013,
          2014,
          2015,
          2016,
          2017,
          2018,
          2019
         ],
         "xaxis": "x",
         "y": [
          -2.5,
          -3.5,
          -1.9,
          -3.8,
          -8.8,
          -5.7,
          -1.9,
          -0.3,
          3,
          3.5,
          3.4
         ],
         "yaxis": "y"
        },
        {
         "hovertemplate": "<b>%{hovertext}</b><br><br>Country=Norway<br>Year=%{x}<br>Value=%{y}<extra></extra>",
         "hovertext": [
          "Norway",
          "Norway",
          "Norway",
          "Norway",
          "Norway",
          "Norway",
          "Norway",
          "Norway",
          "Norway",
          "Norway",
          "Norway"
         ],
         "legendgroup": "Norway",
         "line": {
          "color": "#FF6692",
          "dash": "solid"
         },
         "marker": {
          "symbol": "circle"
         },
         "mode": "lines",
         "name": "Norway",
         "orientation": "v",
         "showlegend": true,
         "type": "scatter",
         "x": [
          2009,
          2010,
          2011,
          2012,
          2013,
          2014,
          2015,
          2016,
          2017,
          2018,
          2019
         ],
         "xaxis": "x",
         "y": [
          -4.2,
          -1.5,
          3.8,
          5.6,
          3,
          2.2,
          2.4,
          2.7,
          4.2,
          3.6,
          3.1
         ],
         "yaxis": "y"
        },
        {
         "hovertemplate": "<b>%{hovertext}</b><br><br>Country=Poland<br>Year=%{x}<br>Value=%{y}<extra></extra>",
         "hovertext": [
          "Poland",
          "Poland",
          "Poland",
          "Poland",
          "Poland",
          "Poland",
          "Poland",
          "Poland",
          "Poland",
          "Poland",
          "Poland"
         ],
         "legendgroup": "Poland",
         "line": {
          "color": "#B6E880",
          "dash": "solid"
         },
         "marker": {
          "symbol": "circle"
         },
         "mode": "lines",
         "name": "Poland",
         "orientation": "v",
         "showlegend": true,
         "type": "scatter",
         "x": [
          2009,
          2010,
          2011,
          2012,
          2013,
          2014,
          2015,
          2016,
          2017,
          2018,
          2019
         ],
         "xaxis": "x",
         "y": [
          3.8,
          1.3,
          7.6,
          1.9,
          -7.1,
          -7.4,
          -5.7,
          -0.9,
          2.2,
          4.3,
          5
         ],
         "yaxis": "y"
        },
        {
         "hovertemplate": "<b>%{hovertext}</b><br><br>Country=Portugal<br>Year=%{x}<br>Value=%{y}<extra></extra>",
         "hovertext": [
          "Portugal",
          "Portugal",
          "Portugal",
          "Portugal",
          "Portugal",
          "Portugal",
          "Portugal",
          "Portugal",
          "Portugal",
          "Portugal",
          "Portugal"
         ],
         "legendgroup": "Portugal",
         "line": {
          "color": "#FF97FF",
          "dash": "solid"
         },
         "marker": {
          "symbol": "circle"
         },
         "mode": "lines",
         "name": "Portugal",
         "orientation": "v",
         "showlegend": true,
         "type": "scatter",
         "x": [
          2009,
          2010,
          2011,
          2012,
          2013,
          2014,
          2015,
          2016,
          2017,
          2018,
          2019
         ],
         "xaxis": "x",
         "y": [
          -9.9,
          -9.6,
          -10.7,
          -14.1,
          -15.7,
          -8.7,
          -4.1,
          -4,
          1.8,
          2.3,
          2.2
         ],
         "yaxis": "y"
        },
        {
         "hovertemplate": "<b>%{hovertext}</b><br><br>Country=Romania<br>Year=%{x}<br>Value=%{y}<extra></extra>",
         "hovertext": [
          "Romania",
          "Romania",
          "Romania",
          "Romania",
          "Romania",
          "Romania",
          "Romania",
          "Romania",
          "Romania",
          "Romania",
          "Romania"
         ],
         "legendgroup": "Romania",
         "line": {
          "color": "#FECB52",
          "dash": "solid"
         },
         "marker": {
          "symbol": "circle"
         },
         "mode": "lines",
         "name": "Romania",
         "orientation": "v",
         "showlegend": true,
         "type": "scatter",
         "x": [
          2009,
          2010,
          2011,
          2012,
          2013,
          2014,
          2015,
          2016,
          2017,
          2018,
          2019
         ],
         "xaxis": "x",
         "y": [
          -15.4,
          -14.8,
          -0.6,
          7.6,
          -2.5,
          -2.3,
          5.7,
          5,
          -0.9,
          6.2,
          5.2
         ],
         "yaxis": "y"
        },
        {
         "hovertemplate": "<b>%{hovertext}</b><br><br>Country=Serbia<br>Year=%{x}<br>Value=%{y}<extra></extra>",
         "hovertext": [
          "Serbia",
          "Serbia",
          "Serbia",
          "Serbia",
          "Serbia",
          "Serbia",
          "Serbia",
          "Serbia",
          "Serbia",
          "Serbia",
          "Serbia"
         ],
         "legendgroup": "Serbia",
         "line": {
          "color": "#636efa",
          "dash": "solid"
         },
         "marker": {
          "symbol": "circle"
         },
         "mode": "lines",
         "name": "Serbia",
         "orientation": "v",
         "showlegend": true,
         "type": "scatter",
         "x": [
          2009,
          2010,
          2011,
          2012,
          2013,
          2014,
          2015,
          2016,
          2017,
          2018,
          2019
         ],
         "xaxis": "x",
         "y": [
          -13.5,
          -9.7,
          -4.2,
          -5,
          -5.4,
          -4.2,
          -0.9,
          0,
          1.2,
          8,
          9.7
         ],
         "yaxis": "y"
        },
        {
         "hovertemplate": "<b>%{hovertext}</b><br><br>Country=Sweden<br>Year=%{x}<br>Value=%{y}<extra></extra>",
         "hovertext": [
          "Sweden",
          "Sweden",
          "Sweden",
          "Sweden",
          "Sweden",
          "Sweden",
          "Sweden",
          "Sweden",
          "Sweden",
          "Sweden",
          "Sweden"
         ],
         "legendgroup": "Sweden",
         "line": {
          "color": "#EF553B",
          "dash": "solid"
         },
         "marker": {
          "symbol": "circle"
         },
         "mode": "lines",
         "name": "Sweden",
         "orientation": "v",
         "showlegend": true,
         "type": "scatter",
         "x": [
          2009,
          2010,
          2011,
          2012,
          2013,
          2014,
          2015,
          2016,
          2017,
          2018,
          2019
         ],
         "xaxis": "x",
         "y": [
          0.9,
          -0.6,
          7.7,
          5.4,
          -0.5,
          0.9,
          3.6,
          5.4,
          3.6,
          5.2,
          2.4
         ],
         "yaxis": "y"
        },
        {
         "hovertemplate": "<b>%{hovertext}</b><br><br>Country=Slovenia<br>Year=%{x}<br>Value=%{y}<extra></extra>",
         "hovertext": [
          "Slovenia",
          "Slovenia",
          "Slovenia",
          "Slovenia",
          "Slovenia",
          "Slovenia",
          "Slovenia",
          "Slovenia",
          "Slovenia",
          "Slovenia",
          "Slovenia"
         ],
         "legendgroup": "Slovenia",
         "line": {
          "color": "#00cc96",
          "dash": "solid"
         },
         "marker": {
          "symbol": "circle"
         },
         "mode": "lines",
         "name": "Slovenia",
         "orientation": "v",
         "showlegend": true,
         "type": "scatter",
         "x": [
          2009,
          2010,
          2011,
          2012,
          2013,
          2014,
          2015,
          2016,
          2017,
          2018,
          2019
         ],
         "xaxis": "x",
         "y": [
          -1.3,
          -9.5,
          -13.6,
          -11.8,
          -9.3,
          -0.5,
          0.6,
          -0.8,
          3.4,
          4.8,
          9.4
         ],
         "yaxis": "y"
        },
        {
         "hovertemplate": "<b>%{hovertext}</b><br><br>Country=Slovakia<br>Year=%{x}<br>Value=%{y}<extra></extra>",
         "hovertext": [
          "Slovakia",
          "Slovakia",
          "Slovakia",
          "Slovakia",
          "Slovakia",
          "Slovakia",
          "Slovakia",
          "Slovakia",
          "Slovakia",
          "Slovakia",
          "Slovakia"
         ],
         "legendgroup": "Slovakia",
         "line": {
          "color": "#ab63fa",
          "dash": "solid"
         },
         "marker": {
          "symbol": "circle"
         },
         "mode": "lines",
         "name": "Slovakia",
         "orientation": "v",
         "showlegend": true,
         "type": "scatter",
         "x": [
          2009,
          2010,
          2011,
          2012,
          2013,
          2014,
          2015,
          2016,
          2017,
          2018,
          2019
         ],
         "xaxis": "x",
         "y": [
          2,
          -2.6,
          -3.6,
          -4.5,
          -4,
          -1.2,
          -0.8,
          1.2,
          2.5,
          3.4,
          6.4
         ],
         "yaxis": "y"
        },
        {
         "hovertemplate": "<b>%{hovertext}</b><br><br>Country=Turkey<br>Year=%{x}<br>Value=%{y}<extra></extra>",
         "hovertext": [
          "Turkey",
          "Turkey",
          "Turkey",
          "Turkey",
          "Turkey",
          "Turkey",
          "Turkey",
          "Turkey",
          "Turkey",
          "Turkey",
          "Turkey"
         ],
         "legendgroup": "Turkey",
         "line": {
          "color": "#FFA15A",
          "dash": "solid"
         },
         "marker": {
          "symbol": "circle"
         },
         "mode": "lines",
         "name": "Turkey",
         "orientation": "v",
         "showlegend": true,
         "type": "scatter",
         "x": [
          2009,
          2010,
          2011,
          2012,
          2013,
          2014,
          2015,
          2016,
          2017,
          2018,
          2019
         ],
         "xaxis": "x",
         "y": [
          -67.4,
          17.8,
          21,
          15.6,
          9,
          6,
          6.4,
          4.4,
          4.2,
          -2.1,
          -25.8
         ],
         "yaxis": "y"
        },
        {
         "hovertemplate": "<b>%{hovertext}</b><br><br>Country=United Kingdom<br>Year=%{x}<br>Value=%{y}<extra></extra>",
         "hovertext": [
          "United Kingdom",
          "United Kingdom",
          "United Kingdom",
          "United Kingdom",
          "United Kingdom",
          "United Kingdom",
          "United Kingdom",
          "United Kingdom",
          "United Kingdom",
          "United Kingdom",
          "United Kingdom"
         ],
         "legendgroup": "United Kingdom",
         "line": {
          "color": "#19d3f3",
          "dash": "solid"
         },
         "marker": {
          "symbol": "circle"
         },
         "mode": "lines",
         "name": "United Kingdom",
         "orientation": "v",
         "showlegend": true,
         "type": "scatter",
         "x": [
          2009,
          2010,
          2011,
          2012,
          2013,
          2014,
          2015,
          2016,
          2017,
          2018,
          2019
         ],
         "xaxis": "x",
         "y": [
          -3.1,
          -9.8,
          -2.3,
          -1.5,
          0.1,
          3.7,
          3.7,
          2.7,
          5.6,
          0.3,
          2.9
         ],
         "yaxis": "y"
        }
       ],
       "layout": {
        "legend": {
         "title": {
          "text": "Country"
         },
         "tracegroupgap": 0
        },
        "template": {
         "data": {
          "bar": [
           {
            "error_x": {
             "color": "#2a3f5f"
            },
            "error_y": {
             "color": "#2a3f5f"
            },
            "marker": {
             "line": {
              "color": "#E5ECF6",
              "width": 0.5
             },
             "pattern": {
              "fillmode": "overlay",
              "size": 10,
              "solidity": 0.2
             }
            },
            "type": "bar"
           }
          ],
          "barpolar": [
           {
            "marker": {
             "line": {
              "color": "#E5ECF6",
              "width": 0.5
             },
             "pattern": {
              "fillmode": "overlay",
              "size": 10,
              "solidity": 0.2
             }
            },
            "type": "barpolar"
           }
          ],
          "carpet": [
           {
            "aaxis": {
             "endlinecolor": "#2a3f5f",
             "gridcolor": "white",
             "linecolor": "white",
             "minorgridcolor": "white",
             "startlinecolor": "#2a3f5f"
            },
            "baxis": {
             "endlinecolor": "#2a3f5f",
             "gridcolor": "white",
             "linecolor": "white",
             "minorgridcolor": "white",
             "startlinecolor": "#2a3f5f"
            },
            "type": "carpet"
           }
          ],
          "choropleth": [
           {
            "colorbar": {
             "outlinewidth": 0,
             "ticks": ""
            },
            "type": "choropleth"
           }
          ],
          "contour": [
           {
            "colorbar": {
             "outlinewidth": 0,
             "ticks": ""
            },
            "colorscale": [
             [
              0,
              "#0d0887"
             ],
             [
              0.1111111111111111,
              "#46039f"
             ],
             [
              0.2222222222222222,
              "#7201a8"
             ],
             [
              0.3333333333333333,
              "#9c179e"
             ],
             [
              0.4444444444444444,
              "#bd3786"
             ],
             [
              0.5555555555555556,
              "#d8576b"
             ],
             [
              0.6666666666666666,
              "#ed7953"
             ],
             [
              0.7777777777777778,
              "#fb9f3a"
             ],
             [
              0.8888888888888888,
              "#fdca26"
             ],
             [
              1,
              "#f0f921"
             ]
            ],
            "type": "contour"
           }
          ],
          "contourcarpet": [
           {
            "colorbar": {
             "outlinewidth": 0,
             "ticks": ""
            },
            "type": "contourcarpet"
           }
          ],
          "heatmap": [
           {
            "colorbar": {
             "outlinewidth": 0,
             "ticks": ""
            },
            "colorscale": [
             [
              0,
              "#0d0887"
             ],
             [
              0.1111111111111111,
              "#46039f"
             ],
             [
              0.2222222222222222,
              "#7201a8"
             ],
             [
              0.3333333333333333,
              "#9c179e"
             ],
             [
              0.4444444444444444,
              "#bd3786"
             ],
             [
              0.5555555555555556,
              "#d8576b"
             ],
             [
              0.6666666666666666,
              "#ed7953"
             ],
             [
              0.7777777777777778,
              "#fb9f3a"
             ],
             [
              0.8888888888888888,
              "#fdca26"
             ],
             [
              1,
              "#f0f921"
             ]
            ],
            "type": "heatmap"
           }
          ],
          "heatmapgl": [
           {
            "colorbar": {
             "outlinewidth": 0,
             "ticks": ""
            },
            "colorscale": [
             [
              0,
              "#0d0887"
             ],
             [
              0.1111111111111111,
              "#46039f"
             ],
             [
              0.2222222222222222,
              "#7201a8"
             ],
             [
              0.3333333333333333,
              "#9c179e"
             ],
             [
              0.4444444444444444,
              "#bd3786"
             ],
             [
              0.5555555555555556,
              "#d8576b"
             ],
             [
              0.6666666666666666,
              "#ed7953"
             ],
             [
              0.7777777777777778,
              "#fb9f3a"
             ],
             [
              0.8888888888888888,
              "#fdca26"
             ],
             [
              1,
              "#f0f921"
             ]
            ],
            "type": "heatmapgl"
           }
          ],
          "histogram": [
           {
            "marker": {
             "pattern": {
              "fillmode": "overlay",
              "size": 10,
              "solidity": 0.2
             }
            },
            "type": "histogram"
           }
          ],
          "histogram2d": [
           {
            "colorbar": {
             "outlinewidth": 0,
             "ticks": ""
            },
            "colorscale": [
             [
              0,
              "#0d0887"
             ],
             [
              0.1111111111111111,
              "#46039f"
             ],
             [
              0.2222222222222222,
              "#7201a8"
             ],
             [
              0.3333333333333333,
              "#9c179e"
             ],
             [
              0.4444444444444444,
              "#bd3786"
             ],
             [
              0.5555555555555556,
              "#d8576b"
             ],
             [
              0.6666666666666666,
              "#ed7953"
             ],
             [
              0.7777777777777778,
              "#fb9f3a"
             ],
             [
              0.8888888888888888,
              "#fdca26"
             ],
             [
              1,
              "#f0f921"
             ]
            ],
            "type": "histogram2d"
           }
          ],
          "histogram2dcontour": [
           {
            "colorbar": {
             "outlinewidth": 0,
             "ticks": ""
            },
            "colorscale": [
             [
              0,
              "#0d0887"
             ],
             [
              0.1111111111111111,
              "#46039f"
             ],
             [
              0.2222222222222222,
              "#7201a8"
             ],
             [
              0.3333333333333333,
              "#9c179e"
             ],
             [
              0.4444444444444444,
              "#bd3786"
             ],
             [
              0.5555555555555556,
              "#d8576b"
             ],
             [
              0.6666666666666666,
              "#ed7953"
             ],
             [
              0.7777777777777778,
              "#fb9f3a"
             ],
             [
              0.8888888888888888,
              "#fdca26"
             ],
             [
              1,
              "#f0f921"
             ]
            ],
            "type": "histogram2dcontour"
           }
          ],
          "mesh3d": [
           {
            "colorbar": {
             "outlinewidth": 0,
             "ticks": ""
            },
            "type": "mesh3d"
           }
          ],
          "parcoords": [
           {
            "line": {
             "colorbar": {
              "outlinewidth": 0,
              "ticks": ""
             }
            },
            "type": "parcoords"
           }
          ],
          "pie": [
           {
            "automargin": true,
            "type": "pie"
           }
          ],
          "scatter": [
           {
            "fillpattern": {
             "fillmode": "overlay",
             "size": 10,
             "solidity": 0.2
            },
            "type": "scatter"
           }
          ],
          "scatter3d": [
           {
            "line": {
             "colorbar": {
              "outlinewidth": 0,
              "ticks": ""
             }
            },
            "marker": {
             "colorbar": {
              "outlinewidth": 0,
              "ticks": ""
             }
            },
            "type": "scatter3d"
           }
          ],
          "scattercarpet": [
           {
            "marker": {
             "colorbar": {
              "outlinewidth": 0,
              "ticks": ""
             }
            },
            "type": "scattercarpet"
           }
          ],
          "scattergeo": [
           {
            "marker": {
             "colorbar": {
              "outlinewidth": 0,
              "ticks": ""
             }
            },
            "type": "scattergeo"
           }
          ],
          "scattergl": [
           {
            "marker": {
             "colorbar": {
              "outlinewidth": 0,
              "ticks": ""
             }
            },
            "type": "scattergl"
           }
          ],
          "scattermapbox": [
           {
            "marker": {
             "colorbar": {
              "outlinewidth": 0,
              "ticks": ""
             }
            },
            "type": "scattermapbox"
           }
          ],
          "scatterpolar": [
           {
            "marker": {
             "colorbar": {
              "outlinewidth": 0,
              "ticks": ""
             }
            },
            "type": "scatterpolar"
           }
          ],
          "scatterpolargl": [
           {
            "marker": {
             "colorbar": {
              "outlinewidth": 0,
              "ticks": ""
             }
            },
            "type": "scatterpolargl"
           }
          ],
          "scatterternary": [
           {
            "marker": {
             "colorbar": {
              "outlinewidth": 0,
              "ticks": ""
             }
            },
            "type": "scatterternary"
           }
          ],
          "surface": [
           {
            "colorbar": {
             "outlinewidth": 0,
             "ticks": ""
            },
            "colorscale": [
             [
              0,
              "#0d0887"
             ],
             [
              0.1111111111111111,
              "#46039f"
             ],
             [
              0.2222222222222222,
              "#7201a8"
             ],
             [
              0.3333333333333333,
              "#9c179e"
             ],
             [
              0.4444444444444444,
              "#bd3786"
             ],
             [
              0.5555555555555556,
              "#d8576b"
             ],
             [
              0.6666666666666666,
              "#ed7953"
             ],
             [
              0.7777777777777778,
              "#fb9f3a"
             ],
             [
              0.8888888888888888,
              "#fdca26"
             ],
             [
              1,
              "#f0f921"
             ]
            ],
            "type": "surface"
           }
          ],
          "table": [
           {
            "cells": {
             "fill": {
              "color": "#EBF0F8"
             },
             "line": {
              "color": "white"
             }
            },
            "header": {
             "fill": {
              "color": "#C8D4E3"
             },
             "line": {
              "color": "white"
             }
            },
            "type": "table"
           }
          ]
         },
         "layout": {
          "annotationdefaults": {
           "arrowcolor": "#2a3f5f",
           "arrowhead": 0,
           "arrowwidth": 1
          },
          "autotypenumbers": "strict",
          "coloraxis": {
           "colorbar": {
            "outlinewidth": 0,
            "ticks": ""
           }
          },
          "colorscale": {
           "diverging": [
            [
             0,
             "#8e0152"
            ],
            [
             0.1,
             "#c51b7d"
            ],
            [
             0.2,
             "#de77ae"
            ],
            [
             0.3,
             "#f1b6da"
            ],
            [
             0.4,
             "#fde0ef"
            ],
            [
             0.5,
             "#f7f7f7"
            ],
            [
             0.6,
             "#e6f5d0"
            ],
            [
             0.7,
             "#b8e186"
            ],
            [
             0.8,
             "#7fbc41"
            ],
            [
             0.9,
             "#4d9221"
            ],
            [
             1,
             "#276419"
            ]
           ],
           "sequential": [
            [
             0,
             "#0d0887"
            ],
            [
             0.1111111111111111,
             "#46039f"
            ],
            [
             0.2222222222222222,
             "#7201a8"
            ],
            [
             0.3333333333333333,
             "#9c179e"
            ],
            [
             0.4444444444444444,
             "#bd3786"
            ],
            [
             0.5555555555555556,
             "#d8576b"
            ],
            [
             0.6666666666666666,
             "#ed7953"
            ],
            [
             0.7777777777777778,
             "#fb9f3a"
            ],
            [
             0.8888888888888888,
             "#fdca26"
            ],
            [
             1,
             "#f0f921"
            ]
           ],
           "sequentialminus": [
            [
             0,
             "#0d0887"
            ],
            [
             0.1111111111111111,
             "#46039f"
            ],
            [
             0.2222222222222222,
             "#7201a8"
            ],
            [
             0.3333333333333333,
             "#9c179e"
            ],
            [
             0.4444444444444444,
             "#bd3786"
            ],
            [
             0.5555555555555556,
             "#d8576b"
            ],
            [
             0.6666666666666666,
             "#ed7953"
            ],
            [
             0.7777777777777778,
             "#fb9f3a"
            ],
            [
             0.8888888888888888,
             "#fdca26"
            ],
            [
             1,
             "#f0f921"
            ]
           ]
          },
          "colorway": [
           "#636efa",
           "#EF553B",
           "#00cc96",
           "#ab63fa",
           "#FFA15A",
           "#19d3f3",
           "#FF6692",
           "#B6E880",
           "#FF97FF",
           "#FECB52"
          ],
          "font": {
           "color": "#2a3f5f"
          },
          "geo": {
           "bgcolor": "white",
           "lakecolor": "white",
           "landcolor": "#E5ECF6",
           "showlakes": true,
           "showland": true,
           "subunitcolor": "white"
          },
          "hoverlabel": {
           "align": "left"
          },
          "hovermode": "closest",
          "mapbox": {
           "style": "light"
          },
          "paper_bgcolor": "white",
          "plot_bgcolor": "#E5ECF6",
          "polar": {
           "angularaxis": {
            "gridcolor": "white",
            "linecolor": "white",
            "ticks": ""
           },
           "bgcolor": "#E5ECF6",
           "radialaxis": {
            "gridcolor": "white",
            "linecolor": "white",
            "ticks": ""
           }
          },
          "scene": {
           "xaxis": {
            "backgroundcolor": "#E5ECF6",
            "gridcolor": "white",
            "gridwidth": 2,
            "linecolor": "white",
            "showbackground": true,
            "ticks": "",
            "zerolinecolor": "white"
           },
           "yaxis": {
            "backgroundcolor": "#E5ECF6",
            "gridcolor": "white",
            "gridwidth": 2,
            "linecolor": "white",
            "showbackground": true,
            "ticks": "",
            "zerolinecolor": "white"
           },
           "zaxis": {
            "backgroundcolor": "#E5ECF6",
            "gridcolor": "white",
            "gridwidth": 2,
            "linecolor": "white",
            "showbackground": true,
            "ticks": "",
            "zerolinecolor": "white"
           }
          },
          "shapedefaults": {
           "line": {
            "color": "#2a3f5f"
           }
          },
          "ternary": {
           "aaxis": {
            "gridcolor": "white",
            "linecolor": "white",
            "ticks": ""
           },
           "baxis": {
            "gridcolor": "white",
            "linecolor": "white",
            "ticks": ""
           },
           "bgcolor": "#E5ECF6",
           "caxis": {
            "gridcolor": "white",
            "linecolor": "white",
            "ticks": ""
           }
          },
          "title": {
           "x": 0.05
          },
          "xaxis": {
           "automargin": true,
           "gridcolor": "white",
           "linecolor": "white",
           "ticks": "",
           "title": {
            "standoff": 15
           },
           "zerolinecolor": "white",
           "zerolinewidth": 2
          },
          "yaxis": {
           "automargin": true,
           "gridcolor": "white",
           "linecolor": "white",
           "ticks": "",
           "title": {
            "standoff": 15
           },
           "zerolinecolor": "white",
           "zerolinewidth": 2
          }
         }
        },
        "title": {
         "text": "Labour in Europe"
        },
        "xaxis": {
         "anchor": "y",
         "domain": [
          0,
          1
         ],
         "title": {
          "text": "Year"
         }
        },
        "yaxis": {
         "anchor": "x",
         "domain": [
          0,
          1
         ],
         "title": {
          "text": "Value"
         }
        }
       }
      }
     },
     "metadata": {},
     "output_type": "display_data"
    }
   ],
   "source": [
    "# line chart\n",
    "fig = px.line(\n",
    "    filtered_df,\n",
    "    x=\"TIME_PERIOD\",\n",
    "    y=\"OBS_VALUE\",\n",
    "    color='country',\n",
    "    labels={'TIME_PERIOD': 'Year', 'OBS_VALUE': 'Value', 'country': 'Country'}, # set the labels for the chart\n",
    "    title='Labour in Europe',\n",
    "    hover_name='country',\n",
    "    \n",
    ")\n",
    "fig.show()"
   ]
  },
  {
   "attachments": {},
   "cell_type": "markdown",
   "metadata": {},
   "source": [
    "- I have performed the necessary visualization processes of my existing data set and now I want to start comparing Ireland with different countries.\n",
    "- I will use Ireland and the United Kingdom in my research.\n"
   ]
  },
  {
   "cell_type": "code",
   "execution_count": 47,
   "metadata": {},
   "outputs": [],
   "source": [
    "df_ire_uk = filtered_df[filtered_df['country'].isin(['Ireland', 'United Kingdom'])]\n"
   ]
  },
  {
   "cell_type": "code",
   "execution_count": 49,
   "metadata": {},
   "outputs": [
    {
     "data": {
      "application/vnd.plotly.v1+json": {
       "config": {
        "plotlyServerURL": "https://plot.ly"
       },
       "data": [
        {
         "alignmentgroup": "True",
         "hovertemplate": "country=Ireland<br>TIME_PERIOD=%{x}<br>OBS_VALUE=%{y}<extra></extra>",
         "legendgroup": "Ireland",
         "marker": {
          "color": "#636efa",
          "pattern": {
           "shape": ""
          }
         },
         "name": "Ireland",
         "offsetgroup": "Ireland",
         "orientation": "v",
         "showlegend": true,
         "textposition": "auto",
         "type": "bar",
         "x": [
          2009,
          2010,
          2011,
          2012,
          2013,
          2014,
          2015,
          2016,
          2017,
          2018,
          2019
         ],
         "xaxis": "x",
         "y": [
          -31.6,
          -28.6,
          -7.9,
          -7.4,
          0.4,
          11.7,
          17.4,
          14.2,
          8.2,
          12.1,
          5.3
         ],
         "yaxis": "y"
        },
        {
         "alignmentgroup": "True",
         "hovertemplate": "country=United Kingdom<br>TIME_PERIOD=%{x}<br>OBS_VALUE=%{y}<extra></extra>",
         "legendgroup": "United Kingdom",
         "marker": {
          "color": "#EF553B",
          "pattern": {
           "shape": ""
          }
         },
         "name": "United Kingdom",
         "offsetgroup": "United Kingdom",
         "orientation": "v",
         "showlegend": true,
         "textposition": "auto",
         "type": "bar",
         "x": [
          2009,
          2010,
          2011,
          2012,
          2013,
          2014,
          2015,
          2016,
          2017,
          2018,
          2019
         ],
         "xaxis": "x",
         "y": [
          -3.1,
          -9.8,
          -2.3,
          -1.5,
          0.1,
          3.7,
          3.7,
          2.7,
          5.6,
          0.3,
          2.9
         ],
         "yaxis": "y"
        }
       ],
       "layout": {
        "barmode": "group",
        "legend": {
         "title": {
          "text": "country"
         },
         "tracegroupgap": 0
        },
        "margin": {
         "t": 60
        },
        "template": {
         "data": {
          "bar": [
           {
            "error_x": {
             "color": "#2a3f5f"
            },
            "error_y": {
             "color": "#2a3f5f"
            },
            "marker": {
             "line": {
              "color": "#E5ECF6",
              "width": 0.5
             },
             "pattern": {
              "fillmode": "overlay",
              "size": 10,
              "solidity": 0.2
             }
            },
            "type": "bar"
           }
          ],
          "barpolar": [
           {
            "marker": {
             "line": {
              "color": "#E5ECF6",
              "width": 0.5
             },
             "pattern": {
              "fillmode": "overlay",
              "size": 10,
              "solidity": 0.2
             }
            },
            "type": "barpolar"
           }
          ],
          "carpet": [
           {
            "aaxis": {
             "endlinecolor": "#2a3f5f",
             "gridcolor": "white",
             "linecolor": "white",
             "minorgridcolor": "white",
             "startlinecolor": "#2a3f5f"
            },
            "baxis": {
             "endlinecolor": "#2a3f5f",
             "gridcolor": "white",
             "linecolor": "white",
             "minorgridcolor": "white",
             "startlinecolor": "#2a3f5f"
            },
            "type": "carpet"
           }
          ],
          "choropleth": [
           {
            "colorbar": {
             "outlinewidth": 0,
             "ticks": ""
            },
            "type": "choropleth"
           }
          ],
          "contour": [
           {
            "colorbar": {
             "outlinewidth": 0,
             "ticks": ""
            },
            "colorscale": [
             [
              0,
              "#0d0887"
             ],
             [
              0.1111111111111111,
              "#46039f"
             ],
             [
              0.2222222222222222,
              "#7201a8"
             ],
             [
              0.3333333333333333,
              "#9c179e"
             ],
             [
              0.4444444444444444,
              "#bd3786"
             ],
             [
              0.5555555555555556,
              "#d8576b"
             ],
             [
              0.6666666666666666,
              "#ed7953"
             ],
             [
              0.7777777777777778,
              "#fb9f3a"
             ],
             [
              0.8888888888888888,
              "#fdca26"
             ],
             [
              1,
              "#f0f921"
             ]
            ],
            "type": "contour"
           }
          ],
          "contourcarpet": [
           {
            "colorbar": {
             "outlinewidth": 0,
             "ticks": ""
            },
            "type": "contourcarpet"
           }
          ],
          "heatmap": [
           {
            "colorbar": {
             "outlinewidth": 0,
             "ticks": ""
            },
            "colorscale": [
             [
              0,
              "#0d0887"
             ],
             [
              0.1111111111111111,
              "#46039f"
             ],
             [
              0.2222222222222222,
              "#7201a8"
             ],
             [
              0.3333333333333333,
              "#9c179e"
             ],
             [
              0.4444444444444444,
              "#bd3786"
             ],
             [
              0.5555555555555556,
              "#d8576b"
             ],
             [
              0.6666666666666666,
              "#ed7953"
             ],
             [
              0.7777777777777778,
              "#fb9f3a"
             ],
             [
              0.8888888888888888,
              "#fdca26"
             ],
             [
              1,
              "#f0f921"
             ]
            ],
            "type": "heatmap"
           }
          ],
          "heatmapgl": [
           {
            "colorbar": {
             "outlinewidth": 0,
             "ticks": ""
            },
            "colorscale": [
             [
              0,
              "#0d0887"
             ],
             [
              0.1111111111111111,
              "#46039f"
             ],
             [
              0.2222222222222222,
              "#7201a8"
             ],
             [
              0.3333333333333333,
              "#9c179e"
             ],
             [
              0.4444444444444444,
              "#bd3786"
             ],
             [
              0.5555555555555556,
              "#d8576b"
             ],
             [
              0.6666666666666666,
              "#ed7953"
             ],
             [
              0.7777777777777778,
              "#fb9f3a"
             ],
             [
              0.8888888888888888,
              "#fdca26"
             ],
             [
              1,
              "#f0f921"
             ]
            ],
            "type": "heatmapgl"
           }
          ],
          "histogram": [
           {
            "marker": {
             "pattern": {
              "fillmode": "overlay",
              "size": 10,
              "solidity": 0.2
             }
            },
            "type": "histogram"
           }
          ],
          "histogram2d": [
           {
            "colorbar": {
             "outlinewidth": 0,
             "ticks": ""
            },
            "colorscale": [
             [
              0,
              "#0d0887"
             ],
             [
              0.1111111111111111,
              "#46039f"
             ],
             [
              0.2222222222222222,
              "#7201a8"
             ],
             [
              0.3333333333333333,
              "#9c179e"
             ],
             [
              0.4444444444444444,
              "#bd3786"
             ],
             [
              0.5555555555555556,
              "#d8576b"
             ],
             [
              0.6666666666666666,
              "#ed7953"
             ],
             [
              0.7777777777777778,
              "#fb9f3a"
             ],
             [
              0.8888888888888888,
              "#fdca26"
             ],
             [
              1,
              "#f0f921"
             ]
            ],
            "type": "histogram2d"
           }
          ],
          "histogram2dcontour": [
           {
            "colorbar": {
             "outlinewidth": 0,
             "ticks": ""
            },
            "colorscale": [
             [
              0,
              "#0d0887"
             ],
             [
              0.1111111111111111,
              "#46039f"
             ],
             [
              0.2222222222222222,
              "#7201a8"
             ],
             [
              0.3333333333333333,
              "#9c179e"
             ],
             [
              0.4444444444444444,
              "#bd3786"
             ],
             [
              0.5555555555555556,
              "#d8576b"
             ],
             [
              0.6666666666666666,
              "#ed7953"
             ],
             [
              0.7777777777777778,
              "#fb9f3a"
             ],
             [
              0.8888888888888888,
              "#fdca26"
             ],
             [
              1,
              "#f0f921"
             ]
            ],
            "type": "histogram2dcontour"
           }
          ],
          "mesh3d": [
           {
            "colorbar": {
             "outlinewidth": 0,
             "ticks": ""
            },
            "type": "mesh3d"
           }
          ],
          "parcoords": [
           {
            "line": {
             "colorbar": {
              "outlinewidth": 0,
              "ticks": ""
             }
            },
            "type": "parcoords"
           }
          ],
          "pie": [
           {
            "automargin": true,
            "type": "pie"
           }
          ],
          "scatter": [
           {
            "fillpattern": {
             "fillmode": "overlay",
             "size": 10,
             "solidity": 0.2
            },
            "type": "scatter"
           }
          ],
          "scatter3d": [
           {
            "line": {
             "colorbar": {
              "outlinewidth": 0,
              "ticks": ""
             }
            },
            "marker": {
             "colorbar": {
              "outlinewidth": 0,
              "ticks": ""
             }
            },
            "type": "scatter3d"
           }
          ],
          "scattercarpet": [
           {
            "marker": {
             "colorbar": {
              "outlinewidth": 0,
              "ticks": ""
             }
            },
            "type": "scattercarpet"
           }
          ],
          "scattergeo": [
           {
            "marker": {
             "colorbar": {
              "outlinewidth": 0,
              "ticks": ""
             }
            },
            "type": "scattergeo"
           }
          ],
          "scattergl": [
           {
            "marker": {
             "colorbar": {
              "outlinewidth": 0,
              "ticks": ""
             }
            },
            "type": "scattergl"
           }
          ],
          "scattermapbox": [
           {
            "marker": {
             "colorbar": {
              "outlinewidth": 0,
              "ticks": ""
             }
            },
            "type": "scattermapbox"
           }
          ],
          "scatterpolar": [
           {
            "marker": {
             "colorbar": {
              "outlinewidth": 0,
              "ticks": ""
             }
            },
            "type": "scatterpolar"
           }
          ],
          "scatterpolargl": [
           {
            "marker": {
             "colorbar": {
              "outlinewidth": 0,
              "ticks": ""
             }
            },
            "type": "scatterpolargl"
           }
          ],
          "scatterternary": [
           {
            "marker": {
             "colorbar": {
              "outlinewidth": 0,
              "ticks": ""
             }
            },
            "type": "scatterternary"
           }
          ],
          "surface": [
           {
            "colorbar": {
             "outlinewidth": 0,
             "ticks": ""
            },
            "colorscale": [
             [
              0,
              "#0d0887"
             ],
             [
              0.1111111111111111,
              "#46039f"
             ],
             [
              0.2222222222222222,
              "#7201a8"
             ],
             [
              0.3333333333333333,
              "#9c179e"
             ],
             [
              0.4444444444444444,
              "#bd3786"
             ],
             [
              0.5555555555555556,
              "#d8576b"
             ],
             [
              0.6666666666666666,
              "#ed7953"
             ],
             [
              0.7777777777777778,
              "#fb9f3a"
             ],
             [
              0.8888888888888888,
              "#fdca26"
             ],
             [
              1,
              "#f0f921"
             ]
            ],
            "type": "surface"
           }
          ],
          "table": [
           {
            "cells": {
             "fill": {
              "color": "#EBF0F8"
             },
             "line": {
              "color": "white"
             }
            },
            "header": {
             "fill": {
              "color": "#C8D4E3"
             },
             "line": {
              "color": "white"
             }
            },
            "type": "table"
           }
          ]
         },
         "layout": {
          "annotationdefaults": {
           "arrowcolor": "#2a3f5f",
           "arrowhead": 0,
           "arrowwidth": 1
          },
          "autotypenumbers": "strict",
          "coloraxis": {
           "colorbar": {
            "outlinewidth": 0,
            "ticks": ""
           }
          },
          "colorscale": {
           "diverging": [
            [
             0,
             "#8e0152"
            ],
            [
             0.1,
             "#c51b7d"
            ],
            [
             0.2,
             "#de77ae"
            ],
            [
             0.3,
             "#f1b6da"
            ],
            [
             0.4,
             "#fde0ef"
            ],
            [
             0.5,
             "#f7f7f7"
            ],
            [
             0.6,
             "#e6f5d0"
            ],
            [
             0.7,
             "#b8e186"
            ],
            [
             0.8,
             "#7fbc41"
            ],
            [
             0.9,
             "#4d9221"
            ],
            [
             1,
             "#276419"
            ]
           ],
           "sequential": [
            [
             0,
             "#0d0887"
            ],
            [
             0.1111111111111111,
             "#46039f"
            ],
            [
             0.2222222222222222,
             "#7201a8"
            ],
            [
             0.3333333333333333,
             "#9c179e"
            ],
            [
             0.4444444444444444,
             "#bd3786"
            ],
            [
             0.5555555555555556,
             "#d8576b"
            ],
            [
             0.6666666666666666,
             "#ed7953"
            ],
            [
             0.7777777777777778,
             "#fb9f3a"
            ],
            [
             0.8888888888888888,
             "#fdca26"
            ],
            [
             1,
             "#f0f921"
            ]
           ],
           "sequentialminus": [
            [
             0,
             "#0d0887"
            ],
            [
             0.1111111111111111,
             "#46039f"
            ],
            [
             0.2222222222222222,
             "#7201a8"
            ],
            [
             0.3333333333333333,
             "#9c179e"
            ],
            [
             0.4444444444444444,
             "#bd3786"
            ],
            [
             0.5555555555555556,
             "#d8576b"
            ],
            [
             0.6666666666666666,
             "#ed7953"
            ],
            [
             0.7777777777777778,
             "#fb9f3a"
            ],
            [
             0.8888888888888888,
             "#fdca26"
            ],
            [
             1,
             "#f0f921"
            ]
           ]
          },
          "colorway": [
           "#636efa",
           "#EF553B",
           "#00cc96",
           "#ab63fa",
           "#FFA15A",
           "#19d3f3",
           "#FF6692",
           "#B6E880",
           "#FF97FF",
           "#FECB52"
          ],
          "font": {
           "color": "#2a3f5f"
          },
          "geo": {
           "bgcolor": "white",
           "lakecolor": "white",
           "landcolor": "#E5ECF6",
           "showlakes": true,
           "showland": true,
           "subunitcolor": "white"
          },
          "hoverlabel": {
           "align": "left"
          },
          "hovermode": "closest",
          "mapbox": {
           "style": "light"
          },
          "paper_bgcolor": "white",
          "plot_bgcolor": "#E5ECF6",
          "polar": {
           "angularaxis": {
            "gridcolor": "white",
            "linecolor": "white",
            "ticks": ""
           },
           "bgcolor": "#E5ECF6",
           "radialaxis": {
            "gridcolor": "white",
            "linecolor": "white",
            "ticks": ""
           }
          },
          "scene": {
           "xaxis": {
            "backgroundcolor": "#E5ECF6",
            "gridcolor": "white",
            "gridwidth": 2,
            "linecolor": "white",
            "showbackground": true,
            "ticks": "",
            "zerolinecolor": "white"
           },
           "yaxis": {
            "backgroundcolor": "#E5ECF6",
            "gridcolor": "white",
            "gridwidth": 2,
            "linecolor": "white",
            "showbackground": true,
            "ticks": "",
            "zerolinecolor": "white"
           },
           "zaxis": {
            "backgroundcolor": "#E5ECF6",
            "gridcolor": "white",
            "gridwidth": 2,
            "linecolor": "white",
            "showbackground": true,
            "ticks": "",
            "zerolinecolor": "white"
           }
          },
          "shapedefaults": {
           "line": {
            "color": "#2a3f5f"
           }
          },
          "ternary": {
           "aaxis": {
            "gridcolor": "white",
            "linecolor": "white",
            "ticks": ""
           },
           "baxis": {
            "gridcolor": "white",
            "linecolor": "white",
            "ticks": ""
           },
           "bgcolor": "#E5ECF6",
           "caxis": {
            "gridcolor": "white",
            "linecolor": "white",
            "ticks": ""
           }
          },
          "title": {
           "x": 0.05
          },
          "xaxis": {
           "automargin": true,
           "gridcolor": "white",
           "linecolor": "white",
           "ticks": "",
           "title": {
            "standoff": 15
           },
           "zerolinecolor": "white",
           "zerolinewidth": 2
          },
          "yaxis": {
           "automargin": true,
           "gridcolor": "white",
           "linecolor": "white",
           "ticks": "",
           "title": {
            "standoff": 15
           },
           "zerolinecolor": "white",
           "zerolinewidth": 2
          }
         }
        },
        "xaxis": {
         "anchor": "y",
         "domain": [
          0,
          1
         ],
         "title": {
          "text": "TIME_PERIOD"
         }
        },
        "yaxis": {
         "anchor": "x",
         "domain": [
          0,
          1
         ],
         "title": {
          "text": "OBS_VALUE"
         }
        }
       }
      }
     },
     "metadata": {},
     "output_type": "display_data"
    }
   ],
   "source": [
    "fig = px.bar(df_ire_uk, x='TIME_PERIOD', y='OBS_VALUE', color='country', barmode='group')\n",
    "fig.show()"
   ]
  },
  {
   "cell_type": "code",
   "execution_count": 50,
   "metadata": {},
   "outputs": [
    {
     "data": {
      "text/html": [
       "<div>\n",
       "<style scoped>\n",
       "    .dataframe tbody tr th:only-of-type {\n",
       "        vertical-align: middle;\n",
       "    }\n",
       "\n",
       "    .dataframe tbody tr th {\n",
       "        vertical-align: top;\n",
       "    }\n",
       "\n",
       "    .dataframe thead th {\n",
       "        text-align: right;\n",
       "    }\n",
       "</style>\n",
       "<table border=\"1\" class=\"dataframe\">\n",
       "  <thead>\n",
       "    <tr style=\"text-align: right;\">\n",
       "      <th></th>\n",
       "      <th>STRUCTURE</th>\n",
       "      <th>STRUCTURE_ID</th>\n",
       "      <th>freq</th>\n",
       "      <th>indic_bt</th>\n",
       "      <th>nace_r2</th>\n",
       "      <th>s_adj</th>\n",
       "      <th>unit</th>\n",
       "      <th>geo</th>\n",
       "      <th>TIME_PERIOD</th>\n",
       "      <th>OBS_VALUE</th>\n",
       "      <th>OBS_FLAG</th>\n",
       "      <th>country</th>\n",
       "    </tr>\n",
       "  </thead>\n",
       "  <tbody>\n",
       "    <tr>\n",
       "      <th>176</th>\n",
       "      <td>dataflow</td>\n",
       "      <td>ESTAT:STS_COLB_A(1.0)</td>\n",
       "      <td>A</td>\n",
       "      <td>EMPL</td>\n",
       "      <td>F</td>\n",
       "      <td>NSA</td>\n",
       "      <td>PCH_SM</td>\n",
       "      <td>IE</td>\n",
       "      <td>2009</td>\n",
       "      <td>-31.6</td>\n",
       "      <td>None</td>\n",
       "      <td>Ireland</td>\n",
       "    </tr>\n",
       "    <tr>\n",
       "      <th>177</th>\n",
       "      <td>dataflow</td>\n",
       "      <td>ESTAT:STS_COLB_A(1.0)</td>\n",
       "      <td>A</td>\n",
       "      <td>EMPL</td>\n",
       "      <td>F</td>\n",
       "      <td>NSA</td>\n",
       "      <td>PCH_SM</td>\n",
       "      <td>IE</td>\n",
       "      <td>2010</td>\n",
       "      <td>-28.6</td>\n",
       "      <td>None</td>\n",
       "      <td>Ireland</td>\n",
       "    </tr>\n",
       "    <tr>\n",
       "      <th>178</th>\n",
       "      <td>dataflow</td>\n",
       "      <td>ESTAT:STS_COLB_A(1.0)</td>\n",
       "      <td>A</td>\n",
       "      <td>EMPL</td>\n",
       "      <td>F</td>\n",
       "      <td>NSA</td>\n",
       "      <td>PCH_SM</td>\n",
       "      <td>IE</td>\n",
       "      <td>2011</td>\n",
       "      <td>-7.9</td>\n",
       "      <td>None</td>\n",
       "      <td>Ireland</td>\n",
       "    </tr>\n",
       "    <tr>\n",
       "      <th>179</th>\n",
       "      <td>dataflow</td>\n",
       "      <td>ESTAT:STS_COLB_A(1.0)</td>\n",
       "      <td>A</td>\n",
       "      <td>EMPL</td>\n",
       "      <td>F</td>\n",
       "      <td>NSA</td>\n",
       "      <td>PCH_SM</td>\n",
       "      <td>IE</td>\n",
       "      <td>2012</td>\n",
       "      <td>-7.4</td>\n",
       "      <td>None</td>\n",
       "      <td>Ireland</td>\n",
       "    </tr>\n",
       "    <tr>\n",
       "      <th>180</th>\n",
       "      <td>dataflow</td>\n",
       "      <td>ESTAT:STS_COLB_A(1.0)</td>\n",
       "      <td>A</td>\n",
       "      <td>EMPL</td>\n",
       "      <td>F</td>\n",
       "      <td>NSA</td>\n",
       "      <td>PCH_SM</td>\n",
       "      <td>IE</td>\n",
       "      <td>2013</td>\n",
       "      <td>0.4</td>\n",
       "      <td>None</td>\n",
       "      <td>Ireland</td>\n",
       "    </tr>\n",
       "    <tr>\n",
       "      <th>181</th>\n",
       "      <td>dataflow</td>\n",
       "      <td>ESTAT:STS_COLB_A(1.0)</td>\n",
       "      <td>A</td>\n",
       "      <td>EMPL</td>\n",
       "      <td>F</td>\n",
       "      <td>NSA</td>\n",
       "      <td>PCH_SM</td>\n",
       "      <td>IE</td>\n",
       "      <td>2014</td>\n",
       "      <td>11.7</td>\n",
       "      <td>None</td>\n",
       "      <td>Ireland</td>\n",
       "    </tr>\n",
       "    <tr>\n",
       "      <th>182</th>\n",
       "      <td>dataflow</td>\n",
       "      <td>ESTAT:STS_COLB_A(1.0)</td>\n",
       "      <td>A</td>\n",
       "      <td>EMPL</td>\n",
       "      <td>F</td>\n",
       "      <td>NSA</td>\n",
       "      <td>PCH_SM</td>\n",
       "      <td>IE</td>\n",
       "      <td>2015</td>\n",
       "      <td>17.4</td>\n",
       "      <td>None</td>\n",
       "      <td>Ireland</td>\n",
       "    </tr>\n",
       "    <tr>\n",
       "      <th>183</th>\n",
       "      <td>dataflow</td>\n",
       "      <td>ESTAT:STS_COLB_A(1.0)</td>\n",
       "      <td>A</td>\n",
       "      <td>EMPL</td>\n",
       "      <td>F</td>\n",
       "      <td>NSA</td>\n",
       "      <td>PCH_SM</td>\n",
       "      <td>IE</td>\n",
       "      <td>2016</td>\n",
       "      <td>14.2</td>\n",
       "      <td>None</td>\n",
       "      <td>Ireland</td>\n",
       "    </tr>\n",
       "    <tr>\n",
       "      <th>184</th>\n",
       "      <td>dataflow</td>\n",
       "      <td>ESTAT:STS_COLB_A(1.0)</td>\n",
       "      <td>A</td>\n",
       "      <td>EMPL</td>\n",
       "      <td>F</td>\n",
       "      <td>NSA</td>\n",
       "      <td>PCH_SM</td>\n",
       "      <td>IE</td>\n",
       "      <td>2017</td>\n",
       "      <td>8.2</td>\n",
       "      <td>None</td>\n",
       "      <td>Ireland</td>\n",
       "    </tr>\n",
       "    <tr>\n",
       "      <th>185</th>\n",
       "      <td>dataflow</td>\n",
       "      <td>ESTAT:STS_COLB_A(1.0)</td>\n",
       "      <td>A</td>\n",
       "      <td>EMPL</td>\n",
       "      <td>F</td>\n",
       "      <td>NSA</td>\n",
       "      <td>PCH_SM</td>\n",
       "      <td>IE</td>\n",
       "      <td>2018</td>\n",
       "      <td>12.1</td>\n",
       "      <td>None</td>\n",
       "      <td>Ireland</td>\n",
       "    </tr>\n",
       "    <tr>\n",
       "      <th>186</th>\n",
       "      <td>dataflow</td>\n",
       "      <td>ESTAT:STS_COLB_A(1.0)</td>\n",
       "      <td>A</td>\n",
       "      <td>EMPL</td>\n",
       "      <td>F</td>\n",
       "      <td>NSA</td>\n",
       "      <td>PCH_SM</td>\n",
       "      <td>IE</td>\n",
       "      <td>2019</td>\n",
       "      <td>5.3</td>\n",
       "      <td>None</td>\n",
       "      <td>Ireland</td>\n",
       "    </tr>\n",
       "    <tr>\n",
       "      <th>385</th>\n",
       "      <td>dataflow</td>\n",
       "      <td>ESTAT:STS_COLB_A(1.0)</td>\n",
       "      <td>A</td>\n",
       "      <td>EMPL</td>\n",
       "      <td>F</td>\n",
       "      <td>NSA</td>\n",
       "      <td>PCH_SM</td>\n",
       "      <td>GB</td>\n",
       "      <td>2009</td>\n",
       "      <td>-3.1</td>\n",
       "      <td>None</td>\n",
       "      <td>United Kingdom</td>\n",
       "    </tr>\n",
       "    <tr>\n",
       "      <th>386</th>\n",
       "      <td>dataflow</td>\n",
       "      <td>ESTAT:STS_COLB_A(1.0)</td>\n",
       "      <td>A</td>\n",
       "      <td>EMPL</td>\n",
       "      <td>F</td>\n",
       "      <td>NSA</td>\n",
       "      <td>PCH_SM</td>\n",
       "      <td>GB</td>\n",
       "      <td>2010</td>\n",
       "      <td>-9.8</td>\n",
       "      <td>None</td>\n",
       "      <td>United Kingdom</td>\n",
       "    </tr>\n",
       "    <tr>\n",
       "      <th>387</th>\n",
       "      <td>dataflow</td>\n",
       "      <td>ESTAT:STS_COLB_A(1.0)</td>\n",
       "      <td>A</td>\n",
       "      <td>EMPL</td>\n",
       "      <td>F</td>\n",
       "      <td>NSA</td>\n",
       "      <td>PCH_SM</td>\n",
       "      <td>GB</td>\n",
       "      <td>2011</td>\n",
       "      <td>-2.3</td>\n",
       "      <td>None</td>\n",
       "      <td>United Kingdom</td>\n",
       "    </tr>\n",
       "    <tr>\n",
       "      <th>388</th>\n",
       "      <td>dataflow</td>\n",
       "      <td>ESTAT:STS_COLB_A(1.0)</td>\n",
       "      <td>A</td>\n",
       "      <td>EMPL</td>\n",
       "      <td>F</td>\n",
       "      <td>NSA</td>\n",
       "      <td>PCH_SM</td>\n",
       "      <td>GB</td>\n",
       "      <td>2012</td>\n",
       "      <td>-1.5</td>\n",
       "      <td>None</td>\n",
       "      <td>United Kingdom</td>\n",
       "    </tr>\n",
       "    <tr>\n",
       "      <th>389</th>\n",
       "      <td>dataflow</td>\n",
       "      <td>ESTAT:STS_COLB_A(1.0)</td>\n",
       "      <td>A</td>\n",
       "      <td>EMPL</td>\n",
       "      <td>F</td>\n",
       "      <td>NSA</td>\n",
       "      <td>PCH_SM</td>\n",
       "      <td>GB</td>\n",
       "      <td>2013</td>\n",
       "      <td>0.1</td>\n",
       "      <td>None</td>\n",
       "      <td>United Kingdom</td>\n",
       "    </tr>\n",
       "    <tr>\n",
       "      <th>390</th>\n",
       "      <td>dataflow</td>\n",
       "      <td>ESTAT:STS_COLB_A(1.0)</td>\n",
       "      <td>A</td>\n",
       "      <td>EMPL</td>\n",
       "      <td>F</td>\n",
       "      <td>NSA</td>\n",
       "      <td>PCH_SM</td>\n",
       "      <td>GB</td>\n",
       "      <td>2014</td>\n",
       "      <td>3.7</td>\n",
       "      <td>None</td>\n",
       "      <td>United Kingdom</td>\n",
       "    </tr>\n",
       "    <tr>\n",
       "      <th>391</th>\n",
       "      <td>dataflow</td>\n",
       "      <td>ESTAT:STS_COLB_A(1.0)</td>\n",
       "      <td>A</td>\n",
       "      <td>EMPL</td>\n",
       "      <td>F</td>\n",
       "      <td>NSA</td>\n",
       "      <td>PCH_SM</td>\n",
       "      <td>GB</td>\n",
       "      <td>2015</td>\n",
       "      <td>3.7</td>\n",
       "      <td>None</td>\n",
       "      <td>United Kingdom</td>\n",
       "    </tr>\n",
       "    <tr>\n",
       "      <th>392</th>\n",
       "      <td>dataflow</td>\n",
       "      <td>ESTAT:STS_COLB_A(1.0)</td>\n",
       "      <td>A</td>\n",
       "      <td>EMPL</td>\n",
       "      <td>F</td>\n",
       "      <td>NSA</td>\n",
       "      <td>PCH_SM</td>\n",
       "      <td>GB</td>\n",
       "      <td>2016</td>\n",
       "      <td>2.7</td>\n",
       "      <td>None</td>\n",
       "      <td>United Kingdom</td>\n",
       "    </tr>\n",
       "    <tr>\n",
       "      <th>393</th>\n",
       "      <td>dataflow</td>\n",
       "      <td>ESTAT:STS_COLB_A(1.0)</td>\n",
       "      <td>A</td>\n",
       "      <td>EMPL</td>\n",
       "      <td>F</td>\n",
       "      <td>NSA</td>\n",
       "      <td>PCH_SM</td>\n",
       "      <td>GB</td>\n",
       "      <td>2017</td>\n",
       "      <td>5.6</td>\n",
       "      <td>None</td>\n",
       "      <td>United Kingdom</td>\n",
       "    </tr>\n",
       "    <tr>\n",
       "      <th>394</th>\n",
       "      <td>dataflow</td>\n",
       "      <td>ESTAT:STS_COLB_A(1.0)</td>\n",
       "      <td>A</td>\n",
       "      <td>EMPL</td>\n",
       "      <td>F</td>\n",
       "      <td>NSA</td>\n",
       "      <td>PCH_SM</td>\n",
       "      <td>GB</td>\n",
       "      <td>2018</td>\n",
       "      <td>0.3</td>\n",
       "      <td>None</td>\n",
       "      <td>United Kingdom</td>\n",
       "    </tr>\n",
       "    <tr>\n",
       "      <th>395</th>\n",
       "      <td>dataflow</td>\n",
       "      <td>ESTAT:STS_COLB_A(1.0)</td>\n",
       "      <td>A</td>\n",
       "      <td>EMPL</td>\n",
       "      <td>F</td>\n",
       "      <td>NSA</td>\n",
       "      <td>PCH_SM</td>\n",
       "      <td>GB</td>\n",
       "      <td>2019</td>\n",
       "      <td>2.9</td>\n",
       "      <td>None</td>\n",
       "      <td>United Kingdom</td>\n",
       "    </tr>\n",
       "  </tbody>\n",
       "</table>\n",
       "</div>"
      ],
      "text/plain": [
       "    STRUCTURE           STRUCTURE_ID freq indic_bt nace_r2 s_adj    unit geo  \\\n",
       "176  dataflow  ESTAT:STS_COLB_A(1.0)    A     EMPL       F   NSA  PCH_SM  IE   \n",
       "177  dataflow  ESTAT:STS_COLB_A(1.0)    A     EMPL       F   NSA  PCH_SM  IE   \n",
       "178  dataflow  ESTAT:STS_COLB_A(1.0)    A     EMPL       F   NSA  PCH_SM  IE   \n",
       "179  dataflow  ESTAT:STS_COLB_A(1.0)    A     EMPL       F   NSA  PCH_SM  IE   \n",
       "180  dataflow  ESTAT:STS_COLB_A(1.0)    A     EMPL       F   NSA  PCH_SM  IE   \n",
       "181  dataflow  ESTAT:STS_COLB_A(1.0)    A     EMPL       F   NSA  PCH_SM  IE   \n",
       "182  dataflow  ESTAT:STS_COLB_A(1.0)    A     EMPL       F   NSA  PCH_SM  IE   \n",
       "183  dataflow  ESTAT:STS_COLB_A(1.0)    A     EMPL       F   NSA  PCH_SM  IE   \n",
       "184  dataflow  ESTAT:STS_COLB_A(1.0)    A     EMPL       F   NSA  PCH_SM  IE   \n",
       "185  dataflow  ESTAT:STS_COLB_A(1.0)    A     EMPL       F   NSA  PCH_SM  IE   \n",
       "186  dataflow  ESTAT:STS_COLB_A(1.0)    A     EMPL       F   NSA  PCH_SM  IE   \n",
       "385  dataflow  ESTAT:STS_COLB_A(1.0)    A     EMPL       F   NSA  PCH_SM  GB   \n",
       "386  dataflow  ESTAT:STS_COLB_A(1.0)    A     EMPL       F   NSA  PCH_SM  GB   \n",
       "387  dataflow  ESTAT:STS_COLB_A(1.0)    A     EMPL       F   NSA  PCH_SM  GB   \n",
       "388  dataflow  ESTAT:STS_COLB_A(1.0)    A     EMPL       F   NSA  PCH_SM  GB   \n",
       "389  dataflow  ESTAT:STS_COLB_A(1.0)    A     EMPL       F   NSA  PCH_SM  GB   \n",
       "390  dataflow  ESTAT:STS_COLB_A(1.0)    A     EMPL       F   NSA  PCH_SM  GB   \n",
       "391  dataflow  ESTAT:STS_COLB_A(1.0)    A     EMPL       F   NSA  PCH_SM  GB   \n",
       "392  dataflow  ESTAT:STS_COLB_A(1.0)    A     EMPL       F   NSA  PCH_SM  GB   \n",
       "393  dataflow  ESTAT:STS_COLB_A(1.0)    A     EMPL       F   NSA  PCH_SM  GB   \n",
       "394  dataflow  ESTAT:STS_COLB_A(1.0)    A     EMPL       F   NSA  PCH_SM  GB   \n",
       "395  dataflow  ESTAT:STS_COLB_A(1.0)    A     EMPL       F   NSA  PCH_SM  GB   \n",
       "\n",
       "     TIME_PERIOD  OBS_VALUE OBS_FLAG         country  \n",
       "176         2009      -31.6     None         Ireland  \n",
       "177         2010      -28.6     None         Ireland  \n",
       "178         2011       -7.9     None         Ireland  \n",
       "179         2012       -7.4     None         Ireland  \n",
       "180         2013        0.4     None         Ireland  \n",
       "181         2014       11.7     None         Ireland  \n",
       "182         2015       17.4     None         Ireland  \n",
       "183         2016       14.2     None         Ireland  \n",
       "184         2017        8.2     None         Ireland  \n",
       "185         2018       12.1     None         Ireland  \n",
       "186         2019        5.3     None         Ireland  \n",
       "385         2009       -3.1     None  United Kingdom  \n",
       "386         2010       -9.8     None  United Kingdom  \n",
       "387         2011       -2.3     None  United Kingdom  \n",
       "388         2012       -1.5     None  United Kingdom  \n",
       "389         2013        0.1     None  United Kingdom  \n",
       "390         2014        3.7     None  United Kingdom  \n",
       "391         2015        3.7     None  United Kingdom  \n",
       "392         2016        2.7     None  United Kingdom  \n",
       "393         2017        5.6     None  United Kingdom  \n",
       "394         2018        0.3     None  United Kingdom  \n",
       "395         2019        2.9     None  United Kingdom  "
      ]
     },
     "execution_count": 50,
     "metadata": {},
     "output_type": "execute_result"
    }
   ],
   "source": [
    "df_ire_uk"
   ]
  },
  {
   "cell_type": "code",
   "execution_count": null,
   "metadata": {},
   "outputs": [],
   "source": []
  }
 ],
 "metadata": {
  "kernelspec": {
   "display_name": "Python 3",
   "language": "python",
   "name": "python3"
  },
  "language_info": {
   "codemirror_mode": {
    "name": "ipython",
    "version": 3
   },
   "file_extension": ".py",
   "mimetype": "text/x-python",
   "name": "python",
   "nbconvert_exporter": "python",
   "pygments_lexer": "ipython3",
   "version": "3.11.3"
  },
  "orig_nbformat": 4
 },
 "nbformat": 4,
 "nbformat_minor": 2
}

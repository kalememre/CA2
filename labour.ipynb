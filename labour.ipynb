{
 "cells": [
  {
   "cell_type": "code",
   "execution_count": 91,
   "metadata": {},
   "outputs": [],
   "source": [
    "import pandas as pd"
   ]
  },
  {
   "cell_type": "code",
   "execution_count": 92,
   "metadata": {},
   "outputs": [],
   "source": [
    "df = pd.read_csv('labour.csv')"
   ]
  },
  {
   "attachments": {},
   "cell_type": "markdown",
   "metadata": {},
   "source": [
    " - Here I am aiming to save my dataset in mysql database and use it in my project. I will use the sqlalchemy library for this.\n",
    " - I will have to define an engine() for this process, but before that, two different situations arise as a connection string. This is because I will first connect to my database and create a database with a name I want. Then, in order to save my dataset to the database, I need to reconnect my engine() connection with the name of the database I created.\n",
    " - It looks like a code mess, but whatever method I tried, I couldn't succeed. For the reasons I explained in the previous article, I had to manage engine() with two different connection strings in this way.\n",
    " - Instead of using a local mysql solution, I created an azure mysql database, which is one of the free services specially defined for students, using the azure portal of the microsoft company and I will use it in my project."
   ]
  },
  {
   "cell_type": "code",
   "execution_count": 116,
   "metadata": {},
   "outputs": [
    {
     "name": "stdout",
     "output_type": "stream",
     "text": [
      "2023-05-07 21:51:47,750 INFO sqlalchemy.engine.Engine SELECT DATABASE()\n",
      "2023-05-07 21:51:47,751 INFO sqlalchemy.engine.Engine [raw sql] {}\n",
      "2023-05-07 21:51:48,265 INFO sqlalchemy.engine.Engine SELECT @@sql_mode\n",
      "2023-05-07 21:51:48,267 INFO sqlalchemy.engine.Engine [raw sql] {}\n",
      "2023-05-07 21:51:48,518 INFO sqlalchemy.engine.Engine SELECT @@lower_case_table_names\n",
      "2023-05-07 21:51:48,519 INFO sqlalchemy.engine.Engine [raw sql] {}\n",
      "2023-05-07 21:51:48,852 INFO sqlalchemy.engine.Engine BEGIN (implicit)\n",
      "2023-05-07 21:51:48,854 INFO sqlalchemy.engine.Engine CREATE DATABASE IF NOT EXISTS cct_db;\n",
      "2023-05-07 21:51:48,855 INFO sqlalchemy.engine.Engine [generated in 0.16937s] {}\n",
      "2023-05-07 21:51:48,937 INFO sqlalchemy.engine.Engine ROLLBACK\n"
     ]
    }
   ],
   "source": [
    "from sqlalchemy import create_engine, text\n",
    "\n",
    "user = 'ca2023'\n",
    "password = 'CCT2023!'\n",
    "host = 'cctmysql.mysql.database.azure.com'\n",
    "port = 3306\n",
    "database = 'cct_db'\n",
    "\n",
    "engine_url = f'mysql+mysqlconnector://{user}:{password}@{host}:{port}'\n",
    "db_url = f'mysql+mysqlconnector://{user}:{password}@{host}:{port}/{database}'\n",
    "\n",
    "engine = create_engine(engine_url, echo=True)\n",
    "\n",
    "with engine.connect() as conn:\n",
    "    conn.execute(text(f\"CREATE DATABASE IF NOT EXISTS {database};\"))\n",
    "    conn.close()\n",
    "\n",
    "    "
   ]
  },
  {
   "attachments": {},
   "cell_type": "markdown",
   "metadata": {},
   "source": [
    " - Now that I have created my database, I will send the dataframe to my database using my connection string containing the database for engine().\n",
    " - I carry out my process by checking for errors due to the possibility of the current table name being in the database.\n",
    " - I am performing my operation using the **to_sql()** function of the pandas library."
   ]
  },
  {
   "cell_type": "code",
   "execution_count": 117,
   "metadata": {},
   "outputs": [
    {
     "name": "stdout",
     "output_type": "stream",
     "text": [
      "2023-05-07 21:51:50,854 INFO sqlalchemy.engine.Engine SELECT DATABASE()\n",
      "2023-05-07 21:51:50,855 INFO sqlalchemy.engine.Engine [raw sql] {}\n",
      "2023-05-07 21:51:51,330 INFO sqlalchemy.engine.Engine SELECT @@sql_mode\n",
      "2023-05-07 21:51:51,330 INFO sqlalchemy.engine.Engine [raw sql] {}\n",
      "2023-05-07 21:51:51,585 INFO sqlalchemy.engine.Engine SELECT @@lower_case_table_names\n",
      "2023-05-07 21:51:51,586 INFO sqlalchemy.engine.Engine [raw sql] {}\n",
      "2023-05-07 21:51:51,993 INFO sqlalchemy.engine.Engine BEGIN (implicit)\n",
      "2023-05-07 21:51:51,994 INFO sqlalchemy.engine.Engine DESCRIBE `cct_db`.`labour`\n",
      "2023-05-07 21:51:51,995 INFO sqlalchemy.engine.Engine [raw sql] {}\n",
      "2023-05-07 21:51:52,076 INFO sqlalchemy.engine.Engine ROLLBACK\n",
      "Table 'labour' already exists.\n"
     ]
    }
   ],
   "source": [
    "engine = create_engine(db_url, echo=True)\n",
    "try:\n",
    "    df.to_sql('labour', con=engine, if_exists='fail', index=False)\n",
    "except Exception as ex:\n",
    "    print(ex)\n",
    "else:\n",
    "    print(\"Table created\")"
   ]
  },
  {
   "cell_type": "code",
   "execution_count": 118,
   "metadata": {},
   "outputs": [
    {
     "name": "stdout",
     "output_type": "stream",
     "text": [
      "2023-05-07 21:51:53,822 INFO sqlalchemy.engine.Engine BEGIN (implicit)\n",
      "2023-05-07 21:51:53,822 INFO sqlalchemy.engine.Engine DESCRIBE `cct_db`.`labour`\n",
      "2023-05-07 21:51:53,823 INFO sqlalchemy.engine.Engine [raw sql] {}\n",
      "2023-05-07 21:51:54,095 INFO sqlalchemy.engine.Engine SHOW CREATE TABLE `labour`\n",
      "2023-05-07 21:51:54,096 INFO sqlalchemy.engine.Engine [raw sql] {}\n",
      "2023-05-07 21:51:54,356 INFO sqlalchemy.engine.Engine SELECT labour.`STRUCTURE`, labour.`STRUCTURE_ID`, labour.freq, labour.indic_bt, labour.nace_r2, labour.s_adj, labour.unit, labour.geo, labour.`TIME_PERIOD`, labour.`OBS_VALUE`, labour.`OBS_FLAG` \n",
      "FROM labour\n",
      "2023-05-07 21:51:54,357 INFO sqlalchemy.engine.Engine [generated in 0.17773s] {}\n"
     ]
    }
   ],
   "source": [
    "conn = engine.connect()\n",
    "sqldf = pd.read_sql_table('labour', conn)"
   ]
  },
  {
   "cell_type": "code",
   "execution_count": 121,
   "metadata": {},
   "outputs": [
    {
     "data": {
      "text/html": [
       "<div>\n",
       "<style scoped>\n",
       "    .dataframe tbody tr th:only-of-type {\n",
       "        vertical-align: middle;\n",
       "    }\n",
       "\n",
       "    .dataframe tbody tr th {\n",
       "        vertical-align: top;\n",
       "    }\n",
       "\n",
       "    .dataframe thead th {\n",
       "        text-align: right;\n",
       "    }\n",
       "</style>\n",
       "<table border=\"1\" class=\"dataframe\">\n",
       "  <thead>\n",
       "    <tr style=\"text-align: right;\">\n",
       "      <th></th>\n",
       "      <th>STRUCTURE</th>\n",
       "      <th>STRUCTURE_ID</th>\n",
       "      <th>freq</th>\n",
       "      <th>indic_bt</th>\n",
       "      <th>nace_r2</th>\n",
       "      <th>s_adj</th>\n",
       "      <th>unit</th>\n",
       "      <th>geo</th>\n",
       "      <th>TIME_PERIOD</th>\n",
       "      <th>OBS_VALUE</th>\n",
       "      <th>OBS_FLAG</th>\n",
       "    </tr>\n",
       "  </thead>\n",
       "  <tbody>\n",
       "    <tr>\n",
       "      <th>0</th>\n",
       "      <td>dataflow</td>\n",
       "      <td>ESTAT:STS_COLB_A(1.0)</td>\n",
       "      <td>A</td>\n",
       "      <td>EMPL</td>\n",
       "      <td>F</td>\n",
       "      <td>NSA</td>\n",
       "      <td>I10</td>\n",
       "      <td>AL</td>\n",
       "      <td>2005</td>\n",
       "      <td>76.9</td>\n",
       "      <td>None</td>\n",
       "    </tr>\n",
       "    <tr>\n",
       "      <th>1</th>\n",
       "      <td>dataflow</td>\n",
       "      <td>ESTAT:STS_COLB_A(1.0)</td>\n",
       "      <td>A</td>\n",
       "      <td>EMPL</td>\n",
       "      <td>F</td>\n",
       "      <td>NSA</td>\n",
       "      <td>I10</td>\n",
       "      <td>AL</td>\n",
       "      <td>2006</td>\n",
       "      <td>76.7</td>\n",
       "      <td>None</td>\n",
       "    </tr>\n",
       "    <tr>\n",
       "      <th>2</th>\n",
       "      <td>dataflow</td>\n",
       "      <td>ESTAT:STS_COLB_A(1.0)</td>\n",
       "      <td>A</td>\n",
       "      <td>EMPL</td>\n",
       "      <td>F</td>\n",
       "      <td>NSA</td>\n",
       "      <td>I10</td>\n",
       "      <td>AL</td>\n",
       "      <td>2007</td>\n",
       "      <td>74.1</td>\n",
       "      <td>None</td>\n",
       "    </tr>\n",
       "    <tr>\n",
       "      <th>3</th>\n",
       "      <td>dataflow</td>\n",
       "      <td>ESTAT:STS_COLB_A(1.0)</td>\n",
       "      <td>A</td>\n",
       "      <td>EMPL</td>\n",
       "      <td>F</td>\n",
       "      <td>NSA</td>\n",
       "      <td>I10</td>\n",
       "      <td>AL</td>\n",
       "      <td>2008</td>\n",
       "      <td>97.3</td>\n",
       "      <td>None</td>\n",
       "    </tr>\n",
       "    <tr>\n",
       "      <th>4</th>\n",
       "      <td>dataflow</td>\n",
       "      <td>ESTAT:STS_COLB_A(1.0)</td>\n",
       "      <td>A</td>\n",
       "      <td>EMPL</td>\n",
       "      <td>F</td>\n",
       "      <td>NSA</td>\n",
       "      <td>I10</td>\n",
       "      <td>AL</td>\n",
       "      <td>2009</td>\n",
       "      <td>103.7</td>\n",
       "      <td>None</td>\n",
       "    </tr>\n",
       "  </tbody>\n",
       "</table>\n",
       "</div>"
      ],
      "text/plain": [
       "  STRUCTURE           STRUCTURE_ID freq indic_bt nace_r2 s_adj unit geo  \\\n",
       "0  dataflow  ESTAT:STS_COLB_A(1.0)    A     EMPL       F   NSA  I10  AL   \n",
       "1  dataflow  ESTAT:STS_COLB_A(1.0)    A     EMPL       F   NSA  I10  AL   \n",
       "2  dataflow  ESTAT:STS_COLB_A(1.0)    A     EMPL       F   NSA  I10  AL   \n",
       "3  dataflow  ESTAT:STS_COLB_A(1.0)    A     EMPL       F   NSA  I10  AL   \n",
       "4  dataflow  ESTAT:STS_COLB_A(1.0)    A     EMPL       F   NSA  I10  AL   \n",
       "\n",
       "   TIME_PERIOD  OBS_VALUE OBS_FLAG  \n",
       "0         2005       76.9     None  \n",
       "1         2006       76.7     None  \n",
       "2         2007       74.1     None  \n",
       "3         2008       97.3     None  \n",
       "4         2009      103.7     None  "
      ]
     },
     "execution_count": 121,
     "metadata": {},
     "output_type": "execute_result"
    }
   ],
   "source": [
    "sqldf.head()"
   ]
  },
  {
   "cell_type": "code",
   "execution_count": 122,
   "metadata": {},
   "outputs": [
    {
     "data": {
      "text/plain": [
       "(9314, 11)"
      ]
     },
     "execution_count": 122,
     "metadata": {},
     "output_type": "execute_result"
    }
   ],
   "source": [
    "sqldf.shape"
   ]
  },
  {
   "cell_type": "code",
   "execution_count": 123,
   "metadata": {},
   "outputs": [
    {
     "name": "stdout",
     "output_type": "stream",
     "text": [
      "<class 'pandas.core.frame.DataFrame'>\n",
      "RangeIndex: 9314 entries, 0 to 9313\n",
      "Data columns (total 11 columns):\n",
      " #   Column        Non-Null Count  Dtype  \n",
      "---  ------        --------------  -----  \n",
      " 0   STRUCTURE     9314 non-null   object \n",
      " 1   STRUCTURE_ID  9314 non-null   object \n",
      " 2   freq          9314 non-null   object \n",
      " 3   indic_bt      9314 non-null   object \n",
      " 4   nace_r2       9314 non-null   object \n",
      " 5   s_adj         9314 non-null   object \n",
      " 6   unit          9314 non-null   object \n",
      " 7   geo           9314 non-null   object \n",
      " 8   TIME_PERIOD   9314 non-null   int64  \n",
      " 9   OBS_VALUE     9108 non-null   float64\n",
      " 10  OBS_FLAG      1717 non-null   object \n",
      "dtypes: float64(1), int64(1), object(9)\n",
      "memory usage: 800.6+ KB\n"
     ]
    }
   ],
   "source": [
    "sqldf.info()"
   ]
  },
  {
   "cell_type": "code",
   "execution_count": null,
   "metadata": {},
   "outputs": [],
   "source": []
  }
 ],
 "metadata": {
  "kernelspec": {
   "display_name": "Python 3",
   "language": "python",
   "name": "python3"
  },
  "language_info": {
   "codemirror_mode": {
    "name": "ipython",
    "version": 3
   },
   "file_extension": ".py",
   "mimetype": "text/x-python",
   "name": "python",
   "nbconvert_exporter": "python",
   "pygments_lexer": "ipython3",
   "version": "3.11.3"
  },
  "orig_nbformat": 4
 },
 "nbformat": 4,
 "nbformat_minor": 2
}
